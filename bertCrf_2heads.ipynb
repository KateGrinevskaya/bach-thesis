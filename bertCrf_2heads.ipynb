{
 "cells": [
  {
   "cell_type": "code",
   "execution_count": 1,
   "metadata": {
    "colab": {
     "base_uri": "https://localhost:8080/"
    },
    "id": "Bi0_5URCU-tv",
    "outputId": "e4fee9ee-3fae-428b-abad-b68581709bfe"
   },
   "outputs": [
    {
     "name": "stdout",
     "output_type": "stream",
     "text": [
      "Looking in indexes: https://pypi.org/simple, https://us-python.pkg.dev/colab-wheels/public/simple/\n",
      "Collecting transformers\n",
      "  Downloading transformers-4.19.2-py3-none-any.whl (4.2 MB)\n",
      "\u001b[K     |████████████████████████████████| 4.2 MB 21.4 MB/s \n",
      "\u001b[?25hRequirement already satisfied: requests in /usr/local/lib/python3.7/dist-packages (from transformers) (2.23.0)\n",
      "Requirement already satisfied: numpy>=1.17 in /usr/local/lib/python3.7/dist-packages (from transformers) (1.21.6)\n",
      "Collecting huggingface-hub<1.0,>=0.1.0\n",
      "  Downloading huggingface_hub-0.7.0-py3-none-any.whl (86 kB)\n",
      "\u001b[K     |████████████████████████████████| 86 kB 5.6 MB/s \n",
      "\u001b[?25hCollecting tokenizers!=0.11.3,<0.13,>=0.11.1\n",
      "  Downloading tokenizers-0.12.1-cp37-cp37m-manylinux_2_12_x86_64.manylinux2010_x86_64.whl (6.6 MB)\n",
      "\u001b[K     |████████████████████████████████| 6.6 MB 55.3 MB/s \n",
      "\u001b[?25hRequirement already satisfied: regex!=2019.12.17 in /usr/local/lib/python3.7/dist-packages (from transformers) (2019.12.20)\n",
      "Requirement already satisfied: filelock in /usr/local/lib/python3.7/dist-packages (from transformers) (3.7.0)\n",
      "Requirement already satisfied: importlib-metadata in /usr/local/lib/python3.7/dist-packages (from transformers) (4.11.3)\n",
      "Collecting pyyaml>=5.1\n",
      "  Downloading PyYAML-6.0-cp37-cp37m-manylinux_2_5_x86_64.manylinux1_x86_64.manylinux_2_12_x86_64.manylinux2010_x86_64.whl (596 kB)\n",
      "\u001b[K     |████████████████████████████████| 596 kB 58.1 MB/s \n",
      "\u001b[?25hRequirement already satisfied: packaging>=20.0 in /usr/local/lib/python3.7/dist-packages (from transformers) (21.3)\n",
      "Requirement already satisfied: tqdm>=4.27 in /usr/local/lib/python3.7/dist-packages (from transformers) (4.64.0)\n",
      "Requirement already satisfied: typing-extensions>=3.7.4.3 in /usr/local/lib/python3.7/dist-packages (from huggingface-hub<1.0,>=0.1.0->transformers) (4.2.0)\n",
      "Requirement already satisfied: pyparsing!=3.0.5,>=2.0.2 in /usr/local/lib/python3.7/dist-packages (from packaging>=20.0->transformers) (3.0.9)\n",
      "Requirement already satisfied: zipp>=0.5 in /usr/local/lib/python3.7/dist-packages (from importlib-metadata->transformers) (3.8.0)\n",
      "Requirement already satisfied: urllib3!=1.25.0,!=1.25.1,<1.26,>=1.21.1 in /usr/local/lib/python3.7/dist-packages (from requests->transformers) (1.24.3)\n",
      "Requirement already satisfied: certifi>=2017.4.17 in /usr/local/lib/python3.7/dist-packages (from requests->transformers) (2022.5.18.1)\n",
      "Requirement already satisfied: idna<3,>=2.5 in /usr/local/lib/python3.7/dist-packages (from requests->transformers) (2.10)\n",
      "Requirement already satisfied: chardet<4,>=3.0.2 in /usr/local/lib/python3.7/dist-packages (from requests->transformers) (3.0.4)\n",
      "Installing collected packages: pyyaml, tokenizers, huggingface-hub, transformers\n",
      "  Attempting uninstall: pyyaml\n",
      "    Found existing installation: PyYAML 3.13\n",
      "    Uninstalling PyYAML-3.13:\n",
      "      Successfully uninstalled PyYAML-3.13\n",
      "Successfully installed huggingface-hub-0.7.0 pyyaml-6.0 tokenizers-0.12.1 transformers-4.19.2\n"
     ]
    }
   ],
   "source": [
    "!pip install transformers"
   ]
  },
  {
   "cell_type": "code",
   "execution_count": 2,
   "metadata": {
    "colab": {
     "base_uri": "https://localhost:8080/"
    },
    "id": "Z9lyE-FpVAmE",
    "outputId": "ad0bc42e-0287-4fe7-af5c-bb6bbb8fb1ab"
   },
   "outputs": [
    {
     "name": "stdout",
     "output_type": "stream",
     "text": [
      "Looking in indexes: https://pypi.org/simple, https://us-python.pkg.dev/colab-wheels/public/simple/\n",
      "Collecting sklearn_crfsuite\n",
      "  Downloading sklearn_crfsuite-0.3.6-py2.py3-none-any.whl (12 kB)\n",
      "Collecting python-crfsuite>=0.8.3\n",
      "  Downloading python_crfsuite-0.9.8-cp37-cp37m-manylinux_2_17_x86_64.manylinux2014_x86_64.whl (965 kB)\n",
      "\u001b[K     |████████████████████████████████| 965 kB 39.7 MB/s \n",
      "\u001b[?25hRequirement already satisfied: six in /usr/local/lib/python3.7/dist-packages (from sklearn_crfsuite) (1.15.0)\n",
      "Requirement already satisfied: tabulate in /usr/local/lib/python3.7/dist-packages (from sklearn_crfsuite) (0.8.9)\n",
      "Requirement already satisfied: tqdm>=2.0 in /usr/local/lib/python3.7/dist-packages (from sklearn_crfsuite) (4.64.0)\n",
      "Installing collected packages: python-crfsuite, sklearn-crfsuite\n",
      "Successfully installed python-crfsuite-0.9.8 sklearn-crfsuite-0.3.6\n"
     ]
    }
   ],
   "source": [
    "!pip install sklearn_crfsuite"
   ]
  },
  {
   "cell_type": "code",
   "execution_count": 3,
   "metadata": {
    "colab": {
     "base_uri": "https://localhost:8080/"
    },
    "id": "jcd-pck6VAzj",
    "outputId": "00e1cfba-ac10-467a-ac85-d1139708716a"
   },
   "outputs": [
    {
     "name": "stdout",
     "output_type": "stream",
     "text": [
      "Looking in indexes: https://pypi.org/simple, https://us-python.pkg.dev/colab-wheels/public/simple/\n",
      "Collecting scikit-learn<0.24\n",
      "  Downloading scikit_learn-0.23.2-cp37-cp37m-manylinux1_x86_64.whl (6.8 MB)\n",
      "\u001b[K     |████████████████████████████████| 6.8 MB 24.9 MB/s \n",
      "\u001b[?25hRequirement already satisfied: numpy>=1.13.3 in /usr/local/lib/python3.7/dist-packages (from scikit-learn<0.24) (1.21.6)\n",
      "Requirement already satisfied: scipy>=0.19.1 in /usr/local/lib/python3.7/dist-packages (from scikit-learn<0.24) (1.4.1)\n",
      "Requirement already satisfied: joblib>=0.11 in /usr/local/lib/python3.7/dist-packages (from scikit-learn<0.24) (1.1.0)\n",
      "Requirement already satisfied: threadpoolctl>=2.0.0 in /usr/local/lib/python3.7/dist-packages (from scikit-learn<0.24) (3.1.0)\n",
      "Installing collected packages: scikit-learn\n",
      "  Attempting uninstall: scikit-learn\n",
      "    Found existing installation: scikit-learn 1.0.2\n",
      "    Uninstalling scikit-learn-1.0.2:\n",
      "      Successfully uninstalled scikit-learn-1.0.2\n",
      "\u001b[31mERROR: pip's dependency resolver does not currently take into account all the packages that are installed. This behaviour is the source of the following dependency conflicts.\n",
      "yellowbrick 1.4 requires scikit-learn>=1.0.0, but you have scikit-learn 0.23.2 which is incompatible.\n",
      "imbalanced-learn 0.8.1 requires scikit-learn>=0.24, but you have scikit-learn 0.23.2 which is incompatible.\u001b[0m\n",
      "Successfully installed scikit-learn-0.23.2\n"
     ]
    }
   ],
   "source": [
    "!pip install -U 'scikit-learn<0.24'"
   ]
  },
  {
   "cell_type": "code",
   "execution_count": 4,
   "metadata": {
    "colab": {
     "base_uri": "https://localhost:8080/"
    },
    "id": "ofKz5l37VA28",
    "outputId": "e96cfb51-a957-4932-d92e-b23f9bdc22d6"
   },
   "outputs": [
    {
     "name": "stdout",
     "output_type": "stream",
     "text": [
      "Looking in indexes: https://pypi.org/simple, https://us-python.pkg.dev/colab-wheels/public/simple/\n",
      "Collecting pytorch-crf\n",
      "  Downloading pytorch_crf-0.7.2-py3-none-any.whl (9.5 kB)\n",
      "Installing collected packages: pytorch-crf\n",
      "Successfully installed pytorch-crf-0.7.2\n"
     ]
    }
   ],
   "source": [
    "! pip install pytorch-crf"
   ]
  },
  {
   "cell_type": "code",
   "execution_count": 11,
   "metadata": {
    "id": "apXHzeNTVA7I"
   },
   "outputs": [],
   "source": [
    "import os\n",
    "import pandas as pd\n",
    "import re\n",
    "import numpy as np\n",
    "import torch\n",
    "from torch import nn, optim\n",
    "from torch.utils.data import Dataset, DataLoader\n",
    "import torch.nn.functional as F\n",
    "from torch.nn import CrossEntropyLoss\n",
    "from torchcrf import CRF\n",
    "from transformers import BertTokenizer, BertTokenizerFast, Trainer, TrainingArguments, BertForSequenceClassification, AdamW, get_linear_schedule_with_warmup\n",
    "from transformers import BertPreTrainedModel, BertModel\n",
    "from transformers.modeling_outputs import TokenClassifierOutput\n",
    "from sklearn.model_selection import train_test_split\n",
    "from sklearn.metrics import confusion_matrix, classification_report, f1_score\n",
    "import seaborn as sns\n",
    "from transformers.trainer_utils import IntervalStrategy"
   ]
  },
  {
   "cell_type": "code",
   "execution_count": 6,
   "metadata": {
    "id": "BYzCR_kGVBAn"
   },
   "outputs": [],
   "source": [
    "tokens_data = pd.read_csv('train_tokens.csv', dtype={'sent_index': str, 'token': str, 'tag': str}, sep=';')\n",
    "tokens_data_test = pd.read_csv('test_tokens.csv', dtype={'sent_index': str, 'token': str, 'tag': str}, sep=';')\n",
    "tokens_data_eval = pd.read_csv('eval_tokens.csv', dtype={'sent_index': str, 'token': str, 'tag': str}, sep=';')\n",
    "sents_data = pd.read_csv('train_sents.csv', dtype={'sent_index': str, 'sent_text': str, 'def': str}, sep=';')\n",
    "sents_data_test = pd.read_csv('test_sents.csv', dtype={'sent_index': str, 'sent_text': str, 'def': str}, sep=';')\n",
    "sents_data_eval = pd.read_csv('eval_sents.csv', dtype={'sent_index': str, 'sent_text': str, 'has_def': str}, sep=';')"
   ]
  },
  {
   "cell_type": "code",
   "execution_count": 7,
   "metadata": {
    "id": "kayqnW-TVb3e"
   },
   "outputs": [],
   "source": [
    "def enrich_tokens_data(tokens_df, sents_df):\n",
    "    tags = []\n",
    "    for row in tokens_df.itertuples():\n",
    "        small_d = sents_df.loc[sents_df['sent_index'] == row.sent_index]\n",
    "        tags.append(str((list(small_d['has_def']))[0]))\n",
    "    return tags"
   ]
  },
  {
   "cell_type": "code",
   "execution_count": 8,
   "metadata": {
    "id": "pkFATjmYVelQ"
   },
   "outputs": [],
   "source": [
    "tokens_data['sent_has_def'] = enrich_tokens_data(tokens_data, sents_data)\n",
    "tokens_data_test['sent_has_def'] = enrich_tokens_data(tokens_data_test, sents_data_test)\n",
    "tokens_data_eval['sent_has_def'] = enrich_tokens_data(tokens_data_eval, sents_data_eval)"
   ]
  },
  {
   "cell_type": "code",
   "execution_count": 9,
   "metadata": {
    "id": "aB0DiaKFWPzG"
   },
   "outputs": [],
   "source": [
    "PRE_TRAINED_MODEL_NAME = \"DeepPavlov/rubert-base-cased\""
   ]
  },
  {
   "cell_type": "code",
   "execution_count": 12,
   "metadata": {
    "colab": {
     "base_uri": "https://localhost:8080/",
     "height": 145,
     "referenced_widgets": [
      "dc3858560b0143718d18ae233289d0ef",
      "21e20207964d4145a6d348aaf4c6ab14",
      "20869c2019cf4af08560f2c84b8cdca4",
      "b1ae90e1792f48cf953e24d448288d12",
      "13d31cc7de0b4c7b8b7109cf1dbf8aed",
      "9f6ba93bf31c48f7a8b1d892c9d54a42",
      "ab3d3745ae7345819fbcb6d6060c1d08",
      "2b1bd19e5ea64e64bc93ecd3db4c75a5",
      "7dbc11d504d34afd99a23ed2e477e920",
      "b17908de9b7d408caa1e05e26cd19601",
      "07b28b10a300417883f22e8173401be4",
      "ef16469ba5544fc9bd6bf73138fb41f4",
      "71b06650206e4a449647f36ae8f3d2a9",
      "f0e9d950693e4f4e8a17fdcd832a3057",
      "536ea7d234794fb795bc3b427f26ac76",
      "a687fe958630436abc674c9789e347b2",
      "20fef8d5f0b340eda4279f1f9244fc02",
      "8c34dd1f82b041039ecc887d251068fe",
      "2f4612a52c2942cba0a63bf281370f6c",
      "d0059445ccae480f85c8936889fcab1c",
      "2b33772411714dcea7f34c56662e72ef",
      "01acb7ee61c04fce83e17e19c237422a",
      "210ee298dee440e3af694f59e25747c3",
      "65a13deb7f2c46849b2a21ffb0bf35d5",
      "a173465c0bbd45388c5cc6cc97ba65dd",
      "0d3f08a628f04daab22d3bf10d239037",
      "6cbca58535b847ab8cf6275e179bed0a",
      "cb6451cf07bd4bd587ddf9fdb89384fa",
      "c35a30765b334aa2b04eaafcfa2b90b5",
      "420261b223b54eec88b9cb30ed82bffe",
      "ff2f67afcaa94bad9aca315b54f5eae8",
      "43febb05b61f42dd9cc56a123c7ca2e4",
      "ab9dd95601cf446c92a57071356fdea7",
      "e077b2fd482b4abdbb492e88cbf15e42",
      "8fc0cb5a9c564743a9516455d1db6d1c",
      "a60dd1b2d8ec49d290c89e98fce7a699",
      "c632ccc67c144434aed36ec1384c502a",
      "182fa62935a24e03a54ac7fdf4d3afe3",
      "181fd766de1c4d298b80cdb60401e563",
      "eb6976cc7e2c4dbbbcd50e5ddf601e71",
      "8aaf36b9faca407d86a30673e5b1886f",
      "85658199f7584f73b355a93886124005",
      "bc0913cfa0824d4d9541186c5970e508",
      "73a6cc4f3ad94e0fbefd87d18d862168"
     ]
    },
    "id": "pSTzvvLfWQlP",
    "outputId": "a8929708-7520-4b2d-ce43-79aad462787e"
   },
   "outputs": [
    {
     "data": {
      "application/vnd.jupyter.widget-view+json": {
       "model_id": "dc3858560b0143718d18ae233289d0ef",
       "version_major": 2,
       "version_minor": 0
      },
      "text/plain": [
       "Downloading:   0%|          | 0.00/1.57M [00:00<?, ?B/s]"
      ]
     },
     "metadata": {},
     "output_type": "display_data"
    },
    {
     "data": {
      "application/vnd.jupyter.widget-view+json": {
       "model_id": "ef16469ba5544fc9bd6bf73138fb41f4",
       "version_major": 2,
       "version_minor": 0
      },
      "text/plain": [
       "Downloading:   0%|          | 0.00/112 [00:00<?, ?B/s]"
      ]
     },
     "metadata": {},
     "output_type": "display_data"
    },
    {
     "data": {
      "application/vnd.jupyter.widget-view+json": {
       "model_id": "210ee298dee440e3af694f59e25747c3",
       "version_major": 2,
       "version_minor": 0
      },
      "text/plain": [
       "Downloading:   0%|          | 0.00/24.0 [00:00<?, ?B/s]"
      ]
     },
     "metadata": {},
     "output_type": "display_data"
    },
    {
     "data": {
      "application/vnd.jupyter.widget-view+json": {
       "model_id": "e077b2fd482b4abdbb492e88cbf15e42",
       "version_major": 2,
       "version_minor": 0
      },
      "text/plain": [
       "Downloading:   0%|          | 0.00/642 [00:00<?, ?B/s]"
      ]
     },
     "metadata": {},
     "output_type": "display_data"
    }
   ],
   "source": [
    "tokenizer = BertTokenizer.from_pretrained(PRE_TRAINED_MODEL_NAME)"
   ]
  },
  {
   "cell_type": "code",
   "execution_count": 13,
   "metadata": {
    "id": "QoGiLaN6Vo3I"
   },
   "outputs": [],
   "source": [
    "def bert_style_tokenize(df):\n",
    "    tokens = []\n",
    "    tags = []\n",
    "    masks = []\n",
    "    sents_tagrets = []\n",
    "    for ind in set(list(df['sent_index'])):\n",
    "        tokens_sent = []\n",
    "        tags_sent = []\n",
    "        masks_sent = []\n",
    "        tokens_list = list(df.loc[df.sent_index == ind]['token'])\n",
    "        tags_list = list(df.loc[df.sent_index == ind]['tag'])\n",
    "        for i, t in enumerate(tokens_list):\n",
    "            bert_t = tokenizer.tokenize(t)\n",
    "            mask = []\n",
    "            tag_t = []\n",
    "            tag_t.append(tags_list[i])\n",
    "            mask.append(1)\n",
    "            tag_t.extend(['X' for i in range(len(bert_t)-1)])\n",
    "            mask.extend([0 for i in range(len(bert_t)-1)])\n",
    "            tokens_sent.extend(bert_t)\n",
    "            masks_sent.extend(mask)\n",
    "            tags_sent.extend(tag_t)\n",
    "        sents_tagrets.append(list(df.loc[df.sent_index == ind]['sent_has_def'])[0])\n",
    "        tokens.append(tokens_sent)\n",
    "        tags.append(tags_sent)\n",
    "        masks.append(masks_sent)\n",
    "    return tokens, tags, masks, sents_tagrets\n",
    "\n",
    "bert_tokens_train, bert_tags_train, masks_train, sents_tagrets_train = bert_style_tokenize(tokens_data)\n",
    "bert_tokens_test, bert_tags_test, masks_test, sents_tagrets_test = bert_style_tokenize(tokens_data_test)\n",
    "bert_tokens_eval, bert_tags_eval, masks_eval, sents_tagrets_eval = bert_style_tokenize(tokens_data_eval)"
   ]
  },
  {
   "cell_type": "code",
   "execution_count": 14,
   "metadata": {
    "id": "DShF5frHbVz3"
   },
   "outputs": [],
   "source": [
    "# for t, m, l, k in zip(sents_tagrets_train[:5], masks_train[:5], bert_tags_train[:5], bert_tokens_train[:5]):\n",
    "#     print(t, m, l, k)"
   ]
  },
  {
   "cell_type": "code",
   "execution_count": 15,
   "metadata": {
    "id": "6JBLBnFTXbYo"
   },
   "outputs": [],
   "source": [
    "MAX_LEN = 128\n",
    "tags_2id = {'B-TERM':0, 'I-TERM':1, 'B-DEF':2, 'I-DEF':3, 'O':4, 'X': 5}"
   ]
  },
  {
   "cell_type": "code",
   "execution_count": 16,
   "metadata": {
    "id": "WiL3mjm8WMs6"
   },
   "outputs": [],
   "source": [
    "class TokensDataset(torch.utils.data.Dataset):\n",
    "\n",
    "    def __init__(self, bert_tokens, bert_tags, masks, sent_targets, tokenizer, MAX_LEN):\n",
    "        self.bert_tokens = bert_tokens\n",
    "        self.bert_tags = bert_tags\n",
    "        self.masks = masks\n",
    "        self.sent_targets = sent_targets\n",
    "        self.tokenizer = tokenizer\n",
    "        self.MAX_LEN = MAX_LEN\n",
    "  \n",
    "    def __getitem__(self, idx):\n",
    "        tokens = self.bert_tokens[idx][:]\n",
    "        tags = self.bert_tags[idx][:]\n",
    "        masks_id = self.masks[idx][:]\n",
    "        tags = ['X'] + tags + ['X']\n",
    "        masks_id = [0]+masks_id+[0]\n",
    "        tags = [tags_2id[i] for i in tags]\n",
    "        tokens.append('SEP')\n",
    "        tokens = ['CLS'] + tokens\n",
    "        tokens2ids = tokenizer.convert_tokens_to_ids(tokens)\n",
    "        tokens_mask = [1 for i in range(len(tokens2ids))]\n",
    "        if len(tokens)>self.MAX_LEN:\n",
    "            tokens2ids = tokens2ids[:self.MAX_LEN]\n",
    "            tags = tags[:self.MAX_LEN]\n",
    "            masks_id = masks_id[:self.MAX_LEN]\n",
    "            tokens_mask = tokens_mask[:self.MAX_LEN]\n",
    "        else:\n",
    "            tokens2ids.extend([0 for i in range(MAX_LEN-len(tokens2ids))])\n",
    "            tags.extend([tags_2id['X'] for i in range(MAX_LEN-len(tags))])\n",
    "            masks_id.extend([0 for i in range(MAX_LEN-len(masks_id))])\n",
    "            tokens_mask.extend([0 for i in range(MAX_LEN-len(tokens_mask))])\n",
    "        return {\n",
    "            'ids': torch.tensor(tokens2ids, dtype=torch.long),\n",
    "            'targets': torch.tensor(tags, dtype=torch.long),\n",
    "            'crf_masks': torch.tensor(masks_id).bool(),\n",
    "            'bert_masks': torch.tensor(tokens_mask).bool(),\n",
    "            'sent_targets': [int(self.sent_targets[idx])]*self.MAX_LEN\n",
    "        }\n",
    "\n",
    "    def __len__(self):\n",
    "        return len(self.bert_tokens)"
   ]
  },
  {
   "cell_type": "code",
   "execution_count": 17,
   "metadata": {
    "id": "Uks-nQlHSxW1"
   },
   "outputs": [],
   "source": [
    "device = torch.device(\"cuda:0\" if torch.cuda.is_available() else \"cpu\")"
   ]
  },
  {
   "cell_type": "code",
   "execution_count": 18,
   "metadata": {
    "id": "Ubl7Scl4XXPQ"
   },
   "outputs": [],
   "source": [
    "train_dataset = TokensDataset(bert_tokens_train, bert_tags_train, masks_train, sents_tagrets_train, tokenizer, MAX_LEN)\n",
    "test_dataset = TokensDataset(bert_tokens_test, bert_tags_test, masks_test, sents_tagrets_test, tokenizer, MAX_LEN)\n",
    "eval_dataset = TokensDataset(bert_tokens_eval, bert_tags_eval, masks_eval, sents_tagrets_eval, tokenizer, MAX_LEN)"
   ]
  },
  {
   "cell_type": "code",
   "execution_count": 19,
   "metadata": {
    "id": "5Zv8yVmOXpmH"
   },
   "outputs": [],
   "source": [
    "train_data_loader = DataLoader(train_dataset, 16)\n",
    "test_data_loader = DataLoader(test_dataset, 16)\n",
    "eval_data_loader = DataLoader(eval_dataset, 16)"
   ]
  },
  {
   "cell_type": "code",
   "execution_count": 20,
   "metadata": {
    "id": "AgP-rVFEXpuh"
   },
   "outputs": [],
   "source": [
    "# next(iter(train_data_loader))"
   ]
  },
  {
   "cell_type": "code",
   "execution_count": 21,
   "metadata": {
    "id": "WZ93tbd6ePD1"
   },
   "outputs": [],
   "source": [
    "lossBin = nn.BCEWithLogitsLoss()"
   ]
  },
  {
   "cell_type": "code",
   "execution_count": 38,
   "metadata": {
    "id": "QXqOriigX9RH"
   },
   "outputs": [],
   "source": [
    "class BinaryHead(nn.Module):\n",
    "\n",
    "    def __init__(self, hidden_size):\n",
    "        super().__init__()\n",
    "        self.classifier = nn.Linear(hidden_size, 1)\n",
    "        self.dropout = nn.Dropout(0.1)\n",
    "        self.sigmoid = nn.Sigmoid()\n",
    "    \n",
    "    def forward(self, input_embeds):\n",
    "        cls_token = input_embeds[0][:,0]\n",
    "        cls_token = self.dropout(cls_token)\n",
    "        class_logits = self.classifier(cls_token)\n",
    "        return class_logits\n",
    "\n",
    "    def predict(self, input_embeds):\n",
    "        class_logits = self.forward(input_embeds)\n",
    "        class_probs = self.sigmoid(class_logits)\n",
    "        return class_probs"
   ]
  },
  {
   "cell_type": "code",
   "execution_count": 39,
   "metadata": {
    "id": "WkZsHmQ4eb4X"
   },
   "outputs": [],
   "source": [
    "class CRFHead(nn.Module):\n",
    "\n",
    "    def __init__(self, num_labels, hidden_dropout_prob, hidden_size):\n",
    "        super().__init__()\n",
    "        self.num_labels = num_labels\n",
    "        self.dropout = nn.Dropout(hidden_dropout_prob)\n",
    "        self.classifier = nn.Linear(hidden_size, num_labels)\n",
    "        self.crf = CRF(num_tags=num_labels, batch_first=True)\n",
    "\n",
    "    def forward(\n",
    "        self,\n",
    "        input_embeds):\n",
    "\n",
    "        sequence_output = input_embeds\n",
    "        sequence_output = self.dropout(sequence_output)\n",
    "        logits = self.classifier(sequence_output)\n",
    "        return logits\n",
    "\n",
    "    def loss(self, logits, labels, crf_masks):\n",
    "        logits = logits[:,1:]\n",
    "        labels = labels[:,1:]\n",
    "        crf_masks = crf_masks[:,1:]\n",
    "        log_likelihood = self.crf(logits, labels, mask=crf_masks)\n",
    "        loss = 0 - log_likelihood\n",
    "        return loss\n",
    "    \n",
    "    def predict(self, logits, crf_masks):\n",
    "        logits = logits[:,1:]\n",
    "        crf_masks = crf_masks[:,1:]\n",
    "        tags = self.crf.decode(logits, mask=crf_masks)\n",
    "        return tags"
   ]
  },
  {
   "cell_type": "code",
   "execution_count": 53,
   "metadata": {
    "colab": {
     "base_uri": "https://localhost:8080/"
    },
    "id": "LwOd21UnfBxJ",
    "outputId": "4e304279-8617-4012-c883-da07191c69ae"
   },
   "outputs": [
    {
     "name": "stderr",
     "output_type": "stream",
     "text": [
      "Some weights of the model checkpoint at DeepPavlov/rubert-base-cased were not used when initializing BertModel: ['cls.predictions.transform.dense.weight', 'cls.predictions.bias', 'cls.predictions.transform.dense.bias', 'cls.predictions.decoder.bias', 'cls.predictions.transform.LayerNorm.weight', 'cls.seq_relationship.bias', 'cls.predictions.decoder.weight', 'cls.predictions.transform.LayerNorm.bias', 'cls.seq_relationship.weight']\n",
      "- This IS expected if you are initializing BertModel from the checkpoint of a model trained on another task or with another architecture (e.g. initializing a BertForSequenceClassification model from a BertForPreTraining model).\n",
      "- This IS NOT expected if you are initializing BertModel from the checkpoint of a model that you expect to be exactly identical (initializing a BertForSequenceClassification model from a BertForSequenceClassification model).\n"
     ]
    }
   ],
   "source": [
    "binaryHead = BinaryHead(768).to(device)\n",
    "crfHead = CRFHead(6, 0.1, 768).to(device)\n",
    "encoder = BertModel.from_pretrained(PRE_TRAINED_MODEL_NAME).to(device)\n",
    "optimizer = optim.Adam(list(encoder.parameters())+list(binaryHead.parameters())+list(crfHead.parameters()), lr=0.0001)"
   ]
  },
  {
   "cell_type": "code",
   "execution_count": 42,
   "metadata": {
    "id": "-tXu2j-2fLzV"
   },
   "outputs": [],
   "source": [
    "def train_epoch(data_loader, optimizer):\n",
    "    binaryHead.train()\n",
    "    encoder.train()\n",
    "    crfHead.train()\n",
    "    loss_epoch=0\n",
    "    binary_loss_epoch=0\n",
    "    crf_loss_epoch=0\n",
    "    for d in data_loader:\n",
    "        input_ids = d['ids'].to(device)\n",
    "        targets = d['targets'].to(device)\n",
    "        crf_masks = d['crf_masks'].to(device)\n",
    "        bert_masks = d['bert_masks'].to(device)\n",
    "        sent_targets = d['sent_targets'][0].view(bert_masks.shape[0],1).float().to(device)\n",
    "        output = encoder(input_ids=input_ids,\n",
    "                attention_mask=bert_masks)\n",
    "        \n",
    "        binary_logits = binaryHead(output)\n",
    "        binary_loss = lossBin(binary_logits, sent_targets)\n",
    "        binary_loss_epoch += binary_loss.item()\n",
    "        \n",
    "        sent_targets_list = d['sent_targets'][0]\n",
    "        indexes = [i for i in range(len(sent_targets_list)) if sent_targets_list[i]==1]\n",
    "        crf_inputs = torch.index_select(output[0], 0, torch.tensor(indexes, dtype=torch.long).to(device))\n",
    "        targets = torch.index_select(targets, 0, torch.tensor(indexes, dtype=torch.long).to(device))\n",
    "        crf_masks = torch.index_select(crf_masks, 0, torch.tensor(indexes, dtype=torch.long).to(device))\n",
    "\n",
    "        crf_logits = crfHead(crf_inputs)\n",
    "        crf_loss = crfHead.loss(crf_logits, targets, crf_masks)*0.001\n",
    "        crf_loss_epoch += crf_loss.item()\n",
    "\n",
    "        loss = crf_loss + binary_loss\n",
    "        loss.backward()\n",
    "        loss_epoch += loss.item()\n",
    "        optimizer.step()\n",
    "        optimizer.zero_grad()\n",
    "    return binary_loss_epoch, crf_loss_epoch, loss_epoch"
   ]
  },
  {
   "cell_type": "code",
   "execution_count": 43,
   "metadata": {
    "id": "JF8-c5-ZhZ7X"
   },
   "outputs": [],
   "source": [
    "def evaluate(data_loader):\n",
    "    binaryHead.eval()\n",
    "    encoder.eval()\n",
    "    crfHead.eval()\n",
    "    loss_epoch=0\n",
    "    binary_loss_epoch=0\n",
    "    crf_loss_epoch=0\n",
    "    targets_list = []\n",
    "    preds = []\n",
    "    bin_preds = []\n",
    "    sent_targets_list = []\n",
    "    for d in data_loader:\n",
    "        input_ids = d['ids'].to(device)\n",
    "        targets = d['targets'].to(device)\n",
    "        crf_masks = d['crf_masks'].to(device)\n",
    "        bert_masks = d['bert_masks'].to(device)\n",
    "        sent_targets = d['sent_targets'][0].view(bert_masks.shape[0],1).float().to(device)\n",
    "        output = encoder(input_ids=input_ids,\n",
    "                attention_mask=bert_masks)\n",
    "        \n",
    "        binary_logits = binaryHead(output)\n",
    "        binary_loss = lossBin(binary_logits, sent_targets)\n",
    "        binary_preds = binaryHead.predict(output)\n",
    "        binary_preds = torch.round(binary_preds)\n",
    "        bin_preds.extend(binary_preds.tolist())\n",
    "        sent_targets_list.extend(d['sent_targets'][0])\n",
    "\n",
    "        sent_targets_crf_list = d['sent_targets'][0]\n",
    "        indexes = [i for i in range(len(sent_targets_crf_list)) if sent_targets_crf_list[i]==1]\n",
    "        crf_inputs = torch.index_select(output[0], 0, torch.tensor(indexes, dtype=torch.long).to(device))\n",
    "        targets = torch.index_select(targets, 0, torch.tensor(indexes, dtype=torch.long).to(device))\n",
    "        crf_masks = torch.index_select(crf_masks, 0, torch.tensor(indexes, dtype=torch.long).to(device))\n",
    "\n",
    "        crf_logits = crfHead(crf_inputs)\n",
    "        crf_preds = crfHead.predict(crf_logits, crf_masks)\n",
    "        crf_preds = sum(crf_preds, [])\n",
    "        preds.extend(crf_preds)\n",
    "\n",
    "        crf_loss = crfHead.loss(crf_logits, targets, crf_masks)*0.001\n",
    "        crf_loss_epoch += crf_loss.item()\n",
    "\n",
    "        loss = binary_loss + crf_loss\n",
    "        loss_epoch += loss.item()\n",
    "        \n",
    "        for i, sent_tar in enumerate(targets):\n",
    "            targets_sent = [i for i in sent_tar.tolist() if i != 5]\n",
    "            targets_list.extend(targets_sent)\n",
    "        \n",
    "    return binary_loss_epoch, crf_loss_epoch, loss_epoch, preds, targets_list, bin_preds, sent_targets_list"
   ]
  },
  {
   "cell_type": "code",
   "execution_count": 54,
   "metadata": {
    "colab": {
     "base_uri": "https://localhost:8080/"
    },
    "id": "4H-iZfPQhUY6",
    "outputId": "5dcc825a-ef01-4791-aaf1-546ae6f02725"
   },
   "outputs": [
    {
     "name": "stdout",
     "output_type": "stream",
     "text": [
      "Epoch: 0\n",
      "Epoch: 1\n",
      "Epoch: 2\n",
      "Epoch: 3\n",
      "Epoch: 4\n",
      "Epoch: 5\n",
      "Epoch: 6\n",
      "Epoch: 7\n"
     ]
    }
   ],
   "source": [
    "binary_losses = []\n",
    "crf_losses = []\n",
    "losses = []\n",
    "eval_binary_losses = []\n",
    "eval_crf_losses = []\n",
    "eval_losses = []\n",
    "for e in range(8):\n",
    "    print(f'Epoch: {e}')\n",
    "    binary_loss_epoch, crf_loss_epoch, loss_epoch = train_epoch(train_data_loader, optimizer)\n",
    "    binary_losses.append(binary_loss_epoch)\n",
    "    crf_losses.append(crf_loss_epoch)\n",
    "    losses.append(loss_epoch)\n",
    "    binary_loss_epoch, crf_loss_epoch, loss_epoch, preds, targets_list, bin_preds, sent_targets_list = evaluate(test_data_loader)\n",
    "    eval_binary_losses.append(binary_loss_epoch)\n",
    "    eval_crf_losses.append(crf_loss_epoch)\n",
    "    eval_losses.append(loss_epoch)"
   ]
  },
  {
   "cell_type": "code",
   "execution_count": 55,
   "metadata": {
    "id": "ITYY_yJytRXs"
   },
   "outputs": [],
   "source": [
    "import matplotlib.pyplot as plt\n",
    "def plot_losses(losses, val_losses):\n",
    "    plt.plot(losses)\n",
    "    plt.plot(val_losses)\n",
    "    plt.title('Loss value')\n",
    "    plt.ylabel('Loss')\n",
    "    plt.xlabel('epoch')\n",
    "    plt.legend(['train', 'val'], loc='upper right')\n",
    "    plt.show()"
   ]
  },
  {
   "cell_type": "code",
   "execution_count": 56,
   "metadata": {
    "colab": {
     "base_uri": "https://localhost:8080/",
     "height": 295
    },
    "id": "rsnwmfrqxF98",
    "outputId": "d1b5b21a-883f-4918-deb3-87c3f15d4380"
   },
   "outputs": [
    {
     "data": {
      "image/png": "[encoded data removed]",
      "text/plain": [
       "<Figure size 432x288 with 1 Axes>"
      ]
     },
     "metadata": {
      "needs_background": "light"
     },
     "output_type": "display_data"
    }
   ],
   "source": [
    "plot_losses(binary_losses, eval_binary_losses)"
   ]
  },
  {
   "cell_type": "code",
   "execution_count": 57,
   "metadata": {
    "colab": {
     "base_uri": "https://localhost:8080/",
     "height": 295
    },
    "id": "skBS-hh1xPGK",
    "outputId": "39bd4c09-c19c-450a-e113-dbf035d5a310"
   },
   "outputs": [
    {
     "data": {
      "image/png": "[encoded data removed]",
      "text/plain": [
       "<Figure size 432x288 with 1 Axes>"
      ]
     },
     "metadata": {
      "needs_background": "light"
     },
     "output_type": "display_data"
    }
   ],
   "source": [
    "plot_losses(crf_losses, eval_crf_losses)"
   ]
  },
  {
   "cell_type": "code",
   "execution_count": 58,
   "metadata": {
    "colab": {
     "base_uri": "https://localhost:8080/",
     "height": 295
    },
    "id": "Y7bupHhedfAK",
    "outputId": "5f7532bc-935a-4730-df44-da19cbc7473e"
   },
   "outputs": [
    {
     "data": {
      "image/png": "[encoded data removed]",
      "text/plain": [
       "<Figure size 432x288 with 1 Axes>"
      ]
     },
     "metadata": {
      "needs_background": "light"
     },
     "output_type": "display_data"
    }
   ],
   "source": [
    "plot_losses(losses, eval_losses)"
   ]
  },
  {
   "cell_type": "code",
   "execution_count": 59,
   "metadata": {
    "id": "u1ljlXmz9Og-"
   },
   "outputs": [],
   "source": [
    "binary_loss_epoch, crf_loss_epoch, loss_epoch, preds, targets_list, bin_preds, sent_targets_list = evaluate(eval_data_loader)"
   ]
  },
  {
   "cell_type": "code",
   "execution_count": 60,
   "metadata": {
    "colab": {
     "base_uri": "https://localhost:8080/"
    },
    "id": "z_yA-axaZpmf",
    "outputId": "1fb74ba0-cf54-429a-e41f-be883947d870"
   },
   "outputs": [
    {
     "name": "stdout",
     "output_type": "stream",
     "text": [
      "              precision    recall  f1-score   support\n",
      "\n",
      "      no_def       0.97      0.67      0.79        43\n",
      "     has_def       0.77      0.98      0.86        49\n",
      "\n",
      "    accuracy                           0.84        92\n",
      "   macro avg       0.87      0.83      0.83        92\n",
      "weighted avg       0.86      0.84      0.83        92\n",
      "\n"
     ]
    }
   ],
   "source": [
    "print(classification_report(sent_targets_list, bin_preds, target_names=['no_def', 'has_def']))"
   ]
  },
  {
   "cell_type": "code",
   "execution_count": 61,
   "metadata": {
    "colab": {
     "base_uri": "https://localhost:8080/",
     "height": 280
    },
    "id": "vWkhP9JxZyfv",
    "outputId": "fe172b8f-6504-4515-b1d7-b99dba42d7b6"
   },
   "outputs": [
    {
     "data": {
      "image/png": "[encoded data removed]",
      "text/plain": [
       "<Figure size 432x288 with 2 Axes>"
      ]
     },
     "metadata": {
      "needs_background": "light"
     },
     "output_type": "display_data"
    }
   ],
   "source": [
    "def show_confusion_matrix(confusion_matrix, class_names):\n",
    "  hmap = sns.heatmap(confusion_matrix, annot=True, fmt=\".2f\", cmap=\"Blues\", xticklabels=class_names, yticklabels=class_names)\n",
    "  plt.ylabel('True class')\n",
    "  plt.xlabel('Predicted class');\n",
    "\n",
    "cm = confusion_matrix(sent_targets_list, bin_preds)\n",
    "cmn = cm.astype(float) / cm.sum(axis=1)[:, np.newaxis]\n",
    "show_confusion_matrix(cmn, [\"no_def\", \"has_def\"])"
   ]
  },
  {
   "cell_type": "code",
   "execution_count": 62,
   "metadata": {
    "colab": {
     "base_uri": "https://localhost:8080/"
    },
    "id": "JObeBD_aZdm6",
    "outputId": "7713c9c6-75b8-4e85-c8b4-3faa76a90f16"
   },
   "outputs": [
    {
     "name": "stdout",
     "output_type": "stream",
     "text": [
      "              precision    recall  f1-score   support\n",
      "\n",
      "      B-TERM       0.31      0.85      0.45        55\n",
      "      I-TERM       0.36      0.30      0.33        50\n",
      "       B-DEF       0.03      0.04      0.03        51\n",
      "       I-DEF       0.84      0.81      0.83       936\n",
      "           O       0.66      0.56      0.61       477\n",
      "\n",
      "    accuracy                           0.69      1569\n",
      "   macro avg       0.44      0.51      0.45      1569\n",
      "weighted avg       0.73      0.69      0.70      1569\n",
      "\n"
     ]
    }
   ],
   "source": [
    "print(classification_report(targets_list, preds, target_names=['B-TERM', 'I-TERM', 'B-DEF', 'I-DEF', 'O']))"
   ]
  },
  {
   "cell_type": "code",
   "execution_count": 63,
   "metadata": {
    "colab": {
     "base_uri": "https://localhost:8080/",
     "height": 279
    },
    "id": "xYYJNNenl11D",
    "outputId": "21539eb1-2641-4623-e784-1437a2eac3b5"
   },
   "outputs": [
    {
     "data": {
      "image/png": "[encoded data removed]",
      "text/plain": [
       "<Figure size 432x288 with 2 Axes>"
      ]
     },
     "metadata": {
      "needs_background": "light"
     },
     "output_type": "display_data"
    }
   ],
   "source": [
    "cm = confusion_matrix(targets_list, preds)\n",
    "cmn = cm.astype(float) / cm.sum(axis=1)[:, np.newaxis]\n",
    "show_confusion_matrix(cmn, class_names=['B-TERM', 'I-TERM', 'B-DEF', 'I-DEF', 'O'])"
   ]
  },
  {
   "cell_type": "code",
   "execution_count": null,
   "metadata": {
    "id": "YI6EoAw7Bdp4"
   },
   "outputs": [],
   "source": []
  }
 ],
 "metadata": {
  "accelerator": "GPU",
  "colab": {
   "collapsed_sections": [],
   "name": "bertCRF_2heads.ipynb",
   "provenance": []
  },
  "kernelspec": {
   "display_name": "Python 3 (ipykernel)",
   "language": "python",
   "name": "python3"
  },
  "language_info": {
   "codemirror_mode": {
    "name": "ipython",
    "version": 3
   },
   "file_extension": ".py",
   "mimetype": "text/x-python",
   "name": "python",
   "nbconvert_exporter": "python",
   "pygments_lexer": "ipython3",
   "version": "3.9.7"
  },
  "widgets": {
   "application/vnd.jupyter.widget-state+json": {
    "01acb7ee61c04fce83e17e19c237422a": {
     "model_module": "@jupyter-widgets/controls",
     "model_module_version": "1.5.0",
     "model_name": "DescriptionStyleModel",
     "state": {
      "_model_module": "@jupyter-widgets/controls",
      "_model_module_version": "1.5.0",
      "_model_name": "DescriptionStyleModel",
      "_view_count": null,
      "_view_module": "@jupyter-widgets/base",
      "_view_module_version": "1.2.0",
      "_view_name": "StyleView",
      "description_width": ""
     }
    },
    "07b28b10a300417883f22e8173401be4": {
     "model_module": "@jupyter-widgets/controls",
     "model_module_version": "1.5.0",
     "model_name": "DescriptionStyleModel",
     "state": {
      "_model_module": "@jupyter-widgets/controls",
      "_model_module_version": "1.5.0",
      "_model_name": "DescriptionStyleModel",
      "_view_count": null,
      "_view_module": "@jupyter-widgets/base",
      "_view_module_version": "1.2.0",
      "_view_name": "StyleView",
      "description_width": ""
     }
    },
    "0d3f08a628f04daab22d3bf10d239037": {
     "model_module": "@jupyter-widgets/controls",
     "model_module_version": "1.5.0",
     "model_name": "HTMLModel",
     "state": {
      "_dom_classes": [],
      "_model_module": "@jupyter-widgets/controls",
      "_model_module_version": "1.5.0",
      "_model_name": "HTMLModel",
      "_view_count": null,
      "_view_module": "@jupyter-widgets/controls",
      "_view_module_version": "1.5.0",
      "_view_name": "HTMLView",
      "description": "",
      "description_tooltip": null,
      "layout": "IPY_MODEL_43febb05b61f42dd9cc56a123c7ca2e4",
      "placeholder": "​",
      "style": "IPY_MODEL_ab9dd95601cf446c92a57071356fdea7",
      "value": " 24.0/24.0 [00:00&lt;00:00, 534B/s]"
     }
    },
    "13d31cc7de0b4c7b8b7109cf1dbf8aed": {
     "model_module": "@jupyter-widgets/base",
     "model_module_version": "1.2.0",
     "model_name": "LayoutModel",
     "state": {
      "_model_module": "@jupyter-widgets/base",
      "_model_module_version": "1.2.0",
      "_model_name": "LayoutModel",
      "_view_count": null,
      "_view_module": "@jupyter-widgets/base",
      "_view_module_version": "1.2.0",
      "_view_name": "LayoutView",
      "align_content": null,
      "align_items": null,
      "align_self": null,
      "border": null,
      "bottom": null,
      "display": null,
      "flex": null,
      "flex_flow": null,
      "grid_area": null,
      "grid_auto_columns": null,
      "grid_auto_flow": null,
      "grid_auto_rows": null,
      "grid_column": null,
      "grid_gap": null,
      "grid_row": null,
      "grid_template_areas": null,
      "grid_template_columns": null,
      "grid_template_rows": null,
      "height": null,
      "justify_content": null,
      "justify_items": null,
      "left": null,
      "margin": null,
      "max_height": null,
      "max_width": null,
      "min_height": null,
      "min_width": null,
      "object_fit": null,
      "object_position": null,
      "order": null,
      "overflow": null,
      "overflow_x": null,
      "overflow_y": null,
      "padding": null,
      "right": null,
      "top": null,
      "visibility": null,
      "width": null
     }
    },
    "181fd766de1c4d298b80cdb60401e563": {
     "model_module": "@jupyter-widgets/base",
     "model_module_version": "1.2.0",
     "model_name": "LayoutModel",
     "state": {
      "_model_module": "@jupyter-widgets/base",
      "_model_module_version": "1.2.0",
      "_model_name": "LayoutModel",
      "_view_count": null,
      "_view_module": "@jupyter-widgets/base",
      "_view_module_version": "1.2.0",
      "_view_name": "LayoutView",
      "align_content": null,
      "align_items": null,
      "align_self": null,
      "border": null,
      "bottom": null,
      "display": null,
      "flex": null,
      "flex_flow": null,
      "grid_area": null,
      "grid_auto_columns": null,
      "grid_auto_flow": null,
      "grid_auto_rows": null,
      "grid_column": null,
      "grid_gap": null,
      "grid_row": null,
      "grid_template_areas": null,
      "grid_template_columns": null,
      "grid_template_rows": null,
      "height": null,
      "justify_content": null,
      "justify_items": null,
      "left": null,
      "margin": null,
      "max_height": null,
      "max_width": null,
      "min_height": null,
      "min_width": null,
      "object_fit": null,
      "object_position": null,
      "order": null,
      "overflow": null,
      "overflow_x": null,
      "overflow_y": null,
      "padding": null,
      "right": null,
      "top": null,
      "visibility": null,
      "width": null
     }
    },
    "182fa62935a24e03a54ac7fdf4d3afe3": {
     "model_module": "@jupyter-widgets/base",
     "model_module_version": "1.2.0",
     "model_name": "LayoutModel",
     "state": {
      "_model_module": "@jupyter-widgets/base",
      "_model_module_version": "1.2.0",
      "_model_name": "LayoutModel",
      "_view_count": null,
      "_view_module": "@jupyter-widgets/base",
      "_view_module_version": "1.2.0",
      "_view_name": "LayoutView",
      "align_content": null,
      "align_items": null,
      "align_self": null,
      "border": null,
      "bottom": null,
      "display": null,
      "flex": null,
      "flex_flow": null,
      "grid_area": null,
      "grid_auto_columns": null,
      "grid_auto_flow": null,
      "grid_auto_rows": null,
      "grid_column": null,
      "grid_gap": null,
      "grid_row": null,
      "grid_template_areas": null,
      "grid_template_columns": null,
      "grid_template_rows": null,
      "height": null,
      "justify_content": null,
      "justify_items": null,
      "left": null,
      "margin": null,
      "max_height": null,
      "max_width": null,
      "min_height": null,
      "min_width": null,
      "object_fit": null,
      "object_position": null,
      "order": null,
      "overflow": null,
      "overflow_x": null,
      "overflow_y": null,
      "padding": null,
      "right": null,
      "top": null,
      "visibility": null,
      "width": null
     }
    },
    "20869c2019cf4af08560f2c84b8cdca4": {
     "model_module": "@jupyter-widgets/controls",
     "model_module_version": "1.5.0",
     "model_name": "FloatProgressModel",
     "state": {
      "_dom_classes": [],
      "_model_module": "@jupyter-widgets/controls",
      "_model_module_version": "1.5.0",
      "_model_name": "FloatProgressModel",
      "_view_count": null,
      "_view_module": "@jupyter-widgets/controls",
      "_view_module_version": "1.5.0",
      "_view_name": "ProgressView",
      "bar_style": "success",
      "description": "",
      "description_tooltip": null,
      "layout": "IPY_MODEL_2b1bd19e5ea64e64bc93ecd3db4c75a5",
      "max": 1649718,
      "min": 0,
      "orientation": "horizontal",
      "style": "IPY_MODEL_7dbc11d504d34afd99a23ed2e477e920",
      "value": 1649718
     }
    },
    "20fef8d5f0b340eda4279f1f9244fc02": {
     "model_module": "@jupyter-widgets/base",
     "model_module_version": "1.2.0",
     "model_name": "LayoutModel",
     "state": {
      "_model_module": "@jupyter-widgets/base",
      "_model_module_version": "1.2.0",
      "_model_name": "LayoutModel",
      "_view_count": null,
      "_view_module": "@jupyter-widgets/base",
      "_view_module_version": "1.2.0",
      "_view_name": "LayoutView",
      "align_content": null,
      "align_items": null,
      "align_self": null,
      "border": null,
      "bottom": null,
      "display": null,
      "flex": null,
      "flex_flow": null,
      "grid_area": null,
      "grid_auto_columns": null,
      "grid_auto_flow": null,
      "grid_auto_rows": null,
      "grid_column": null,
      "grid_gap": null,
      "grid_row": null,
      "grid_template_areas": null,
      "grid_template_columns": null,
      "grid_template_rows": null,
      "height": null,
      "justify_content": null,
      "justify_items": null,
      "left": null,
      "margin": null,
      "max_height": null,
      "max_width": null,
      "min_height": null,
      "min_width": null,
      "object_fit": null,
      "object_position": null,
      "order": null,
      "overflow": null,
      "overflow_x": null,
      "overflow_y": null,
      "padding": null,
      "right": null,
      "top": null,
      "visibility": null,
      "width": null
     }
    },
    "210ee298dee440e3af694f59e25747c3": {
     "model_module": "@jupyter-widgets/controls",
     "model_module_version": "1.5.0",
     "model_name": "HBoxModel",
     "state": {
      "_dom_classes": [],
      "_model_module": "@jupyter-widgets/controls",
      "_model_module_version": "1.5.0",
      "_model_name": "HBoxModel",
      "_view_count": null,
      "_view_module": "@jupyter-widgets/controls",
      "_view_module_version": "1.5.0",
      "_view_name": "HBoxView",
      "box_style": "",
      "children": [
       "IPY_MODEL_65a13deb7f2c46849b2a21ffb0bf35d5",
       "IPY_MODEL_a173465c0bbd45388c5cc6cc97ba65dd",
       "IPY_MODEL_0d3f08a628f04daab22d3bf10d239037"
      ],
      "layout": "IPY_MODEL_6cbca58535b847ab8cf6275e179bed0a"
     }
    },
    "21e20207964d4145a6d348aaf4c6ab14": {
     "model_module": "@jupyter-widgets/controls",
     "model_module_version": "1.5.0",
     "model_name": "HTMLModel",
     "state": {
      "_dom_classes": [],
      "_model_module": "@jupyter-widgets/controls",
      "_model_module_version": "1.5.0",
      "_model_name": "HTMLModel",
      "_view_count": null,
      "_view_module": "@jupyter-widgets/controls",
      "_view_module_version": "1.5.0",
      "_view_name": "HTMLView",
      "description": "",
      "description_tooltip": null,
      "layout": "IPY_MODEL_9f6ba93bf31c48f7a8b1d892c9d54a42",
      "placeholder": "​",
      "style": "IPY_MODEL_ab3d3745ae7345819fbcb6d6060c1d08",
      "value": "Downloading: 100%"
     }
    },
    "2b1bd19e5ea64e64bc93ecd3db4c75a5": {
     "model_module": "@jupyter-widgets/base",
     "model_module_version": "1.2.0",
     "model_name": "LayoutModel",
     "state": {
      "_model_module": "@jupyter-widgets/base",
      "_model_module_version": "1.2.0",
      "_model_name": "LayoutModel",
      "_view_count": null,
      "_view_module": "@jupyter-widgets/base",
      "_view_module_version": "1.2.0",
      "_view_name": "LayoutView",
      "align_content": null,
      "align_items": null,
      "align_self": null,
      "border": null,
      "bottom": null,
      "display": null,
      "flex": null,
      "flex_flow": null,
      "grid_area": null,
      "grid_auto_columns": null,
      "grid_auto_flow": null,
      "grid_auto_rows": null,
      "grid_column": null,
      "grid_gap": null,
      "grid_row": null,
      "grid_template_areas": null,
      "grid_template_columns": null,
      "grid_template_rows": null,
      "height": null,
      "justify_content": null,
      "justify_items": null,
      "left": null,
      "margin": null,
      "max_height": null,
      "max_width": null,
      "min_height": null,
      "min_width": null,
      "object_fit": null,
      "object_position": null,
      "order": null,
      "overflow": null,
      "overflow_x": null,
      "overflow_y": null,
      "padding": null,
      "right": null,
      "top": null,
      "visibility": null,
      "width": null
     }
    },
    "2b33772411714dcea7f34c56662e72ef": {
     "model_module": "@jupyter-widgets/base",
     "model_module_version": "1.2.0",
     "model_name": "LayoutModel",
     "state": {
      "_model_module": "@jupyter-widgets/base",
      "_model_module_version": "1.2.0",
      "_model_name": "LayoutModel",
      "_view_count": null,
      "_view_module": "@jupyter-widgets/base",
      "_view_module_version": "1.2.0",
      "_view_name": "LayoutView",
      "align_content": null,
      "align_items": null,
      "align_self": null,
      "border": null,
      "bottom": null,
      "display": null,
      "flex": null,
      "flex_flow": null,
      "grid_area": null,
      "grid_auto_columns": null,
      "grid_auto_flow": null,
      "grid_auto_rows": null,
      "grid_column": null,
      "grid_gap": null,
      "grid_row": null,
      "grid_template_areas": null,
      "grid_template_columns": null,
      "grid_template_rows": null,
      "height": null,
      "justify_content": null,
      "justify_items": null,
      "left": null,
      "margin": null,
      "max_height": null,
      "max_width": null,
      "min_height": null,
      "min_width": null,
      "object_fit": null,
      "object_position": null,
      "order": null,
      "overflow": null,
      "overflow_x": null,
      "overflow_y": null,
      "padding": null,
      "right": null,
      "top": null,
      "visibility": null,
      "width": null
     }
    },
    "2f4612a52c2942cba0a63bf281370f6c": {
     "model_module": "@jupyter-widgets/base",
     "model_module_version": "1.2.0",
     "model_name": "LayoutModel",
     "state": {
      "_model_module": "@jupyter-widgets/base",
      "_model_module_version": "1.2.0",
      "_model_name": "LayoutModel",
      "_view_count": null,
      "_view_module": "@jupyter-widgets/base",
      "_view_module_version": "1.2.0",
      "_view_name": "LayoutView",
      "align_content": null,
      "align_items": null,
      "align_self": null,
      "border": null,
      "bottom": null,
      "display": null,
      "flex": null,
      "flex_flow": null,
      "grid_area": null,
      "grid_auto_columns": null,
      "grid_auto_flow": null,
      "grid_auto_rows": null,
      "grid_column": null,
      "grid_gap": null,
      "grid_row": null,
      "grid_template_areas": null,
      "grid_template_columns": null,
      "grid_template_rows": null,
      "height": null,
      "justify_content": null,
      "justify_items": null,
      "left": null,
      "margin": null,
      "max_height": null,
      "max_width": null,
      "min_height": null,
      "min_width": null,
      "object_fit": null,
      "object_position": null,
      "order": null,
      "overflow": null,
      "overflow_x": null,
      "overflow_y": null,
      "padding": null,
      "right": null,
      "top": null,
      "visibility": null,
      "width": null
     }
    },
    "420261b223b54eec88b9cb30ed82bffe": {
     "model_module": "@jupyter-widgets/base",
     "model_module_version": "1.2.0",
     "model_name": "LayoutModel",
     "state": {
      "_model_module": "@jupyter-widgets/base",
      "_model_module_version": "1.2.0",
      "_model_name": "LayoutModel",
      "_view_count": null,
      "_view_module": "@jupyter-widgets/base",
      "_view_module_version": "1.2.0",
      "_view_name": "LayoutView",
      "align_content": null,
      "align_items": null,
      "align_self": null,
      "border": null,
      "bottom": null,
      "display": null,
      "flex": null,
      "flex_flow": null,
      "grid_area": null,
      "grid_auto_columns": null,
      "grid_auto_flow": null,
      "grid_auto_rows": null,
      "grid_column": null,
      "grid_gap": null,
      "grid_row": null,
      "grid_template_areas": null,
      "grid_template_columns": null,
      "grid_template_rows": null,
      "height": null,
      "justify_content": null,
      "justify_items": null,
      "left": null,
      "margin": null,
      "max_height": null,
      "max_width": null,
      "min_height": null,
      "min_width": null,
      "object_fit": null,
      "object_position": null,
      "order": null,
      "overflow": null,
      "overflow_x": null,
      "overflow_y": null,
      "padding": null,
      "right": null,
      "top": null,
      "visibility": null,
      "width": null
     }
    },
    "43febb05b61f42dd9cc56a123c7ca2e4": {
     "model_module": "@jupyter-widgets/base",
     "model_module_version": "1.2.0",
     "model_name": "LayoutModel",
     "state": {
      "_model_module": "@jupyter-widgets/base",
      "_model_module_version": "1.2.0",
      "_model_name": "LayoutModel",
      "_view_count": null,
      "_view_module": "@jupyter-widgets/base",
      "_view_module_version": "1.2.0",
      "_view_name": "LayoutView",
      "align_content": null,
      "align_items": null,
      "align_self": null,
      "border": null,
      "bottom": null,
      "display": null,
      "flex": null,
      "flex_flow": null,
      "grid_area": null,
      "grid_auto_columns": null,
      "grid_auto_flow": null,
      "grid_auto_rows": null,
      "grid_column": null,
      "grid_gap": null,
      "grid_row": null,
      "grid_template_areas": null,
      "grid_template_columns": null,
      "grid_template_rows": null,
      "height": null,
      "justify_content": null,
      "justify_items": null,
      "left": null,
      "margin": null,
      "max_height": null,
      "max_width": null,
      "min_height": null,
      "min_width": null,
      "object_fit": null,
      "object_position": null,
      "order": null,
      "overflow": null,
      "overflow_x": null,
      "overflow_y": null,
      "padding": null,
      "right": null,
      "top": null,
      "visibility": null,
      "width": null
     }
    },
    "536ea7d234794fb795bc3b427f26ac76": {
     "model_module": "@jupyter-widgets/controls",
     "model_module_version": "1.5.0",
     "model_name": "HTMLModel",
     "state": {
      "_dom_classes": [],
      "_model_module": "@jupyter-widgets/controls",
      "_model_module_version": "1.5.0",
      "_model_name": "HTMLModel",
      "_view_count": null,
      "_view_module": "@jupyter-widgets/controls",
      "_view_module_version": "1.5.0",
      "_view_name": "HTMLView",
      "description": "",
      "description_tooltip": null,
      "layout": "IPY_MODEL_2b33772411714dcea7f34c56662e72ef",
      "placeholder": "​",
      "style": "IPY_MODEL_01acb7ee61c04fce83e17e19c237422a",
      "value": " 112/112 [00:00&lt;00:00, 3.07kB/s]"
     }
    },
    "65a13deb7f2c46849b2a21ffb0bf35d5": {
     "model_module": "@jupyter-widgets/controls",
     "model_module_version": "1.5.0",
     "model_name": "HTMLModel",
     "state": {
      "_dom_classes": [],
      "_model_module": "@jupyter-widgets/controls",
      "_model_module_version": "1.5.0",
      "_model_name": "HTMLModel",
      "_view_count": null,
      "_view_module": "@jupyter-widgets/controls",
      "_view_module_version": "1.5.0",
      "_view_name": "HTMLView",
      "description": "",
      "description_tooltip": null,
      "layout": "IPY_MODEL_cb6451cf07bd4bd587ddf9fdb89384fa",
      "placeholder": "​",
      "style": "IPY_MODEL_c35a30765b334aa2b04eaafcfa2b90b5",
      "value": "Downloading: 100%"
     }
    },
    "6cbca58535b847ab8cf6275e179bed0a": {
     "model_module": "@jupyter-widgets/base",
     "model_module_version": "1.2.0",
     "model_name": "LayoutModel",
     "state": {
      "_model_module": "@jupyter-widgets/base",
      "_model_module_version": "1.2.0",
      "_model_name": "LayoutModel",
      "_view_count": null,
      "_view_module": "@jupyter-widgets/base",
      "_view_module_version": "1.2.0",
      "_view_name": "LayoutView",
      "align_content": null,
      "align_items": null,
      "align_self": null,
      "border": null,
      "bottom": null,
      "display": null,
      "flex": null,
      "flex_flow": null,
      "grid_area": null,
      "grid_auto_columns": null,
      "grid_auto_flow": null,
      "grid_auto_rows": null,
      "grid_column": null,
      "grid_gap": null,
      "grid_row": null,
      "grid_template_areas": null,
      "grid_template_columns": null,
      "grid_template_rows": null,
      "height": null,
      "justify_content": null,
      "justify_items": null,
      "left": null,
      "margin": null,
      "max_height": null,
      "max_width": null,
      "min_height": null,
      "min_width": null,
      "object_fit": null,
      "object_position": null,
      "order": null,
      "overflow": null,
      "overflow_x": null,
      "overflow_y": null,
      "padding": null,
      "right": null,
      "top": null,
      "visibility": null,
      "width": null
     }
    },
    "71b06650206e4a449647f36ae8f3d2a9": {
     "model_module": "@jupyter-widgets/controls",
     "model_module_version": "1.5.0",
     "model_name": "HTMLModel",
     "state": {
      "_dom_classes": [],
      "_model_module": "@jupyter-widgets/controls",
      "_model_module_version": "1.5.0",
      "_model_name": "HTMLModel",
      "_view_count": null,
      "_view_module": "@jupyter-widgets/controls",
      "_view_module_version": "1.5.0",
      "_view_name": "HTMLView",
      "description": "",
      "description_tooltip": null,
      "layout": "IPY_MODEL_20fef8d5f0b340eda4279f1f9244fc02",
      "placeholder": "​",
      "style": "IPY_MODEL_8c34dd1f82b041039ecc887d251068fe",
      "value": "Downloading: 100%"
     }
    },
    "73a6cc4f3ad94e0fbefd87d18d862168": {
     "model_module": "@jupyter-widgets/controls",
     "model_module_version": "1.5.0",
     "model_name": "DescriptionStyleModel",
     "state": {
      "_model_module": "@jupyter-widgets/controls",
      "_model_module_version": "1.5.0",
      "_model_name": "DescriptionStyleModel",
      "_view_count": null,
      "_view_module": "@jupyter-widgets/base",
      "_view_module_version": "1.2.0",
      "_view_name": "StyleView",
      "description_width": ""
     }
    },
    "7dbc11d504d34afd99a23ed2e477e920": {
     "model_module": "@jupyter-widgets/controls",
     "model_module_version": "1.5.0",
     "model_name": "ProgressStyleModel",
     "state": {
      "_model_module": "@jupyter-widgets/controls",
      "_model_module_version": "1.5.0",
      "_model_name": "ProgressStyleModel",
      "_view_count": null,
      "_view_module": "@jupyter-widgets/base",
      "_view_module_version": "1.2.0",
      "_view_name": "StyleView",
      "bar_color": null,
      "description_width": ""
     }
    },
    "85658199f7584f73b355a93886124005": {
     "model_module": "@jupyter-widgets/controls",
     "model_module_version": "1.5.0",
     "model_name": "ProgressStyleModel",
     "state": {
      "_model_module": "@jupyter-widgets/controls",
      "_model_module_version": "1.5.0",
      "_model_name": "ProgressStyleModel",
      "_view_count": null,
      "_view_module": "@jupyter-widgets/base",
      "_view_module_version": "1.2.0",
      "_view_name": "StyleView",
      "bar_color": null,
      "description_width": ""
     }
    },
    "8aaf36b9faca407d86a30673e5b1886f": {
     "model_module": "@jupyter-widgets/base",
     "model_module_version": "1.2.0",
     "model_name": "LayoutModel",
     "state": {
      "_model_module": "@jupyter-widgets/base",
      "_model_module_version": "1.2.0",
      "_model_name": "LayoutModel",
      "_view_count": null,
      "_view_module": "@jupyter-widgets/base",
      "_view_module_version": "1.2.0",
      "_view_name": "LayoutView",
      "align_content": null,
      "align_items": null,
      "align_self": null,
      "border": null,
      "bottom": null,
      "display": null,
      "flex": null,
      "flex_flow": null,
      "grid_area": null,
      "grid_auto_columns": null,
      "grid_auto_flow": null,
      "grid_auto_rows": null,
      "grid_column": null,
      "grid_gap": null,
      "grid_row": null,
      "grid_template_areas": null,
      "grid_template_columns": null,
      "grid_template_rows": null,
      "height": null,
      "justify_content": null,
      "justify_items": null,
      "left": null,
      "margin": null,
      "max_height": null,
      "max_width": null,
      "min_height": null,
      "min_width": null,
      "object_fit": null,
      "object_position": null,
      "order": null,
      "overflow": null,
      "overflow_x": null,
      "overflow_y": null,
      "padding": null,
      "right": null,
      "top": null,
      "visibility": null,
      "width": null
     }
    },
    "8c34dd1f82b041039ecc887d251068fe": {
     "model_module": "@jupyter-widgets/controls",
     "model_module_version": "1.5.0",
     "model_name": "DescriptionStyleModel",
     "state": {
      "_model_module": "@jupyter-widgets/controls",
      "_model_module_version": "1.5.0",
      "_model_name": "DescriptionStyleModel",
      "_view_count": null,
      "_view_module": "@jupyter-widgets/base",
      "_view_module_version": "1.2.0",
      "_view_name": "StyleView",
      "description_width": ""
     }
    },
    "8fc0cb5a9c564743a9516455d1db6d1c": {
     "model_module": "@jupyter-widgets/controls",
     "model_module_version": "1.5.0",
     "model_name": "HTMLModel",
     "state": {
      "_dom_classes": [],
      "_model_module": "@jupyter-widgets/controls",
      "_model_module_version": "1.5.0",
      "_model_name": "HTMLModel",
      "_view_count": null,
      "_view_module": "@jupyter-widgets/controls",
      "_view_module_version": "1.5.0",
      "_view_name": "HTMLView",
      "description": "",
      "description_tooltip": null,
      "layout": "IPY_MODEL_181fd766de1c4d298b80cdb60401e563",
      "placeholder": "​",
      "style": "IPY_MODEL_eb6976cc7e2c4dbbbcd50e5ddf601e71",
      "value": "Downloading: 100%"
     }
    },
    "9f6ba93bf31c48f7a8b1d892c9d54a42": {
     "model_module": "@jupyter-widgets/base",
     "model_module_version": "1.2.0",
     "model_name": "LayoutModel",
     "state": {
      "_model_module": "@jupyter-widgets/base",
      "_model_module_version": "1.2.0",
      "_model_name": "LayoutModel",
      "_view_count": null,
      "_view_module": "@jupyter-widgets/base",
      "_view_module_version": "1.2.0",
      "_view_name": "LayoutView",
      "align_content": null,
      "align_items": null,
      "align_self": null,
      "border": null,
      "bottom": null,
      "display": null,
      "flex": null,
      "flex_flow": null,
      "grid_area": null,
      "grid_auto_columns": null,
      "grid_auto_flow": null,
      "grid_auto_rows": null,
      "grid_column": null,
      "grid_gap": null,
      "grid_row": null,
      "grid_template_areas": null,
      "grid_template_columns": null,
      "grid_template_rows": null,
      "height": null,
      "justify_content": null,
      "justify_items": null,
      "left": null,
      "margin": null,
      "max_height": null,
      "max_width": null,
      "min_height": null,
      "min_width": null,
      "object_fit": null,
      "object_position": null,
      "order": null,
      "overflow": null,
      "overflow_x": null,
      "overflow_y": null,
      "padding": null,
      "right": null,
      "top": null,
      "visibility": null,
      "width": null
     }
    },
    "a173465c0bbd45388c5cc6cc97ba65dd": {
     "model_module": "@jupyter-widgets/controls",
     "model_module_version": "1.5.0",
     "model_name": "FloatProgressModel",
     "state": {
      "_dom_classes": [],
      "_model_module": "@jupyter-widgets/controls",
      "_model_module_version": "1.5.0",
      "_model_name": "FloatProgressModel",
      "_view_count": null,
      "_view_module": "@jupyter-widgets/controls",
      "_view_module_version": "1.5.0",
      "_view_name": "ProgressView",
      "bar_style": "success",
      "description": "",
      "description_tooltip": null,
      "layout": "IPY_MODEL_420261b223b54eec88b9cb30ed82bffe",
      "max": 24,
      "min": 0,
      "orientation": "horizontal",
      "style": "IPY_MODEL_ff2f67afcaa94bad9aca315b54f5eae8",
      "value": 24
     }
    },
    "a60dd1b2d8ec49d290c89e98fce7a699": {
     "model_module": "@jupyter-widgets/controls",
     "model_module_version": "1.5.0",
     "model_name": "FloatProgressModel",
     "state": {
      "_dom_classes": [],
      "_model_module": "@jupyter-widgets/controls",
      "_model_module_version": "1.5.0",
      "_model_name": "FloatProgressModel",
      "_view_count": null,
      "_view_module": "@jupyter-widgets/controls",
      "_view_module_version": "1.5.0",
      "_view_name": "ProgressView",
      "bar_style": "success",
      "description": "",
      "description_tooltip": null,
      "layout": "IPY_MODEL_8aaf36b9faca407d86a30673e5b1886f",
      "max": 642,
      "min": 0,
      "orientation": "horizontal",
      "style": "IPY_MODEL_85658199f7584f73b355a93886124005",
      "value": 642
     }
    },
    "a687fe958630436abc674c9789e347b2": {
     "model_module": "@jupyter-widgets/base",
     "model_module_version": "1.2.0",
     "model_name": "LayoutModel",
     "state": {
      "_model_module": "@jupyter-widgets/base",
      "_model_module_version": "1.2.0",
      "_model_name": "LayoutModel",
      "_view_count": null,
      "_view_module": "@jupyter-widgets/base",
      "_view_module_version": "1.2.0",
      "_view_name": "LayoutView",
      "align_content": null,
      "align_items": null,
      "align_self": null,
      "border": null,
      "bottom": null,
      "display": null,
      "flex": null,
      "flex_flow": null,
      "grid_area": null,
      "grid_auto_columns": null,
      "grid_auto_flow": null,
      "grid_auto_rows": null,
      "grid_column": null,
      "grid_gap": null,
      "grid_row": null,
      "grid_template_areas": null,
      "grid_template_columns": null,
      "grid_template_rows": null,
      "height": null,
      "justify_content": null,
      "justify_items": null,
      "left": null,
      "margin": null,
      "max_height": null,
      "max_width": null,
      "min_height": null,
      "min_width": null,
      "object_fit": null,
      "object_position": null,
      "order": null,
      "overflow": null,
      "overflow_x": null,
      "overflow_y": null,
      "padding": null,
      "right": null,
      "top": null,
      "visibility": null,
      "width": null
     }
    },
    "ab3d3745ae7345819fbcb6d6060c1d08": {
     "model_module": "@jupyter-widgets/controls",
     "model_module_version": "1.5.0",
     "model_name": "DescriptionStyleModel",
     "state": {
      "_model_module": "@jupyter-widgets/controls",
      "_model_module_version": "1.5.0",
      "_model_name": "DescriptionStyleModel",
      "_view_count": null,
      "_view_module": "@jupyter-widgets/base",
      "_view_module_version": "1.2.0",
      "_view_name": "StyleView",
      "description_width": ""
     }
    },
    "ab9dd95601cf446c92a57071356fdea7": {
     "model_module": "@jupyter-widgets/controls",
     "model_module_version": "1.5.0",
     "model_name": "DescriptionStyleModel",
     "state": {
      "_model_module": "@jupyter-widgets/controls",
      "_model_module_version": "1.5.0",
      "_model_name": "DescriptionStyleModel",
      "_view_count": null,
      "_view_module": "@jupyter-widgets/base",
      "_view_module_version": "1.2.0",
      "_view_name": "StyleView",
      "description_width": ""
     }
    },
    "b17908de9b7d408caa1e05e26cd19601": {
     "model_module": "@jupyter-widgets/base",
     "model_module_version": "1.2.0",
     "model_name": "LayoutModel",
     "state": {
      "_model_module": "@jupyter-widgets/base",
      "_model_module_version": "1.2.0",
      "_model_name": "LayoutModel",
      "_view_count": null,
      "_view_module": "@jupyter-widgets/base",
      "_view_module_version": "1.2.0",
      "_view_name": "LayoutView",
      "align_content": null,
      "align_items": null,
      "align_self": null,
      "border": null,
      "bottom": null,
      "display": null,
      "flex": null,
      "flex_flow": null,
      "grid_area": null,
      "grid_auto_columns": null,
      "grid_auto_flow": null,
      "grid_auto_rows": null,
      "grid_column": null,
      "grid_gap": null,
      "grid_row": null,
      "grid_template_areas": null,
      "grid_template_columns": null,
      "grid_template_rows": null,
      "height": null,
      "justify_content": null,
      "justify_items": null,
      "left": null,
      "margin": null,
      "max_height": null,
      "max_width": null,
      "min_height": null,
      "min_width": null,
      "object_fit": null,
      "object_position": null,
      "order": null,
      "overflow": null,
      "overflow_x": null,
      "overflow_y": null,
      "padding": null,
      "right": null,
      "top": null,
      "visibility": null,
      "width": null
     }
    },
    "b1ae90e1792f48cf953e24d448288d12": {
     "model_module": "@jupyter-widgets/controls",
     "model_module_version": "1.5.0",
     "model_name": "HTMLModel",
     "state": {
      "_dom_classes": [],
      "_model_module": "@jupyter-widgets/controls",
      "_model_module_version": "1.5.0",
      "_model_name": "HTMLModel",
      "_view_count": null,
      "_view_module": "@jupyter-widgets/controls",
      "_view_module_version": "1.5.0",
      "_view_name": "HTMLView",
      "description": "",
      "description_tooltip": null,
      "layout": "IPY_MODEL_b17908de9b7d408caa1e05e26cd19601",
      "placeholder": "​",
      "style": "IPY_MODEL_07b28b10a300417883f22e8173401be4",
      "value": " 1.57M/1.57M [00:01&lt;00:00, 1.04MB/s]"
     }
    },
    "bc0913cfa0824d4d9541186c5970e508": {
     "model_module": "@jupyter-widgets/base",
     "model_module_version": "1.2.0",
     "model_name": "LayoutModel",
     "state": {
      "_model_module": "@jupyter-widgets/base",
      "_model_module_version": "1.2.0",
      "_model_name": "LayoutModel",
      "_view_count": null,
      "_view_module": "@jupyter-widgets/base",
      "_view_module_version": "1.2.0",
      "_view_name": "LayoutView",
      "align_content": null,
      "align_items": null,
      "align_self": null,
      "border": null,
      "bottom": null,
      "display": null,
      "flex": null,
      "flex_flow": null,
      "grid_area": null,
      "grid_auto_columns": null,
      "grid_auto_flow": null,
      "grid_auto_rows": null,
      "grid_column": null,
      "grid_gap": null,
      "grid_row": null,
      "grid_template_areas": null,
      "grid_template_columns": null,
      "grid_template_rows": null,
      "height": null,
      "justify_content": null,
      "justify_items": null,
      "left": null,
      "margin": null,
      "max_height": null,
      "max_width": null,
      "min_height": null,
      "min_width": null,
      "object_fit": null,
      "object_position": null,
      "order": null,
      "overflow": null,
      "overflow_x": null,
      "overflow_y": null,
      "padding": null,
      "right": null,
      "top": null,
      "visibility": null,
      "width": null
     }
    },
    "c35a30765b334aa2b04eaafcfa2b90b5": {
     "model_module": "@jupyter-widgets/controls",
     "model_module_version": "1.5.0",
     "model_name": "DescriptionStyleModel",
     "state": {
      "_model_module": "@jupyter-widgets/controls",
      "_model_module_version": "1.5.0",
      "_model_name": "DescriptionStyleModel",
      "_view_count": null,
      "_view_module": "@jupyter-widgets/base",
      "_view_module_version": "1.2.0",
      "_view_name": "StyleView",
      "description_width": ""
     }
    },
    "c632ccc67c144434aed36ec1384c502a": {
     "model_module": "@jupyter-widgets/controls",
     "model_module_version": "1.5.0",
     "model_name": "HTMLModel",
     "state": {
      "_dom_classes": [],
      "_model_module": "@jupyter-widgets/controls",
      "_model_module_version": "1.5.0",
      "_model_name": "HTMLModel",
      "_view_count": null,
      "_view_module": "@jupyter-widgets/controls",
      "_view_module_version": "1.5.0",
      "_view_name": "HTMLView",
      "description": "",
      "description_tooltip": null,
      "layout": "IPY_MODEL_bc0913cfa0824d4d9541186c5970e508",
      "placeholder": "​",
      "style": "IPY_MODEL_73a6cc4f3ad94e0fbefd87d18d862168",
      "value": " 642/642 [00:00&lt;00:00, 21.8kB/s]"
     }
    },
    "cb6451cf07bd4bd587ddf9fdb89384fa": {
     "model_module": "@jupyter-widgets/base",
     "model_module_version": "1.2.0",
     "model_name": "LayoutModel",
     "state": {
      "_model_module": "@jupyter-widgets/base",
      "_model_module_version": "1.2.0",
      "_model_name": "LayoutModel",
      "_view_count": null,
      "_view_module": "@jupyter-widgets/base",
      "_view_module_version": "1.2.0",
      "_view_name": "LayoutView",
      "align_content": null,
      "align_items": null,
      "align_self": null,
      "border": null,
      "bottom": null,
      "display": null,
      "flex": null,
      "flex_flow": null,
      "grid_area": null,
      "grid_auto_columns": null,
      "grid_auto_flow": null,
      "grid_auto_rows": null,
      "grid_column": null,
      "grid_gap": null,
      "grid_row": null,
      "grid_template_areas": null,
      "grid_template_columns": null,
      "grid_template_rows": null,
      "height": null,
      "justify_content": null,
      "justify_items": null,
      "left": null,
      "margin": null,
      "max_height": null,
      "max_width": null,
      "min_height": null,
      "min_width": null,
      "object_fit": null,
      "object_position": null,
      "order": null,
      "overflow": null,
      "overflow_x": null,
      "overflow_y": null,
      "padding": null,
      "right": null,
      "top": null,
      "visibility": null,
      "width": null
     }
    },
    "d0059445ccae480f85c8936889fcab1c": {
     "model_module": "@jupyter-widgets/controls",
     "model_module_version": "1.5.0",
     "model_name": "ProgressStyleModel",
     "state": {
      "_model_module": "@jupyter-widgets/controls",
      "_model_module_version": "1.5.0",
      "_model_name": "ProgressStyleModel",
      "_view_count": null,
      "_view_module": "@jupyter-widgets/base",
      "_view_module_version": "1.2.0",
      "_view_name": "StyleView",
      "bar_color": null,
      "description_width": ""
     }
    },
    "dc3858560b0143718d18ae233289d0ef": {
     "model_module": "@jupyter-widgets/controls",
     "model_module_version": "1.5.0",
     "model_name": "HBoxModel",
     "state": {
      "_dom_classes": [],
      "_model_module": "@jupyter-widgets/controls",
      "_model_module_version": "1.5.0",
      "_model_name": "HBoxModel",
      "_view_count": null,
      "_view_module": "@jupyter-widgets/controls",
      "_view_module_version": "1.5.0",
      "_view_name": "HBoxView",
      "box_style": "",
      "children": [
       "IPY_MODEL_21e20207964d4145a6d348aaf4c6ab14",
       "IPY_MODEL_20869c2019cf4af08560f2c84b8cdca4",
       "IPY_MODEL_b1ae90e1792f48cf953e24d448288d12"
      ],
      "layout": "IPY_MODEL_13d31cc7de0b4c7b8b7109cf1dbf8aed"
     }
    },
    "e077b2fd482b4abdbb492e88cbf15e42": {
     "model_module": "@jupyter-widgets/controls",
     "model_module_version": "1.5.0",
     "model_name": "HBoxModel",
     "state": {
      "_dom_classes": [],
      "_model_module": "@jupyter-widgets/controls",
      "_model_module_version": "1.5.0",
      "_model_name": "HBoxModel",
      "_view_count": null,
      "_view_module": "@jupyter-widgets/controls",
      "_view_module_version": "1.5.0",
      "_view_name": "HBoxView",
      "box_style": "",
      "children": [
       "IPY_MODEL_8fc0cb5a9c564743a9516455d1db6d1c",
       "IPY_MODEL_a60dd1b2d8ec49d290c89e98fce7a699",
       "IPY_MODEL_c632ccc67c144434aed36ec1384c502a"
      ],
      "layout": "IPY_MODEL_182fa62935a24e03a54ac7fdf4d3afe3"
     }
    },
    "eb6976cc7e2c4dbbbcd50e5ddf601e71": {
     "model_module": "@jupyter-widgets/controls",
     "model_module_version": "1.5.0",
     "model_name": "DescriptionStyleModel",
     "state": {
      "_model_module": "@jupyter-widgets/controls",
      "_model_module_version": "1.5.0",
      "_model_name": "DescriptionStyleModel",
      "_view_count": null,
      "_view_module": "@jupyter-widgets/base",
      "_view_module_version": "1.2.0",
      "_view_name": "StyleView",
      "description_width": ""
     }
    },
    "ef16469ba5544fc9bd6bf73138fb41f4": {
     "model_module": "@jupyter-widgets/controls",
     "model_module_version": "1.5.0",
     "model_name": "HBoxModel",
     "state": {
      "_dom_classes": [],
      "_model_module": "@jupyter-widgets/controls",
      "_model_module_version": "1.5.0",
      "_model_name": "HBoxModel",
      "_view_count": null,
      "_view_module": "@jupyter-widgets/controls",
      "_view_module_version": "1.5.0",
      "_view_name": "HBoxView",
      "box_style": "",
      "children": [
       "IPY_MODEL_71b06650206e4a449647f36ae8f3d2a9",
       "IPY_MODEL_f0e9d950693e4f4e8a17fdcd832a3057",
       "IPY_MODEL_536ea7d234794fb795bc3b427f26ac76"
      ],
      "layout": "IPY_MODEL_a687fe958630436abc674c9789e347b2"
     }
    },
    "f0e9d950693e4f4e8a17fdcd832a3057": {
     "model_module": "@jupyter-widgets/controls",
     "model_module_version": "1.5.0",
     "model_name": "FloatProgressModel",
     "state": {
      "_dom_classes": [],
      "_model_module": "@jupyter-widgets/controls",
      "_model_module_version": "1.5.0",
      "_model_name": "FloatProgressModel",
      "_view_count": null,
      "_view_module": "@jupyter-widgets/controls",
      "_view_module_version": "1.5.0",
      "_view_name": "ProgressView",
      "bar_style": "success",
      "description": "",
      "description_tooltip": null,
      "layout": "IPY_MODEL_2f4612a52c2942cba0a63bf281370f6c",
      "max": 112,
      "min": 0,
      "orientation": "horizontal",
      "style": "IPY_MODEL_d0059445ccae480f85c8936889fcab1c",
      "value": 112
     }
    },
    "ff2f67afcaa94bad9aca315b54f5eae8": {
     "model_module": "@jupyter-widgets/controls",
     "model_module_version": "1.5.0",
     "model_name": "ProgressStyleModel",
     "state": {
      "_model_module": "@jupyter-widgets/controls",
      "_model_module_version": "1.5.0",
      "_model_name": "ProgressStyleModel",
      "_view_count": null,
      "_view_module": "@jupyter-widgets/base",
      "_view_module_version": "1.2.0",
      "_view_name": "StyleView",
      "bar_color": null,
      "description_width": ""
     }
    }
   }
  }
 },
 "nbformat": 4,
 "nbformat_minor": 1
}
