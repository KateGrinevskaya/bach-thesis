{
  "cells": [
    {
      "cell_type": "code",
      "execution_count": 1,
      "metadata": {
        "colab": {
          "base_uri": "https://localhost:8080/"
        },
        "id": "VqgWYgfiNcnd",
        "outputId": "0e6ac550-d4ff-4c5d-dbb6-8b7f9fda1b3f"
      },
      "outputs": [
        {
          "output_type": "stream",
          "name": "stdout",
          "text": [
            "Looking in indexes: https://pypi.org/simple, https://us-python.pkg.dev/colab-wheels/public/simple/\n",
            "Collecting transformers\n",
            "  Downloading transformers-4.19.2-py3-none-any.whl (4.2 MB)\n",
            "\u001b[K     |████████████████████████████████| 4.2 MB 14.4 MB/s \n",
            "\u001b[?25hRequirement already satisfied: packaging>=20.0 in /usr/local/lib/python3.7/dist-packages (from transformers) (21.3)\n",
            "Requirement already satisfied: importlib-metadata in /usr/local/lib/python3.7/dist-packages (from transformers) (4.11.3)\n",
            "Collecting huggingface-hub<1.0,>=0.1.0\n",
            "  Downloading huggingface_hub-0.7.0-py3-none-any.whl (86 kB)\n",
            "\u001b[K     |████████████████████████████████| 86 kB 6.3 MB/s \n",
            "\u001b[?25hCollecting tokenizers!=0.11.3,<0.13,>=0.11.1\n",
            "  Downloading tokenizers-0.12.1-cp37-cp37m-manylinux_2_12_x86_64.manylinux2010_x86_64.whl (6.6 MB)\n",
            "\u001b[K     |████████████████████████████████| 6.6 MB 52.0 MB/s \n",
            "\u001b[?25hCollecting pyyaml>=5.1\n",
            "  Downloading PyYAML-6.0-cp37-cp37m-manylinux_2_5_x86_64.manylinux1_x86_64.manylinux_2_12_x86_64.manylinux2010_x86_64.whl (596 kB)\n",
            "\u001b[K     |████████████████████████████████| 596 kB 68.8 MB/s \n",
            "\u001b[?25hRequirement already satisfied: filelock in /usr/local/lib/python3.7/dist-packages (from transformers) (3.7.0)\n",
            "Requirement already satisfied: requests in /usr/local/lib/python3.7/dist-packages (from transformers) (2.23.0)\n",
            "Requirement already satisfied: tqdm>=4.27 in /usr/local/lib/python3.7/dist-packages (from transformers) (4.64.0)\n",
            "Requirement already satisfied: regex!=2019.12.17 in /usr/local/lib/python3.7/dist-packages (from transformers) (2019.12.20)\n",
            "Requirement already satisfied: numpy>=1.17 in /usr/local/lib/python3.7/dist-packages (from transformers) (1.21.6)\n",
            "Requirement already satisfied: typing-extensions>=3.7.4.3 in /usr/local/lib/python3.7/dist-packages (from huggingface-hub<1.0,>=0.1.0->transformers) (4.2.0)\n",
            "Requirement already satisfied: pyparsing!=3.0.5,>=2.0.2 in /usr/local/lib/python3.7/dist-packages (from packaging>=20.0->transformers) (3.0.9)\n",
            "Requirement already satisfied: zipp>=0.5 in /usr/local/lib/python3.7/dist-packages (from importlib-metadata->transformers) (3.8.0)\n",
            "Requirement already satisfied: chardet<4,>=3.0.2 in /usr/local/lib/python3.7/dist-packages (from requests->transformers) (3.0.4)\n",
            "Requirement already satisfied: idna<3,>=2.5 in /usr/local/lib/python3.7/dist-packages (from requests->transformers) (2.10)\n",
            "Requirement already satisfied: certifi>=2017.4.17 in /usr/local/lib/python3.7/dist-packages (from requests->transformers) (2022.5.18.1)\n",
            "Requirement already satisfied: urllib3!=1.25.0,!=1.25.1,<1.26,>=1.21.1 in /usr/local/lib/python3.7/dist-packages (from requests->transformers) (1.24.3)\n",
            "Installing collected packages: pyyaml, tokenizers, huggingface-hub, transformers\n",
            "  Attempting uninstall: pyyaml\n",
            "    Found existing installation: PyYAML 3.13\n",
            "    Uninstalling PyYAML-3.13:\n",
            "      Successfully uninstalled PyYAML-3.13\n",
            "Successfully installed huggingface-hub-0.7.0 pyyaml-6.0 tokenizers-0.12.1 transformers-4.19.2\n"
          ]
        }
      ],
      "source": [
        "!pip install transformers"
      ]
    },
    {
      "cell_type": "code",
      "execution_count": 2,
      "metadata": {
        "colab": {
          "base_uri": "https://localhost:8080/"
        },
        "id": "sCIPa9BkNyLm",
        "outputId": "fc470e4c-d165-41d5-b35c-ee17a8d7cf7f"
      },
      "outputs": [
        {
          "output_type": "stream",
          "name": "stdout",
          "text": [
            "Looking in indexes: https://pypi.org/simple, https://us-python.pkg.dev/colab-wheels/public/simple/\n",
            "Collecting scikit-learn<0.24\n",
            "  Downloading scikit_learn-0.23.2-cp37-cp37m-manylinux1_x86_64.whl (6.8 MB)\n",
            "\u001b[K     |████████████████████████████████| 6.8 MB 15.2 MB/s \n",
            "\u001b[?25hRequirement already satisfied: threadpoolctl>=2.0.0 in /usr/local/lib/python3.7/dist-packages (from scikit-learn<0.24) (3.1.0)\n",
            "Requirement already satisfied: joblib>=0.11 in /usr/local/lib/python3.7/dist-packages (from scikit-learn<0.24) (1.1.0)\n",
            "Requirement already satisfied: numpy>=1.13.3 in /usr/local/lib/python3.7/dist-packages (from scikit-learn<0.24) (1.21.6)\n",
            "Requirement already satisfied: scipy>=0.19.1 in /usr/local/lib/python3.7/dist-packages (from scikit-learn<0.24) (1.4.1)\n",
            "Installing collected packages: scikit-learn\n",
            "  Attempting uninstall: scikit-learn\n",
            "    Found existing installation: scikit-learn 1.0.2\n",
            "    Uninstalling scikit-learn-1.0.2:\n",
            "      Successfully uninstalled scikit-learn-1.0.2\n",
            "\u001b[31mERROR: pip's dependency resolver does not currently take into account all the packages that are installed. This behaviour is the source of the following dependency conflicts.\n",
            "yellowbrick 1.4 requires scikit-learn>=1.0.0, but you have scikit-learn 0.23.2 which is incompatible.\n",
            "imbalanced-learn 0.8.1 requires scikit-learn>=0.24, but you have scikit-learn 0.23.2 which is incompatible.\u001b[0m\n",
            "Successfully installed scikit-learn-0.23.2\n"
          ]
        }
      ],
      "source": [
        "!pip install -U 'scikit-learn<0.24'"
      ]
    },
    {
      "cell_type": "code",
      "execution_count": 3,
      "metadata": {
        "colab": {
          "base_uri": "https://localhost:8080/"
        },
        "id": "grf5VHshNiwE",
        "outputId": "2ef0e41e-142c-4a99-ed77-b856536444d2"
      },
      "outputs": [
        {
          "output_type": "stream",
          "name": "stdout",
          "text": [
            "Looking in indexes: https://pypi.org/simple, https://us-python.pkg.dev/colab-wheels/public/simple/\n",
            "Collecting pytorch-crf\n",
            "  Downloading pytorch_crf-0.7.2-py3-none-any.whl (9.5 kB)\n",
            "Installing collected packages: pytorch-crf\n",
            "Successfully installed pytorch-crf-0.7.2\n"
          ]
        }
      ],
      "source": [
        "! pip install pytorch-crf"
      ]
    },
    {
      "cell_type": "code",
      "execution_count": 4,
      "metadata": {
        "id": "A5wPslDWNm_V"
      },
      "outputs": [],
      "source": [
        "import pandas as pd\n",
        "import numpy as np\n",
        "import torch\n",
        "from torch import nn, optim\n",
        "from torch.utils.data import Dataset, DataLoader\n",
        "import torch.nn.functional as F\n",
        "from torch.nn import CrossEntropyLoss\n",
        "from torchcrf import CRF\n",
        "from transformers import BertTokenizer, BertTokenizerFast, BertForSequenceClassification, get_linear_schedule_with_warmup\n",
        "from transformers import BertPreTrainedModel, BertModel\n",
        "from transformers.modeling_outputs import TokenClassifierOutput\n",
        "from sklearn.metrics import confusion_matrix, classification_report, f1_score\n",
        "from transformers.trainer_utils import IntervalStrategy\n",
        "import seaborn as sns"
      ]
    },
    {
      "cell_type": "code",
      "execution_count": 5,
      "metadata": {
        "id": "oehqpziMNrvI"
      },
      "outputs": [],
      "source": [
        "PRE_TRAINED_MODEL_NAME = \"bert-base-multilingual-uncased\""
      ]
    },
    {
      "cell_type": "code",
      "execution_count": 6,
      "metadata": {
        "colab": {
          "base_uri": "https://localhost:8080/",
          "height": 113,
          "referenced_widgets": [
            "2fe19a2f80eb4f35b057269e05de1266",
            "4d5b06090b184969a6b6f77d9bdbaeb1",
            "29ca9883bae643598938bed9ca87b8f8",
            "69eb932103184bd6889b92e0fde0c2b6",
            "52e8da61f00140d88dbed616418033a9",
            "e447358c022c440096050e6b5af3a804",
            "08a4bc6e5c1b488f8b4ab583a259e2bf",
            "80a58487b3a74ff0a55d29c4ae14a058",
            "fffff4890f0d4615912df23e22a8c169",
            "543cd77a6a2148789458b923a252b509",
            "95861104bedf4a5584b3753dcd68fd68",
            "7c3c0198b9bb468286c23072efde9df7",
            "85722e310d4f448da471d9528bcdd3a8",
            "1aa98548297d41b9ad3fffd926f171e0",
            "c26ad9af23484721abf2807309285e19",
            "a406c33b92ec48b3b5b261ed1a9fb24d",
            "cc2d1094438a44758dc41d40cc1dd5b4",
            "4f57fe7d6fdc48b2a9c9b02c5fca1f5f",
            "befeb511f39e4ecaa389f9063ba941dc",
            "5ba8d09e7a464cf9abae269b585d475f",
            "5df5dcd637c942bc98bb6d3909b2b41b",
            "3d4e036fa8ec4954900fc5bcb6dcb22b",
            "ca17fe87557844c68da5a4e2b37ad227",
            "2d997555c70a4999b5e6628ad1d40893",
            "76cd8a003ea44c14a8e66eaf16277f5f",
            "af6a4a199d364aba815d31cf948f43d5",
            "d25b1278bae04541bd944798d4e2650f",
            "4f558ae136514a4583f8f398fb416bec",
            "d030a5fb49714e8581f10d90fa5c5eb6",
            "2477bb5569ff40acb842b0675bb5d6f3",
            "cd399502a66e41b69cda6da15a58ad44",
            "d5a84bab2e1747839a10d3c072381a50",
            "61fbe4563b8c47e28f6dbffaf1d1e183"
          ]
        },
        "id": "1MxLWLbRN14y",
        "outputId": "5e9defa1-2bd0-400b-cc31-06cfcee4209c"
      },
      "outputs": [
        {
          "output_type": "display_data",
          "data": {
            "text/plain": [
              "Downloading:   0%|          | 0.00/851k [00:00<?, ?B/s]"
            ],
            "application/vnd.jupyter.widget-view+json": {
              "version_major": 2,
              "version_minor": 0,
              "model_id": "2fe19a2f80eb4f35b057269e05de1266"
            }
          },
          "metadata": {}
        },
        {
          "output_type": "display_data",
          "data": {
            "text/plain": [
              "Downloading:   0%|          | 0.00/28.0 [00:00<?, ?B/s]"
            ],
            "application/vnd.jupyter.widget-view+json": {
              "version_major": 2,
              "version_minor": 0,
              "model_id": "7c3c0198b9bb468286c23072efde9df7"
            }
          },
          "metadata": {}
        },
        {
          "output_type": "display_data",
          "data": {
            "text/plain": [
              "Downloading:   0%|          | 0.00/625 [00:00<?, ?B/s]"
            ],
            "application/vnd.jupyter.widget-view+json": {
              "version_major": 2,
              "version_minor": 0,
              "model_id": "ca17fe87557844c68da5a4e2b37ad227"
            }
          },
          "metadata": {}
        }
      ],
      "source": [
        "tokenizer = BertTokenizer.from_pretrained(PRE_TRAINED_MODEL_NAME)"
      ]
    },
    {
      "cell_type": "code",
      "execution_count": 7,
      "metadata": {
        "id": "FPaMbGiHR0cz"
      },
      "outputs": [],
      "source": [
        "tokens_data = pd.read_csv('train_tokens.csv', dtype={'sent_index': str, 'token': str, 'tag': str}, sep=';')\n",
        "tokens_data_test = pd.read_csv('test_tokens.csv', dtype={'sent_index': str, 'token': str, 'tag': str}, sep=';')\n",
        "tokens_data_eval = pd.read_csv('eval_tokens.csv', dtype={'sent_index': str, 'token': str, 'tag': str}, sep=';')"
      ]
    },
    {
      "cell_type": "code",
      "execution_count": 8,
      "metadata": {
        "id": "ETDzDVMb0mOa"
      },
      "outputs": [],
      "source": [
        "sents_data = pd.read_csv('train_sents.csv', dtype={'sent_index': str, 'sent_text': str, 'def': str}, sep=';').rename(columns={\"def\": \"has_def\"})\n",
        "sents_data_test = pd.read_csv('test_sents.csv', dtype={'sent_index': str, 'sent_text': str, 'def': str}, sep=';').rename(columns={\"def\": \"has_def\"})\n",
        "sents_data_eval = pd.read_csv('eval_sents.csv', dtype={'sent_index': str, 'sent_text': str, 'has_def': str}, sep=';')"
      ]
    },
    {
      "cell_type": "markdown",
      "metadata": {
        "id": "Fi-usDtIkyXc"
      },
      "source": [
        "Посчитаем среднюю длину преложения в токенах."
      ]
    },
    {
      "cell_type": "code",
      "execution_count": 9,
      "metadata": {
        "colab": {
          "base_uri": "https://localhost:8080/"
        },
        "id": "lMZUlsKgkur1",
        "outputId": "fb45f1fd-11b0-41fb-de4f-7817870fa9e0"
      },
      "outputs": [
        {
          "output_type": "execute_result",
          "data": {
            "text/plain": [
              "28.344135802469136"
            ]
          },
          "metadata": {},
          "execution_count": 9
        }
      ],
      "source": [
        "sent_lens = []\n",
        "for ind in set(list(tokens_data['sent_index'])):\n",
        "    sent_len = len(tokens_data.loc[tokens_data.sent_index == ind])\n",
        "    sent_lens.append(sent_len)\n",
        "sum(sent_lens)/len(sent_lens)"
      ]
    },
    {
      "cell_type": "code",
      "execution_count": 10,
      "metadata": {
        "colab": {
          "base_uri": "https://localhost:8080/"
        },
        "id": "CcJobQDlmoX-",
        "outputId": "6ce9ad91-2302-4cf2-89d6-066239b7105e"
      },
      "outputs": [
        {
          "output_type": "execute_result",
          "data": {
            "text/plain": [
              "28.295698924731184"
            ]
          },
          "metadata": {},
          "execution_count": 10
        }
      ],
      "source": [
        "sent_lens = []\n",
        "for ind in set(list(tokens_data_test['sent_index'])):\n",
        "    sent_len = len(tokens_data_test.loc[tokens_data_test.sent_index == ind])\n",
        "    sent_lens.append(sent_len)\n",
        "sum(sent_lens)/len(sent_lens)"
      ]
    },
    {
      "cell_type": "code",
      "execution_count": 11,
      "metadata": {
        "colab": {
          "base_uri": "https://localhost:8080/",
          "height": 206
        },
        "id": "vR3TYnfPTC85",
        "outputId": "91c0d0da-a375-487d-fced-dc3a7318f9a9"
      },
      "outputs": [
        {
          "output_type": "execute_result",
          "data": {
            "text/plain": [
              "  sent_index       token tag\n",
              "0         12         Как   O\n",
              "1         12  дисциплина   O\n",
              "2         12           ,   O\n",
              "3         12     имеющая   O\n",
              "4         12         ряд   O"
            ],
            "text/html": [
              "\n",
              "  <div id=\"df-3be32b37-3903-4c96-aa57-86d97274871b\">\n",
              "    <div class=\"colab-df-container\">\n",
              "      <div>\n",
              "<style scoped>\n",
              "    .dataframe tbody tr th:only-of-type {\n",
              "        vertical-align: middle;\n",
              "    }\n",
              "\n",
              "    .dataframe tbody tr th {\n",
              "        vertical-align: top;\n",
              "    }\n",
              "\n",
              "    .dataframe thead th {\n",
              "        text-align: right;\n",
              "    }\n",
              "</style>\n",
              "<table border=\"1\" class=\"dataframe\">\n",
              "  <thead>\n",
              "    <tr style=\"text-align: right;\">\n",
              "      <th></th>\n",
              "      <th>sent_index</th>\n",
              "      <th>token</th>\n",
              "      <th>tag</th>\n",
              "    </tr>\n",
              "  </thead>\n",
              "  <tbody>\n",
              "    <tr>\n",
              "      <th>0</th>\n",
              "      <td>12</td>\n",
              "      <td>Как</td>\n",
              "      <td>O</td>\n",
              "    </tr>\n",
              "    <tr>\n",
              "      <th>1</th>\n",
              "      <td>12</td>\n",
              "      <td>дисциплина</td>\n",
              "      <td>O</td>\n",
              "    </tr>\n",
              "    <tr>\n",
              "      <th>2</th>\n",
              "      <td>12</td>\n",
              "      <td>,</td>\n",
              "      <td>O</td>\n",
              "    </tr>\n",
              "    <tr>\n",
              "      <th>3</th>\n",
              "      <td>12</td>\n",
              "      <td>имеющая</td>\n",
              "      <td>O</td>\n",
              "    </tr>\n",
              "    <tr>\n",
              "      <th>4</th>\n",
              "      <td>12</td>\n",
              "      <td>ряд</td>\n",
              "      <td>O</td>\n",
              "    </tr>\n",
              "  </tbody>\n",
              "</table>\n",
              "</div>\n",
              "      <button class=\"colab-df-convert\" onclick=\"convertToInteractive('df-3be32b37-3903-4c96-aa57-86d97274871b')\"\n",
              "              title=\"Convert this dataframe to an interactive table.\"\n",
              "              style=\"display:none;\">\n",
              "        \n",
              "  <svg xmlns=\"http://www.w3.org/2000/svg\" height=\"24px\"viewBox=\"0 0 24 24\"\n",
              "       width=\"24px\">\n",
              "    <path d=\"M0 0h24v24H0V0z\" fill=\"none\"/>\n",
              "    <path d=\"M18.56 5.44l.94 2.06.94-2.06 2.06-.94-2.06-.94-.94-2.06-.94 2.06-2.06.94zm-11 1L8.5 8.5l.94-2.06 2.06-.94-2.06-.94L8.5 2.5l-.94 2.06-2.06.94zm10 10l.94 2.06.94-2.06 2.06-.94-2.06-.94-.94-2.06-.94 2.06-2.06.94z\"/><path d=\"M17.41 7.96l-1.37-1.37c-.4-.4-.92-.59-1.43-.59-.52 0-1.04.2-1.43.59L10.3 9.45l-7.72 7.72c-.78.78-.78 2.05 0 2.83L4 21.41c.39.39.9.59 1.41.59.51 0 1.02-.2 1.41-.59l7.78-7.78 2.81-2.81c.8-.78.8-2.07 0-2.86zM5.41 20L4 18.59l7.72-7.72 1.47 1.35L5.41 20z\"/>\n",
              "  </svg>\n",
              "      </button>\n",
              "      \n",
              "  <style>\n",
              "    .colab-df-container {\n",
              "      display:flex;\n",
              "      flex-wrap:wrap;\n",
              "      gap: 12px;\n",
              "    }\n",
              "\n",
              "    .colab-df-convert {\n",
              "      background-color: #E8F0FE;\n",
              "      border: none;\n",
              "      border-radius: 50%;\n",
              "      cursor: pointer;\n",
              "      display: none;\n",
              "      fill: #1967D2;\n",
              "      height: 32px;\n",
              "      padding: 0 0 0 0;\n",
              "      width: 32px;\n",
              "    }\n",
              "\n",
              "    .colab-df-convert:hover {\n",
              "      background-color: #E2EBFA;\n",
              "      box-shadow: 0px 1px 2px rgba(60, 64, 67, 0.3), 0px 1px 3px 1px rgba(60, 64, 67, 0.15);\n",
              "      fill: #174EA6;\n",
              "    }\n",
              "\n",
              "    [theme=dark] .colab-df-convert {\n",
              "      background-color: #3B4455;\n",
              "      fill: #D2E3FC;\n",
              "    }\n",
              "\n",
              "    [theme=dark] .colab-df-convert:hover {\n",
              "      background-color: #434B5C;\n",
              "      box-shadow: 0px 1px 3px 1px rgba(0, 0, 0, 0.15);\n",
              "      filter: drop-shadow(0px 1px 2px rgba(0, 0, 0, 0.3));\n",
              "      fill: #FFFFFF;\n",
              "    }\n",
              "  </style>\n",
              "\n",
              "      <script>\n",
              "        const buttonEl =\n",
              "          document.querySelector('#df-3be32b37-3903-4c96-aa57-86d97274871b button.colab-df-convert');\n",
              "        buttonEl.style.display =\n",
              "          google.colab.kernel.accessAllowed ? 'block' : 'none';\n",
              "\n",
              "        async function convertToInteractive(key) {\n",
              "          const element = document.querySelector('#df-3be32b37-3903-4c96-aa57-86d97274871b');\n",
              "          const dataTable =\n",
              "            await google.colab.kernel.invokeFunction('convertToInteractive',\n",
              "                                                     [key], {});\n",
              "          if (!dataTable) return;\n",
              "\n",
              "          const docLinkHtml = 'Like what you see? Visit the ' +\n",
              "            '<a target=\"_blank\" href=https://colab.research.google.com/notebooks/data_table.ipynb>data table notebook</a>'\n",
              "            + ' to learn more about interactive tables.';\n",
              "          element.innerHTML = '';\n",
              "          dataTable['output_type'] = 'display_data';\n",
              "          await google.colab.output.renderOutput(dataTable, element);\n",
              "          const docLink = document.createElement('div');\n",
              "          docLink.innerHTML = docLinkHtml;\n",
              "          element.appendChild(docLink);\n",
              "        }\n",
              "      </script>\n",
              "    </div>\n",
              "  </div>\n",
              "  "
            ]
          },
          "metadata": {},
          "execution_count": 11
        }
      ],
      "source": [
        "tokens_data_test.head()"
      ]
    },
    {
      "cell_type": "code",
      "execution_count": 12,
      "metadata": {
        "id": "cEjj8qS50KFf"
      },
      "outputs": [],
      "source": [
        "def bert_style_tokenize(df, df_sents):\n",
        "    tokens = []\n",
        "    tags = []\n",
        "    masks = []\n",
        "    for ind in set(list(df['sent_index'])):\n",
        "        if list(df_sents.loc[df_sents.sent_index == ind]['has_def']) == [1]:\n",
        "            tokens_sent = []\n",
        "            tags_sent = []\n",
        "            masks_sent = []\n",
        "            tokens_list = list(df.loc[df.sent_index == ind]['token'])\n",
        "            tags_list = list(df.loc[df.sent_index == ind]['tag'])\n",
        "            for i, t in enumerate(tokens_list):\n",
        "                bert_t = tokenizer.tokenize(t)\n",
        "                mask = []\n",
        "                tag_t = []\n",
        "                tag_t.append(tags_list[i])\n",
        "                mask.append(1)\n",
        "                tag_t.extend(['X' for i in range(len(bert_t)-1)])\n",
        "                mask.extend([0 for i in range(len(bert_t)-1)])\n",
        "                tokens_sent.extend(bert_t)\n",
        "                masks_sent.extend(mask)\n",
        "                tags_sent.extend(tag_t)\n",
        "            tokens.append(tokens_sent)\n",
        "            tags.append(tags_sent)\n",
        "            masks.append(masks_sent)\n",
        "    return tokens, tags, masks\n",
        "\n",
        "bert_tokens_train, bert_tags_train, masks_train = bert_style_tokenize(tokens_data, sents_data)\n",
        "bert_tokens_test, bert_tags_test, masks_test = bert_style_tokenize(tokens_data_test, sents_data_test)\n",
        "bert_tokens_eval, bert_tags_eval, masks_eval = bert_style_tokenize(tokens_data_eval, sents_data_eval)"
      ]
    },
    {
      "cell_type": "code",
      "source": [
        "sents_data[20:30]"
      ],
      "metadata": {
        "colab": {
          "base_uri": "https://localhost:8080/",
          "height": 362
        },
        "id": "QdmMrvym0-04",
        "outputId": "4fb3dabb-37db-4b27-d491-a106ad1a4656"
      },
      "execution_count": 13,
      "outputs": [
        {
          "output_type": "execute_result",
          "data": {
            "text/plain": [
              "   sent_index                                          sent_text  has_def\n",
              "20       1378  Парадигма личного спряжения в европейских язык...        0\n",
              "21      11336  Си́нтез (др.-греч. σύνθεσις «соединение, склад...        1\n",
              "22      14550  Онтолингвистика — раздел лингвистики, изучающи...        1\n",
              "23      18847  Бэкон, Фрэнсис — английский философ, историк и...        1\n",
              "24       8714  Избыточность языка — статистическая величина, ...        1\n",
              "25       3974  Коллокация — словосочетание, имеющее признаки ...        1\n",
              "26         51  Лексикология изучает индивидуальные свойства о...        0\n",
              "27      11457  В социолингвистике термином престиж обозначают...        1\n",
              "28       1998  Склоне́ние (от лат. declinatio, «отклонение» о...        1\n",
              "29       4838  Вре́мя — грамматическая категория глагола, выр...        1"
            ],
            "text/html": [
              "\n",
              "  <div id=\"df-0a8d8a21-43f9-4182-8810-f3a1965becab\">\n",
              "    <div class=\"colab-df-container\">\n",
              "      <div>\n",
              "<style scoped>\n",
              "    .dataframe tbody tr th:only-of-type {\n",
              "        vertical-align: middle;\n",
              "    }\n",
              "\n",
              "    .dataframe tbody tr th {\n",
              "        vertical-align: top;\n",
              "    }\n",
              "\n",
              "    .dataframe thead th {\n",
              "        text-align: right;\n",
              "    }\n",
              "</style>\n",
              "<table border=\"1\" class=\"dataframe\">\n",
              "  <thead>\n",
              "    <tr style=\"text-align: right;\">\n",
              "      <th></th>\n",
              "      <th>sent_index</th>\n",
              "      <th>sent_text</th>\n",
              "      <th>has_def</th>\n",
              "    </tr>\n",
              "  </thead>\n",
              "  <tbody>\n",
              "    <tr>\n",
              "      <th>20</th>\n",
              "      <td>1378</td>\n",
              "      <td>Парадигма личного спряжения в европейских язык...</td>\n",
              "      <td>0</td>\n",
              "    </tr>\n",
              "    <tr>\n",
              "      <th>21</th>\n",
              "      <td>11336</td>\n",
              "      <td>Си́нтез (др.-греч. σύνθεσις «соединение, склад...</td>\n",
              "      <td>1</td>\n",
              "    </tr>\n",
              "    <tr>\n",
              "      <th>22</th>\n",
              "      <td>14550</td>\n",
              "      <td>Онтолингвистика — раздел лингвистики, изучающи...</td>\n",
              "      <td>1</td>\n",
              "    </tr>\n",
              "    <tr>\n",
              "      <th>23</th>\n",
              "      <td>18847</td>\n",
              "      <td>Бэкон, Фрэнсис — английский философ, историк и...</td>\n",
              "      <td>1</td>\n",
              "    </tr>\n",
              "    <tr>\n",
              "      <th>24</th>\n",
              "      <td>8714</td>\n",
              "      <td>Избыточность языка — статистическая величина, ...</td>\n",
              "      <td>1</td>\n",
              "    </tr>\n",
              "    <tr>\n",
              "      <th>25</th>\n",
              "      <td>3974</td>\n",
              "      <td>Коллокация — словосочетание, имеющее признаки ...</td>\n",
              "      <td>1</td>\n",
              "    </tr>\n",
              "    <tr>\n",
              "      <th>26</th>\n",
              "      <td>51</td>\n",
              "      <td>Лексикология изучает индивидуальные свойства о...</td>\n",
              "      <td>0</td>\n",
              "    </tr>\n",
              "    <tr>\n",
              "      <th>27</th>\n",
              "      <td>11457</td>\n",
              "      <td>В социолингвистике термином престиж обозначают...</td>\n",
              "      <td>1</td>\n",
              "    </tr>\n",
              "    <tr>\n",
              "      <th>28</th>\n",
              "      <td>1998</td>\n",
              "      <td>Склоне́ние (от лат. declinatio, «отклонение» о...</td>\n",
              "      <td>1</td>\n",
              "    </tr>\n",
              "    <tr>\n",
              "      <th>29</th>\n",
              "      <td>4838</td>\n",
              "      <td>Вре́мя — грамматическая категория глагола, выр...</td>\n",
              "      <td>1</td>\n",
              "    </tr>\n",
              "  </tbody>\n",
              "</table>\n",
              "</div>\n",
              "      <button class=\"colab-df-convert\" onclick=\"convertToInteractive('df-0a8d8a21-43f9-4182-8810-f3a1965becab')\"\n",
              "              title=\"Convert this dataframe to an interactive table.\"\n",
              "              style=\"display:none;\">\n",
              "        \n",
              "  <svg xmlns=\"http://www.w3.org/2000/svg\" height=\"24px\"viewBox=\"0 0 24 24\"\n",
              "       width=\"24px\">\n",
              "    <path d=\"M0 0h24v24H0V0z\" fill=\"none\"/>\n",
              "    <path d=\"M18.56 5.44l.94 2.06.94-2.06 2.06-.94-2.06-.94-.94-2.06-.94 2.06-2.06.94zm-11 1L8.5 8.5l.94-2.06 2.06-.94-2.06-.94L8.5 2.5l-.94 2.06-2.06.94zm10 10l.94 2.06.94-2.06 2.06-.94-2.06-.94-.94-2.06-.94 2.06-2.06.94z\"/><path d=\"M17.41 7.96l-1.37-1.37c-.4-.4-.92-.59-1.43-.59-.52 0-1.04.2-1.43.59L10.3 9.45l-7.72 7.72c-.78.78-.78 2.05 0 2.83L4 21.41c.39.39.9.59 1.41.59.51 0 1.02-.2 1.41-.59l7.78-7.78 2.81-2.81c.8-.78.8-2.07 0-2.86zM5.41 20L4 18.59l7.72-7.72 1.47 1.35L5.41 20z\"/>\n",
              "  </svg>\n",
              "      </button>\n",
              "      \n",
              "  <style>\n",
              "    .colab-df-container {\n",
              "      display:flex;\n",
              "      flex-wrap:wrap;\n",
              "      gap: 12px;\n",
              "    }\n",
              "\n",
              "    .colab-df-convert {\n",
              "      background-color: #E8F0FE;\n",
              "      border: none;\n",
              "      border-radius: 50%;\n",
              "      cursor: pointer;\n",
              "      display: none;\n",
              "      fill: #1967D2;\n",
              "      height: 32px;\n",
              "      padding: 0 0 0 0;\n",
              "      width: 32px;\n",
              "    }\n",
              "\n",
              "    .colab-df-convert:hover {\n",
              "      background-color: #E2EBFA;\n",
              "      box-shadow: 0px 1px 2px rgba(60, 64, 67, 0.3), 0px 1px 3px 1px rgba(60, 64, 67, 0.15);\n",
              "      fill: #174EA6;\n",
              "    }\n",
              "\n",
              "    [theme=dark] .colab-df-convert {\n",
              "      background-color: #3B4455;\n",
              "      fill: #D2E3FC;\n",
              "    }\n",
              "\n",
              "    [theme=dark] .colab-df-convert:hover {\n",
              "      background-color: #434B5C;\n",
              "      box-shadow: 0px 1px 3px 1px rgba(0, 0, 0, 0.15);\n",
              "      filter: drop-shadow(0px 1px 2px rgba(0, 0, 0, 0.3));\n",
              "      fill: #FFFFFF;\n",
              "    }\n",
              "  </style>\n",
              "\n",
              "      <script>\n",
              "        const buttonEl =\n",
              "          document.querySelector('#df-0a8d8a21-43f9-4182-8810-f3a1965becab button.colab-df-convert');\n",
              "        buttonEl.style.display =\n",
              "          google.colab.kernel.accessAllowed ? 'block' : 'none';\n",
              "\n",
              "        async function convertToInteractive(key) {\n",
              "          const element = document.querySelector('#df-0a8d8a21-43f9-4182-8810-f3a1965becab');\n",
              "          const dataTable =\n",
              "            await google.colab.kernel.invokeFunction('convertToInteractive',\n",
              "                                                     [key], {});\n",
              "          if (!dataTable) return;\n",
              "\n",
              "          const docLinkHtml = 'Like what you see? Visit the ' +\n",
              "            '<a target=\"_blank\" href=https://colab.research.google.com/notebooks/data_table.ipynb>data table notebook</a>'\n",
              "            + ' to learn more about interactive tables.';\n",
              "          element.innerHTML = '';\n",
              "          dataTable['output_type'] = 'display_data';\n",
              "          await google.colab.output.renderOutput(dataTable, element);\n",
              "          const docLink = document.createElement('div');\n",
              "          docLink.innerHTML = docLinkHtml;\n",
              "          element.appendChild(docLink);\n",
              "        }\n",
              "      </script>\n",
              "    </div>\n",
              "  </div>\n",
              "  "
            ]
          },
          "metadata": {},
          "execution_count": 13
        }
      ]
    },
    {
      "cell_type": "code",
      "source": [
        "print(bert_tokens_train[0])\n",
        "print(bert_tags_train[0])\n",
        "print(masks_train[0])"
      ],
      "metadata": {
        "colab": {
          "base_uri": "https://localhost:8080/"
        },
        "id": "GWdeszLa0h5T",
        "outputId": "38631cdc-38fd-4aa9-c266-7023752ad64f"
      },
      "execution_count": 14,
      "outputs": [
        {
          "output_type": "stream",
          "name": "stdout",
          "text": [
            "['об', '##об', '##ща', '##ющее', 'слово', '[UNK]', 'это', 'слово', 'при', 'одно', '##ро', '##дных', 'члена', '##х', 'пред', '##ложения', ',', 'на', '##зы', '##ва', '##ющее', 'родов', '##ое', 'понятие', '(', 'общее', ')', ',', 'по', 'отношению', 'к', 'которому', 'одно', '##ро', '##дные', 'члены', 'пред', '##ложения', 'являются', 'видов', '##ыми', 'по', '##нятия', '##ми', '(', 'част', '##ными', ')', ';', 'или', 'на', '##зы', '##ва', '##ющее', 'цел', '##ое', ',', 'по', 'отношению', 'к', 'которому', 'одно', '##ро', '##дные', 'члены', 'об', '##оз', '##на', '##чают', 'части', '.']\n",
            "['B-TERM', 'X', 'X', 'X', 'I-TERM', 'O', 'O', 'B-DEF', 'I-DEF', 'I-DEF', 'X', 'X', 'I-DEF', 'X', 'I-DEF', 'X', 'I-DEF', 'I-DEF', 'X', 'X', 'X', 'I-DEF', 'X', 'I-DEF', 'I-DEF', 'I-DEF', 'I-DEF', 'I-DEF', 'I-DEF', 'I-DEF', 'I-DEF', 'I-DEF', 'I-DEF', 'X', 'X', 'I-DEF', 'I-DEF', 'X', 'I-DEF', 'I-DEF', 'X', 'I-DEF', 'X', 'X', 'I-DEF', 'I-DEF', 'X', 'I-DEF', 'I-DEF', 'I-DEF', 'I-DEF', 'X', 'X', 'X', 'I-DEF', 'X', 'I-DEF', 'I-DEF', 'I-DEF', 'I-DEF', 'I-DEF', 'I-DEF', 'X', 'X', 'I-DEF', 'I-DEF', 'X', 'X', 'X', 'I-DEF', 'O']\n",
            "[1, 0, 0, 0, 1, 1, 1, 1, 1, 1, 0, 0, 1, 0, 1, 0, 1, 1, 0, 0, 0, 1, 0, 1, 1, 1, 1, 1, 1, 1, 1, 1, 1, 0, 0, 1, 1, 0, 1, 1, 0, 1, 0, 0, 1, 1, 0, 1, 1, 1, 1, 0, 0, 0, 1, 0, 1, 1, 1, 1, 1, 1, 0, 0, 1, 1, 0, 0, 0, 1, 1]\n"
          ]
        }
      ]
    },
    {
      "cell_type": "code",
      "execution_count": 15,
      "metadata": {
        "colab": {
          "base_uri": "https://localhost:8080/"
        },
        "id": "OnytZ82F3UC5",
        "outputId": "743c5425-2a4d-4edd-9161-db9e23cf08d2"
      },
      "outputs": [
        {
          "output_type": "execute_result",
          "data": {
            "text/plain": [
              "338"
            ]
          },
          "metadata": {},
          "execution_count": 15
        }
      ],
      "source": [
        "len(bert_tags_train)"
      ]
    },
    {
      "cell_type": "code",
      "execution_count": 16,
      "metadata": {
        "id": "Jh3yfdIf5w7N"
      },
      "outputs": [],
      "source": [
        "MAX_LEN = 80"
      ]
    },
    {
      "cell_type": "code",
      "execution_count": 17,
      "metadata": {
        "id": "Jkssw6wx6rDH"
      },
      "outputs": [],
      "source": [
        "tags_2id = {'B-TERM':0, 'I-TERM':1, 'B-DEF':2, 'I-DEF':3, 'O':4, 'X':5}"
      ]
    },
    {
      "cell_type": "code",
      "execution_count": 18,
      "metadata": {
        "id": "LclZX0xR57oh"
      },
      "outputs": [],
      "source": [
        "class TokensDataset(torch.utils.data.Dataset):\n",
        "\n",
        "    def __init__(self, bert_tokens, bert_tags, masks, tokenizer, MAX_LEN):\n",
        "        self.bert_tokens = bert_tokens\n",
        "        self.bert_tags = bert_tags\n",
        "        self.masks = masks\n",
        "        self.tokenizer = tokenizer\n",
        "        self.MAX_LEN = MAX_LEN\n",
        "  \n",
        "    def __getitem__(self, idx):\n",
        "        tokens = self.bert_tokens[idx][:]\n",
        "        tags = self.bert_tags[idx][:]\n",
        "        masks_id = self.masks[idx][:]\n",
        "        tags = ['X'] + tags + ['X']\n",
        "        masks_id = [0]+masks_id+[0]\n",
        "        tags = [tags_2id[i] for i in tags]\n",
        "        tokens.append('SEP')\n",
        "        tokens = ['CLS'] + tokens\n",
        "        tokens2ids = tokenizer.convert_tokens_to_ids(tokens)\n",
        "        tokens_mask = [1 for i in range(len(tokens2ids))]\n",
        "        if len(tokens)>self.MAX_LEN:\n",
        "            tokens2ids = tokens2ids[:self.MAX_LEN]\n",
        "            tags = tags[:self.MAX_LEN]\n",
        "            masks_id = masks_id[:self.MAX_LEN]\n",
        "            tokens_mask = tokens_mask[:self.MAX_LEN]\n",
        "        else:\n",
        "            tokens2ids.extend([0 for i in range(MAX_LEN-len(tokens2ids))])\n",
        "            tags.extend([tags_2id['X'] for i in range(MAX_LEN-len(tags))])\n",
        "            masks_id.extend([0 for i in range(MAX_LEN-len(masks_id))])\n",
        "            tokens_mask.extend([0 for i in range(MAX_LEN-len(tokens_mask))])\n",
        "        return {\n",
        "            'ids': torch.tensor(tokens2ids, dtype=torch.long),\n",
        "            'targets': torch.tensor(tags, dtype=torch.long),\n",
        "            'crf_masks': torch.tensor(masks_id).bool(),\n",
        "            'bert_masks': torch.tensor(tokens_mask).bool()\n",
        "        }\n",
        "\n",
        "    def __len__(self):\n",
        "        return len(self.bert_tokens)"
      ]
    },
    {
      "cell_type": "code",
      "execution_count": 19,
      "metadata": {
        "id": "MuJHhe1__Lfu"
      },
      "outputs": [],
      "source": [
        "train_dataset = TokensDataset(bert_tokens_train, bert_tags_train, masks_train, tokenizer, MAX_LEN)\n",
        "test_dataset = TokensDataset(bert_tokens_test, bert_tags_test, masks_test, tokenizer, MAX_LEN)\n",
        "eval_dataset = TokensDataset(bert_tokens_eval, bert_tags_eval, masks_eval, tokenizer, MAX_LEN)"
      ]
    },
    {
      "cell_type": "code",
      "execution_count": 20,
      "metadata": {
        "id": "z4qQHgNk_uAr"
      },
      "outputs": [],
      "source": [
        "train_data_loader = DataLoader(train_dataset, 16)\n",
        "test_data_loader = DataLoader(test_dataset, 16)\n",
        "eval_data_loader = DataLoader(test_dataset, 16)"
      ]
    },
    {
      "cell_type": "code",
      "execution_count": 21,
      "metadata": {
        "colab": {
          "base_uri": "https://localhost:8080/"
        },
        "id": "t_BxkfJU_2r2",
        "outputId": "e84dfef9-6d8d-4f7a-9ea4-8fbbf4b5a1cd"
      },
      "outputs": [
        {
          "output_type": "execute_result",
          "data": {
            "text/plain": [
              "{'bert_masks': tensor([[ True,  True,  True,  ..., False, False, False],\n",
              "         [ True,  True,  True,  ..., False, False, False],\n",
              "         [ True,  True,  True,  ..., False, False, False],\n",
              "         ...,\n",
              "         [ True,  True,  True,  ..., False, False, False],\n",
              "         [ True,  True,  True,  ..., False, False, False],\n",
              "         [ True,  True,  True,  ..., False, False, False]]),\n",
              " 'crf_masks': tensor([[False,  True, False,  ..., False, False, False],\n",
              "         [False,  True, False,  ..., False, False, False],\n",
              "         [False,  True, False,  ..., False, False, False],\n",
              "         ...,\n",
              "         [False,  True, False,  ..., False, False, False],\n",
              "         [False,  True, False,  ..., False, False, False],\n",
              "         [False,  True, False,  ..., False, False, False]]),\n",
              " 'ids': tensor([[  100, 12479, 38938,  ...,     0,     0,     0],\n",
              "         [  100, 60400, 39794,  ...,     0,     0,     0],\n",
              "         [  100,   323, 68277,  ...,     0,     0,     0],\n",
              "         ...,\n",
              "         [  100,   336, 18789,  ...,     0,     0,     0],\n",
              "         [  100, 33072, 12954,  ...,     0,     0,     0],\n",
              "         [  100, 74584, 10584,  ...,     0,     0,     0]]),\n",
              " 'targets': tensor([[5, 0, 5,  ..., 5, 5, 5],\n",
              "         [5, 0, 5,  ..., 5, 5, 5],\n",
              "         [5, 0, 5,  ..., 5, 5, 5],\n",
              "         ...,\n",
              "         [5, 0, 5,  ..., 5, 5, 5],\n",
              "         [5, 0, 5,  ..., 5, 5, 5],\n",
              "         [5, 0, 5,  ..., 5, 5, 5]])}"
            ]
          },
          "metadata": {},
          "execution_count": 21
        }
      ],
      "source": [
        "next(iter(train_data_loader))"
      ]
    },
    {
      "cell_type": "code",
      "execution_count": 22,
      "metadata": {
        "colab": {
          "base_uri": "https://localhost:8080/"
        },
        "id": "euLHza0EoDq9",
        "outputId": "7075e219-edd6-4394-cfcd-214a248057e3"
      },
      "outputs": [
        {
          "output_type": "stream",
          "name": "stdout",
          "text": [
            "Mounted at /content/drive\n"
          ]
        }
      ],
      "source": [
        "from google.colab import drive\n",
        "drive.mount('/content/drive')"
      ]
    },
    {
      "cell_type": "code",
      "execution_count": 23,
      "metadata": {
        "id": "ulCGZqUGQSmh"
      },
      "outputs": [],
      "source": [
        "RANDOM_SEED = 1\n",
        "np.random.seed(RANDOM_SEED)\n",
        "torch.manual_seed(RANDOM_SEED)\n",
        "device = torch.device(\"cuda:0\" if torch.cuda.is_available() else \"cpu\")"
      ]
    },
    {
      "cell_type": "markdown",
      "metadata": {
        "id": "U333ph4TqPWq"
      },
      "source": [
        "Загружаем трансформер, обученный на бинарную классификацию"
      ]
    },
    {
      "cell_type": "code",
      "execution_count": 24,
      "metadata": {
        "id": "GbL_1kuACa0_"
      },
      "outputs": [],
      "source": [
        "state_dict = torch.load('/content/drive/MyDrive/bms_multiling_uncased_10.bin', map_location=torch.device('cpu'))"
      ]
    },
    {
      "cell_type": "code",
      "execution_count": 25,
      "metadata": {
        "colab": {
          "base_uri": "https://localhost:8080/",
          "height": 156,
          "referenced_widgets": [
            "d0abbade50c54c6594b8a67d707daa8d",
            "56d317eadef644e48f89ecc3cb979e04",
            "3999f697b0164962b90f8fcd2d0d41d9",
            "e5207c5d862747bf895d2eec7bbf23cf",
            "5b8465114d8f466c99828149d1c95b61",
            "0b4d466697714e7c920ebe5155c6ccc3",
            "c7fa642170454ba79fa4011959838ada",
            "0d65f16aee0b4c9caccc47315fd85ad2",
            "66cce54dc5e24023bd5d21bb1bb5caa4",
            "5ecc52e3b23842cf8f1fdd6421fac62f",
            "6fe1f97950a64acc9a4588aecb6c3f35"
          ]
        },
        "id": "WDZuPLy8C-Z_",
        "outputId": "f251192b-6f2f-4dda-a414-86cc35934058"
      },
      "outputs": [
        {
          "output_type": "display_data",
          "data": {
            "text/plain": [
              "Downloading:   0%|          | 0.00/641M [00:00<?, ?B/s]"
            ],
            "application/vnd.jupyter.widget-view+json": {
              "version_major": 2,
              "version_minor": 0,
              "model_id": "d0abbade50c54c6594b8a67d707daa8d"
            }
          },
          "metadata": {}
        },
        {
          "output_type": "stream",
          "name": "stderr",
          "text": [
            "Some weights of the model checkpoint at bert-base-multilingual-uncased were not used when initializing BertModel: ['bert.bert.encoder.layer.8.attention.output.dense.weight', 'bert.bert.encoder.layer.4.attention.output.dense.weight', 'bert.bert.pooler.dense.bias', 'bert.bert.encoder.layer.2.attention.self.query.bias', 'bert.bert.encoder.layer.6.intermediate.dense.weight', 'bert.bert.encoder.layer.3.output.LayerNorm.bias', 'bert.bert.encoder.layer.9.attention.self.key.bias', 'bert.bert.encoder.layer.0.attention.self.query.weight', 'bert.bert.encoder.layer.0.attention.output.LayerNorm.weight', 'bert.bert.encoder.layer.10.intermediate.dense.bias', 'bert.bert.encoder.layer.0.attention.self.key.weight', 'bert.bert.encoder.layer.7.attention.self.query.weight', 'bert.bert.encoder.layer.8.output.LayerNorm.weight', 'bert.bert.encoder.layer.1.attention.output.dense.bias', 'bert.bert.encoder.layer.4.attention.self.value.weight', 'bert.bert.encoder.layer.8.attention.self.query.bias', 'bert.bert.encoder.layer.5.attention.self.query.weight', 'bert.bert.encoder.layer.7.output.LayerNorm.bias', 'bert.bert.encoder.layer.9.attention.output.dense.weight', 'bert.bert.encoder.layer.4.intermediate.dense.bias', 'bert.bert.encoder.layer.7.attention.self.value.weight', 'bert.bert.encoder.layer.10.attention.self.query.weight', 'bert.bert.encoder.layer.4.attention.output.LayerNorm.weight', 'bert.bert.encoder.layer.7.attention.output.LayerNorm.weight', 'bert.bert.encoder.layer.0.attention.self.query.bias', 'bert.bert.encoder.layer.8.output.dense.bias', 'bert.bert.encoder.layer.1.output.LayerNorm.bias', 'bert.bert.encoder.layer.2.output.LayerNorm.weight', 'bert.bert.encoder.layer.9.attention.output.dense.bias', 'bert.bert.encoder.layer.4.output.dense.weight', 'bert.bert.embeddings.position_embeddings.weight', 'bert.bert.encoder.layer.0.attention.output.dense.bias', 'bert.bert.encoder.layer.1.attention.output.LayerNorm.bias', 'bert.bert.encoder.layer.5.attention.output.dense.bias', 'bert.bert.encoder.layer.3.attention.self.value.bias', 'bert.bert.encoder.layer.7.attention.output.dense.bias', 'bert.bert.encoder.layer.4.attention.output.LayerNorm.bias', 'bert.bert.encoder.layer.6.attention.self.value.bias', 'bert.bert.encoder.layer.10.attention.self.key.weight', 'bert.bert.encoder.layer.1.output.dense.weight', 'bert.bert.encoder.layer.3.attention.self.query.weight', 'bert.bert.encoder.layer.6.attention.output.dense.weight', 'bert.bert.encoder.layer.11.intermediate.dense.weight', 'bert.bert.encoder.layer.1.attention.self.query.bias', 'bert.bert.encoder.layer.9.attention.self.query.bias', 'bert.bert.encoder.layer.11.output.dense.bias', 'bert.bert.encoder.layer.0.attention.self.value.bias', 'bert.bert.encoder.layer.11.attention.output.LayerNorm.weight', 'bert.bert.encoder.layer.5.output.dense.bias', 'bert.bert.encoder.layer.9.output.LayerNorm.bias', 'bert.bert.encoder.layer.0.output.dense.weight', 'bert.bert.encoder.layer.8.attention.self.value.bias', 'bert.bert.encoder.layer.2.attention.self.value.bias', 'bert.bert.encoder.layer.4.output.dense.bias', 'bert.bert.encoder.layer.10.attention.output.dense.weight', 'bert.bert.encoder.layer.9.intermediate.dense.bias', 'bert.bert.encoder.layer.1.output.LayerNorm.weight', 'bert.bert.encoder.layer.5.attention.output.dense.weight', 'bert.bert.encoder.layer.4.intermediate.dense.weight', 'bert.bert.embeddings.LayerNorm.weight', 'bert.bert.encoder.layer.11.attention.self.query.weight', 'bert.bert.encoder.layer.5.attention.self.value.weight', 'bert.bert.encoder.layer.3.intermediate.dense.bias', 'bert.bert.encoder.layer.10.output.dense.bias', 'bert.bert.encoder.layer.3.attention.output.LayerNorm.weight', 'bert.bert.encoder.layer.7.attention.self.key.weight', 'bert.bert.encoder.layer.9.attention.output.LayerNorm.bias', 'bert.bert.encoder.layer.11.output.LayerNorm.weight', 'bert.bert.encoder.layer.3.attention.self.query.bias', 'bert.bert.encoder.layer.9.intermediate.dense.weight', 'bert.bert.encoder.layer.1.attention.self.key.weight', 'bert.bert.encoder.layer.11.intermediate.dense.bias', 'bert.bert.encoder.layer.6.attention.self.key.weight', 'bert.bert.encoder.layer.5.output.LayerNorm.bias', 'bert.bert.encoder.layer.2.attention.self.value.weight', 'bert.bert.encoder.layer.8.attention.output.dense.bias', 'bert.bert.encoder.layer.10.attention.output.dense.bias', 'bert.bert.encoder.layer.1.attention.self.query.weight', 'bert.bert.encoder.layer.5.intermediate.dense.bias', 'bert.bert.encoder.layer.3.attention.self.value.weight', 'bert.bert.encoder.layer.5.output.LayerNorm.weight', 'bert.bert.encoder.layer.3.attention.output.dense.weight', 'bert.bert.encoder.layer.1.attention.output.dense.weight', 'bert.bert.encoder.layer.6.output.dense.weight', 'bert.bert.encoder.layer.10.intermediate.dense.weight', 'bert.bert.encoder.layer.6.attention.self.value.weight', 'bert.bert.encoder.layer.10.output.dense.weight', 'bert.bert.encoder.layer.5.output.dense.weight', 'bert.bert.encoder.layer.3.attention.output.dense.bias', 'bert.bert.encoder.layer.8.attention.output.LayerNorm.bias', 'bert.bert.encoder.layer.9.attention.self.key.weight', 'bert.bert.encoder.layer.11.attention.self.value.weight', 'bert.bert.encoder.layer.11.attention.output.dense.bias', 'bert.bert.encoder.layer.9.attention.self.value.weight', 'bert.bert.encoder.layer.4.attention.self.value.bias', 'bert.bert.encoder.layer.3.output.dense.weight', 'bert.bert.encoder.layer.7.output.LayerNorm.weight', 'bert.bert.encoder.layer.0.intermediate.dense.weight', 'bert.bert.encoder.layer.7.attention.self.value.bias', 'bert.bert.encoder.layer.5.attention.self.key.weight', 'bert.bert.encoder.layer.10.output.LayerNorm.bias', 'bert.classifier.weight', 'bert.bert.encoder.layer.2.output.LayerNorm.bias', 'bert.bert.encoder.layer.5.attention.self.query.bias', 'bert.bert.encoder.layer.7.intermediate.dense.weight', 'bert.bert.encoder.layer.11.output.LayerNorm.bias', 'bert.bert.encoder.layer.8.attention.self.query.weight', 'bert.bert.encoder.layer.8.output.LayerNorm.bias', 'bert.bert.encoder.layer.0.output.dense.bias', 'bert.bert.encoder.layer.8.attention.self.value.weight', 'bert.bert.encoder.layer.4.attention.self.query.weight', 'bert.bert.encoder.layer.2.intermediate.dense.weight', 'bert.bert.encoder.layer.0.attention.self.value.weight', 'bert.bert.encoder.layer.10.attention.self.value.bias', 'bert.bert.encoder.layer.0.output.LayerNorm.weight', 'bert.bert.encoder.layer.8.attention.self.key.bias', 'bert.bert.encoder.layer.2.output.dense.bias', 'bert.bert.encoder.layer.8.intermediate.dense.weight', 'bert.bert.encoder.layer.2.attention.self.key.weight', 'bert.bert.pooler.dense.weight', 'bert.bert.embeddings.word_embeddings.weight', 'bert.bert.encoder.layer.2.attention.output.LayerNorm.bias', 'bert.bert.encoder.layer.11.attention.output.LayerNorm.bias', 'bert.bert.encoder.layer.6.attention.self.key.bias', 'bert.bert.embeddings.position_ids', 'bert.bert.encoder.layer.8.attention.self.key.weight', 'bert.bert.encoder.layer.7.intermediate.dense.bias', 'bert.bert.encoder.layer.5.attention.self.key.bias', 'bert.bert.encoder.layer.6.attention.self.query.bias', 'bert.bert.encoder.layer.11.attention.self.query.bias', 'bert.bert.encoder.layer.2.attention.output.dense.weight', 'bert.bert.encoder.layer.0.attention.output.LayerNorm.bias', 'bert.bert.encoder.layer.5.intermediate.dense.weight', 'bert.bert.encoder.layer.3.intermediate.dense.weight', 'bert.bert.encoder.layer.10.attention.output.LayerNorm.bias', 'bert.bert.encoder.layer.2.attention.self.query.weight', 'bert.bert.encoder.layer.0.attention.self.key.bias', 'bert.bert.encoder.layer.2.attention.self.key.bias', 'bert.bert.embeddings.token_type_embeddings.weight', 'bert.bert.encoder.layer.1.intermediate.dense.bias', 'bert.bert.encoder.layer.1.intermediate.dense.weight', 'bert.bert.encoder.layer.2.output.dense.weight', 'bert.bert.encoder.layer.1.attention.output.LayerNorm.weight', 'bert.bert.encoder.layer.4.attention.self.query.bias', 'bert.bert.encoder.layer.6.attention.output.LayerNorm.bias', 'bert.bert.encoder.layer.9.attention.self.query.weight', 'bert.bert.encoder.layer.10.attention.self.value.weight', 'bert.bert.encoder.layer.11.attention.self.key.weight', 'bert.bert.encoder.layer.9.output.LayerNorm.weight', 'bert.bert.encoder.layer.7.attention.self.key.bias', 'bert.bert.encoder.layer.5.attention.output.LayerNorm.weight', 'bert.bert.encoder.layer.4.output.LayerNorm.weight', 'bert.bert.encoder.layer.1.attention.self.value.bias', 'bert.bert.encoder.layer.10.attention.self.key.bias', 'bert.bert.encoder.layer.3.attention.self.key.bias', 'bert.bert.encoder.layer.7.attention.output.dense.weight', 'bert.bert.encoder.layer.11.attention.self.key.bias', 'bert.bert.encoder.layer.6.attention.self.query.weight', 'bert.bert.encoder.layer.5.attention.output.LayerNorm.bias', 'bert.bert.encoder.layer.1.attention.self.key.bias', 'bert.bert.encoder.layer.2.intermediate.dense.bias', 'bert.bert.encoder.layer.1.output.dense.bias', 'bert.bert.encoder.layer.3.attention.self.key.weight', 'bert.bert.encoder.layer.4.output.LayerNorm.bias', 'bert.classifier.bias', 'bert.bert.encoder.layer.3.output.dense.bias', 'bert.bert.encoder.layer.1.attention.self.value.weight', 'bert.bert.encoder.layer.3.attention.output.LayerNorm.bias', 'bert.bert.encoder.layer.4.attention.output.dense.bias', 'bert.bert.encoder.layer.9.output.dense.bias', 'bert.bert.encoder.layer.0.attention.output.dense.weight', 'bert.bert.encoder.layer.11.attention.output.dense.weight', 'bert.bert.encoder.layer.10.attention.output.LayerNorm.weight', 'bert.bert.encoder.layer.7.output.dense.bias', 'bert.bert.encoder.layer.6.output.dense.bias', 'bert.bert.encoder.layer.11.attention.self.value.bias', 'bert.bert.encoder.layer.7.attention.self.query.bias', 'bert.bert.encoder.layer.2.attention.output.LayerNorm.weight', 'bert.bert.encoder.layer.7.attention.output.LayerNorm.bias', 'bert.bert.encoder.layer.6.attention.output.LayerNorm.weight', 'bert.bert.encoder.layer.6.output.LayerNorm.bias', 'bert.bert.encoder.layer.6.intermediate.dense.bias', 'bert.bert.encoder.layer.9.attention.self.value.bias', 'bert.bert.embeddings.LayerNorm.bias', 'bert.bert.encoder.layer.7.output.dense.weight', 'bert.bert.encoder.layer.11.output.dense.weight', 'bert.bert.encoder.layer.4.attention.self.key.weight', 'bert.bert.encoder.layer.10.attention.self.query.bias', 'bert.bert.encoder.layer.8.intermediate.dense.bias', 'bert.bert.encoder.layer.8.output.dense.weight', 'bert.bert.encoder.layer.6.attention.output.dense.bias', 'bert.bert.encoder.layer.4.attention.self.key.bias', 'bert.bert.encoder.layer.6.output.LayerNorm.weight', 'bert.bert.encoder.layer.9.output.dense.weight', 'bert.bert.encoder.layer.10.output.LayerNorm.weight', 'bert.bert.encoder.layer.8.attention.output.LayerNorm.weight', 'bert.bert.encoder.layer.0.output.LayerNorm.bias', 'bert.bert.encoder.layer.0.intermediate.dense.bias', 'bert.bert.encoder.layer.9.attention.output.LayerNorm.weight', 'bert.bert.encoder.layer.3.output.LayerNorm.weight', 'bert.bert.encoder.layer.2.attention.output.dense.bias', 'bert.bert.encoder.layer.5.attention.self.value.bias']\n",
            "- This IS expected if you are initializing BertModel from the checkpoint of a model trained on another task or with another architecture (e.g. initializing a BertForSequenceClassification model from a BertForPreTraining model).\n",
            "- This IS NOT expected if you are initializing BertModel from the checkpoint of a model that you expect to be exactly identical (initializing a BertForSequenceClassification model from a BertForSequenceClassification model).\n",
            "Some weights of BertModel were not initialized from the model checkpoint at bert-base-multilingual-uncased and are newly initialized: ['bert.encoder.layer.5.intermediate.dense.bias', 'bert.encoder.layer.10.attention.self.value.weight', 'bert.encoder.layer.2.attention.self.value.weight', 'bert.encoder.layer.1.output.dense.weight', 'bert.encoder.layer.10.attention.output.dense.weight', 'bert.encoder.layer.1.attention.output.dense.weight', 'bert.encoder.layer.9.attention.self.value.bias', 'bert.encoder.layer.2.attention.self.query.weight', 'bert.encoder.layer.8.output.LayerNorm.weight', 'bert.encoder.layer.11.attention.output.LayerNorm.bias', 'bert.encoder.layer.6.attention.self.query.weight', 'bert.encoder.layer.9.attention.self.key.bias', 'bert.encoder.layer.11.output.LayerNorm.weight', 'bert.encoder.layer.7.output.dense.weight', 'bert.encoder.layer.6.attention.self.key.weight', 'bert.encoder.layer.9.output.LayerNorm.bias', 'bert.encoder.layer.6.intermediate.dense.bias', 'bert.encoder.layer.2.output.LayerNorm.bias', 'bert.encoder.layer.0.output.dense.bias', 'bert.encoder.layer.6.attention.self.value.bias', 'bert.encoder.layer.10.attention.self.key.weight', 'bert.encoder.layer.9.attention.self.value.weight', 'bert.encoder.layer.4.output.dense.weight', 'bert.encoder.layer.11.attention.self.value.weight', 'bert.embeddings.token_type_embeddings.weight', 'bert.encoder.layer.9.attention.output.LayerNorm.weight', 'bert.encoder.layer.0.attention.output.dense.bias', 'bert.encoder.layer.1.attention.self.key.weight', 'bert.pooler.dense.weight', 'bert.encoder.layer.6.attention.self.value.weight', 'bert.encoder.layer.11.attention.self.query.bias', 'bert.encoder.layer.0.attention.output.LayerNorm.bias', 'bert.encoder.layer.4.attention.output.LayerNorm.bias', 'bert.encoder.layer.5.attention.output.dense.weight', 'bert.encoder.layer.8.attention.output.LayerNorm.weight', 'bert.encoder.layer.4.output.LayerNorm.weight', 'bert.embeddings.word_embeddings.weight', 'bert.encoder.layer.2.output.LayerNorm.weight', 'bert.encoder.layer.10.output.dense.bias', 'bert.encoder.layer.5.attention.self.query.weight', 'bert.encoder.layer.1.attention.output.LayerNorm.bias', 'bert.encoder.layer.9.attention.self.key.weight', 'bert.encoder.layer.9.output.dense.bias', 'bert.encoder.layer.3.attention.self.value.bias', 'bert.encoder.layer.8.intermediate.dense.weight', 'bert.encoder.layer.1.attention.self.key.bias', 'bert.encoder.layer.1.attention.self.value.bias', 'bert.encoder.layer.5.attention.self.query.bias', 'bert.embeddings.position_embeddings.weight', 'bert.encoder.layer.2.output.dense.weight', 'bert.encoder.layer.2.attention.output.dense.weight', 'bert.encoder.layer.6.output.dense.bias', 'bert.encoder.layer.2.attention.self.key.bias', 'bert.encoder.layer.9.attention.output.dense.bias', 'bert.encoder.layer.4.attention.self.query.bias', 'bert.encoder.layer.6.output.LayerNorm.bias', 'bert.encoder.layer.11.output.LayerNorm.bias', 'bert.encoder.layer.1.attention.self.query.bias', 'bert.encoder.layer.10.attention.output.LayerNorm.weight', 'bert.encoder.layer.10.intermediate.dense.weight', 'bert.encoder.layer.10.intermediate.dense.bias', 'bert.encoder.layer.8.attention.output.dense.bias', 'bert.encoder.layer.3.output.dense.bias', 'bert.encoder.layer.3.attention.self.value.weight', 'bert.encoder.layer.1.intermediate.dense.weight', 'bert.encoder.layer.6.attention.self.key.bias', 'bert.encoder.layer.8.attention.self.value.bias', 'bert.encoder.layer.9.attention.self.query.bias', 'bert.encoder.layer.7.attention.self.key.bias', 'bert.encoder.layer.2.attention.self.query.bias', 'bert.encoder.layer.3.attention.self.key.bias', 'bert.encoder.layer.7.attention.self.query.weight', 'bert.encoder.layer.8.attention.self.query.weight', 'bert.encoder.layer.5.output.dense.bias', 'bert.encoder.layer.10.output.LayerNorm.weight', 'bert.encoder.layer.0.output.LayerNorm.bias', 'bert.encoder.layer.1.output.dense.bias', 'bert.encoder.layer.3.output.LayerNorm.bias', 'bert.encoder.layer.10.attention.output.LayerNorm.bias', 'bert.encoder.layer.11.attention.output.dense.bias', 'bert.embeddings.LayerNorm.weight', 'bert.encoder.layer.2.attention.self.key.weight', 'bert.encoder.layer.3.attention.output.dense.weight', 'bert.encoder.layer.11.attention.self.query.weight', 'bert.encoder.layer.4.attention.self.query.weight', 'bert.encoder.layer.7.attention.self.value.weight', 'bert.embeddings.LayerNorm.bias', 'bert.encoder.layer.9.intermediate.dense.weight', 'bert.encoder.layer.4.intermediate.dense.weight', 'bert.encoder.layer.5.intermediate.dense.weight', 'bert.encoder.layer.5.attention.output.dense.bias', 'bert.encoder.layer.5.attention.output.LayerNorm.weight', 'bert.encoder.layer.7.intermediate.dense.bias', 'bert.encoder.layer.5.attention.self.key.bias', 'bert.encoder.layer.4.attention.self.key.bias', 'bert.encoder.layer.10.output.LayerNorm.bias', 'bert.encoder.layer.0.attention.self.key.bias', 'bert.encoder.layer.7.intermediate.dense.weight', 'bert.encoder.layer.6.attention.output.LayerNorm.bias', 'bert.encoder.layer.0.attention.self.key.weight', 'bert.encoder.layer.8.output.dense.weight', 'bert.encoder.layer.5.attention.self.value.weight', 'bert.encoder.layer.3.attention.self.query.bias', 'bert.encoder.layer.7.attention.output.dense.bias', 'bert.encoder.layer.2.attention.self.value.bias', 'bert.encoder.layer.10.attention.self.value.bias', 'bert.encoder.layer.10.output.dense.weight', 'bert.encoder.layer.2.output.dense.bias', 'bert.encoder.layer.3.intermediate.dense.weight', 'bert.encoder.layer.2.attention.output.LayerNorm.weight', 'bert.encoder.layer.1.attention.self.value.weight', 'bert.encoder.layer.9.intermediate.dense.bias', 'bert.encoder.layer.10.attention.self.query.bias', 'bert.encoder.layer.3.attention.output.dense.bias', 'bert.encoder.layer.0.attention.self.query.weight', 'bert.encoder.layer.0.intermediate.dense.bias', 'bert.encoder.layer.2.attention.output.LayerNorm.bias', 'bert.pooler.dense.bias', 'bert.encoder.layer.7.attention.self.value.bias', 'bert.encoder.layer.9.attention.output.dense.weight', 'bert.encoder.layer.6.attention.self.query.bias', 'bert.encoder.layer.0.intermediate.dense.weight', 'bert.encoder.layer.1.attention.self.query.weight', 'bert.encoder.layer.4.output.dense.bias', 'bert.encoder.layer.5.attention.self.key.weight', 'bert.encoder.layer.0.attention.self.query.bias', 'bert.encoder.layer.11.attention.self.key.bias', 'bert.encoder.layer.3.attention.output.LayerNorm.weight', 'bert.encoder.layer.11.intermediate.dense.weight', 'bert.encoder.layer.5.output.LayerNorm.weight', 'bert.encoder.layer.6.output.dense.weight', 'bert.encoder.layer.10.attention.self.key.bias', 'bert.encoder.layer.5.output.LayerNorm.bias', 'bert.encoder.layer.10.attention.output.dense.bias', 'bert.encoder.layer.4.attention.output.dense.weight', 'bert.encoder.layer.7.attention.output.LayerNorm.bias', 'bert.encoder.layer.7.attention.self.query.bias', 'bert.encoder.layer.6.attention.output.LayerNorm.weight', 'bert.encoder.layer.0.attention.output.LayerNorm.weight', 'bert.encoder.layer.11.output.dense.bias', 'bert.encoder.layer.0.output.dense.weight', 'bert.encoder.layer.8.attention.self.value.weight', 'bert.encoder.layer.7.attention.self.key.weight', 'bert.encoder.layer.11.attention.self.key.weight', 'bert.encoder.layer.5.attention.output.LayerNorm.bias', 'bert.encoder.layer.1.output.LayerNorm.weight', 'bert.encoder.layer.0.attention.self.value.bias', 'bert.encoder.layer.7.output.dense.bias', 'bert.encoder.layer.11.attention.output.LayerNorm.weight', 'bert.encoder.layer.1.intermediate.dense.bias', 'bert.encoder.layer.7.attention.output.LayerNorm.weight', 'bert.encoder.layer.8.output.dense.bias', 'bert.encoder.layer.4.output.LayerNorm.bias', 'bert.encoder.layer.2.intermediate.dense.bias', 'bert.encoder.layer.4.attention.output.dense.bias', 'bert.encoder.layer.6.attention.output.dense.bias', 'bert.encoder.layer.8.attention.self.key.weight', 'bert.encoder.layer.8.intermediate.dense.bias', 'bert.encoder.layer.3.intermediate.dense.bias', 'bert.encoder.layer.2.intermediate.dense.weight', 'bert.encoder.layer.11.output.dense.weight', 'bert.encoder.layer.5.output.dense.weight', 'bert.encoder.layer.1.output.LayerNorm.bias', 'bert.encoder.layer.3.attention.self.query.weight', 'bert.encoder.layer.10.attention.self.query.weight', 'bert.encoder.layer.11.attention.output.dense.weight', 'bert.encoder.layer.4.attention.output.LayerNorm.weight', 'bert.encoder.layer.11.intermediate.dense.bias', 'bert.encoder.layer.9.output.dense.weight', 'bert.encoder.layer.11.attention.self.value.bias', 'bert.encoder.layer.7.output.LayerNorm.bias', 'bert.encoder.layer.8.output.LayerNorm.bias', 'bert.encoder.layer.8.attention.self.query.bias', 'bert.encoder.layer.7.attention.output.dense.weight', 'bert.encoder.layer.3.output.dense.weight', 'bert.encoder.layer.8.attention.output.dense.weight', 'bert.encoder.layer.6.intermediate.dense.weight', 'bert.encoder.layer.4.attention.self.value.bias', 'bert.encoder.layer.0.output.LayerNorm.weight', 'bert.encoder.layer.9.attention.output.LayerNorm.bias', 'bert.encoder.layer.3.attention.self.key.weight', 'bert.encoder.layer.3.output.LayerNorm.weight', 'bert.encoder.layer.8.attention.self.key.bias', 'bert.encoder.layer.1.attention.output.LayerNorm.weight', 'bert.encoder.layer.4.intermediate.dense.bias', 'bert.encoder.layer.0.attention.output.dense.weight', 'bert.encoder.layer.9.attention.self.query.weight', 'bert.encoder.layer.4.attention.self.value.weight', 'bert.encoder.layer.2.attention.output.dense.bias', 'bert.encoder.layer.4.attention.self.key.weight', 'bert.encoder.layer.6.attention.output.dense.weight', 'bert.encoder.layer.5.attention.self.value.bias', 'bert.encoder.layer.9.output.LayerNorm.weight', 'bert.encoder.layer.3.attention.output.LayerNorm.bias', 'bert.encoder.layer.8.attention.output.LayerNorm.bias', 'bert.encoder.layer.1.attention.output.dense.bias', 'bert.encoder.layer.7.output.LayerNorm.weight', 'bert.encoder.layer.0.attention.self.value.weight', 'bert.encoder.layer.6.output.LayerNorm.weight']\n",
            "You should probably TRAIN this model on a down-stream task to be able to use it for predictions and inference.\n"
          ]
        }
      ],
      "source": [
        "encoder = BertModel.from_pretrained(PRE_TRAINED_MODEL_NAME, state_dict=state_dict)"
      ]
    },
    {
      "cell_type": "markdown",
      "metadata": {
        "id": "-8KEYDCtv10a"
      },
      "source": [
        "Замораживаем веса энкодера, чтобы они не обучались больше"
      ]
    },
    {
      "cell_type": "code",
      "execution_count": 26,
      "metadata": {
        "id": "7HJDg3JUDdd3"
      },
      "outputs": [],
      "source": [
        "for param in encoder.parameters():\n",
        "    param.requires_grad = False"
      ]
    },
    {
      "cell_type": "code",
      "execution_count": 27,
      "metadata": {
        "id": "SVQ5jMBtOd3b"
      },
      "outputs": [],
      "source": [
        "class BertCRF(nn.Module):\n",
        "\n",
        "    def __init__(self, bert_model, num_labels, hidden_dropout_prob, hidden_size):\n",
        "        super().__init__()\n",
        "        self.num_labels = num_labels\n",
        "\n",
        "        self.bert = bert_model\n",
        "        self.dropout = nn.Dropout(hidden_dropout_prob)\n",
        "        self.classifier = nn.Linear(hidden_size, num_labels)\n",
        "        self.crf = CRF(num_tags=num_labels, batch_first=True)\n",
        "\n",
        "    def forward(\n",
        "        self,\n",
        "        input_ids=None,\n",
        "        attention_mask=None):\n",
        "\n",
        "        outputs = self.bert(\n",
        "            input_ids,\n",
        "            attention_mask=attention_mask)\n",
        "\n",
        "        sequence_output = outputs[0]\n",
        "        sequence_output = self.dropout(sequence_output)\n",
        "        logits = self.classifier(sequence_output)\n",
        "        return logits\n",
        "\n",
        "    def loss(self, logits, labels, crf_masks):\n",
        "        logits = logits[:,1:]\n",
        "        labels = labels[:,1:]\n",
        "        crf_masks = crf_masks[:,1:]\n",
        "        log_likelihood = self.crf(logits, labels, mask=crf_masks)\n",
        "        loss = 0 - log_likelihood\n",
        "        return loss\n",
        "    \n",
        "    def predict(self, logits, crf_masks):\n",
        "        logits = logits[:,1:]\n",
        "        crf_masks = crf_masks[:,1:]\n",
        "        tags = self.crf.decode(logits, mask=crf_masks)\n",
        "        return tags"
      ]
    },
    {
      "cell_type": "code",
      "execution_count": 28,
      "metadata": {
        "id": "YCGhrEBx9tob"
      },
      "outputs": [],
      "source": [
        "def get_predictions(model, data_loader):\n",
        "    model = model.eval()\n",
        "\n",
        "    predictions = []\n",
        "    real_values = []\n",
        "\n",
        "    for d in data_loader:\n",
        "        input_ids = d['ids'].to(device)\n",
        "        targets = d['targets'].to(device)\n",
        "        crf_masks = d['crf_masks'].to(device)\n",
        "        bert_masks = d['bert_masks'].to(device)\n",
        "\n",
        "        output = bertCrf(input_ids=input_ids,\n",
        "                        attention_mask=bert_masks)\n",
        "        pred = bertCrf.predict(output, crf_masks)\n",
        "        targets_list = []\n",
        "        for sent_tar in targets:\n",
        "            targets_sent = [i for i in sent_tar.tolist() if i != 5]\n",
        "            targets_list.extend(targets_sent)\n",
        "        pred = sum(pred, [])\n",
        "        targets = targets_list\n",
        "        try:\n",
        "            assert len(pred)==len(targets)\n",
        "        except AssertionError:\n",
        "            print(len(pred), len(targets))\n",
        "            print(crf_masks)\n",
        "            raise\n",
        "        predictions.extend(pred)\n",
        "        real_values.extend(targets)\n",
        "    # print(len(predictions)) \n",
        "    # print(len(real_values))\n",
        "    return predictions, real_values\n",
        "    predictions_stack = []\n",
        "    real_values_stack = []\n",
        "    for sent in predictions:\n",
        "        for i in sent:\n",
        "            predictions_stack.append(i)\n",
        "    for sent in real_values:\n",
        "        for i in sent:\n",
        "            real_values_stack.append(i)\n",
        "    return predictions_stack, real_values_stack"
      ]
    },
    {
      "cell_type": "code",
      "execution_count": 29,
      "metadata": {
        "id": "m8XZxE-rE-dh"
      },
      "outputs": [],
      "source": [
        "def train_epoch(model, data_loader, optimizer):\n",
        "    model.train()\n",
        "    loss_epoch=0\n",
        "    for d in data_loader:\n",
        "        input_ids = d['ids'].to(device)\n",
        "        targets = d['targets'].to(device)\n",
        "        crf_masks = d['crf_masks'].to(device)\n",
        "        bert_masks = d['bert_masks'].to(device)\n",
        "        output = model(input_ids=input_ids,\n",
        "                attention_mask=bert_masks)\n",
        "        \n",
        "        loss = model.loss(logits=output, labels=targets, crf_masks=crf_masks)\n",
        "        loss.backward()\n",
        "        loss_epoch += loss.item()\n",
        "        optimizer.step()\n",
        "        optimizer.zero_grad()\n",
        "    return loss_epoch\n"
      ]
    },
    {
      "cell_type": "code",
      "execution_count": 30,
      "metadata": {
        "id": "ONqigItjJOTv"
      },
      "outputs": [],
      "source": [
        "def evaluate(data_loader):\n",
        "    bertCrf.eval()\n",
        "    loss_epoch = 0\n",
        "    preds = []\n",
        "    for d in data_loader:\n",
        "        input_ids = d['ids'].to(device)\n",
        "        targets = d['targets'].to(device)\n",
        "        crf_masks = d['crf_masks'].to(device)\n",
        "        bert_masks = d['bert_masks'].to(device)\n",
        "        output = bertCrf(input_ids=input_ids,\n",
        "                attention_mask=bert_masks)\n",
        "        pred = bertCrf.predict(output, crf_masks)\n",
        "        preds.append(pred)\n",
        "        loss = bertCrf.loss(logits=output, labels=targets, crf_masks=crf_masks)\n",
        "        loss_epoch += loss.item()\n",
        "    return preds, loss_epoch"
      ]
    },
    {
      "cell_type": "code",
      "execution_count": 31,
      "metadata": {
        "colab": {
          "base_uri": "https://localhost:8080/"
        },
        "id": "H6Y28XFCzctg",
        "outputId": "ca6b5055-a282-4949-d059-ade674d12858"
      },
      "outputs": [
        {
          "output_type": "stream",
          "name": "stdout",
          "text": [
            "Epoch: 0\n",
            "Epoch: 1\n",
            "Epoch: 2\n",
            "Epoch: 3\n",
            "Epoch: 4\n",
            "Epoch: 5\n",
            "Epoch: 6\n",
            "Epoch: 7\n",
            "Epoch: 8\n",
            "Epoch: 9\n",
            "Epoch: 10\n",
            "Epoch: 11\n",
            "Epoch: 12\n",
            "Epoch: 13\n",
            "Epoch: 14\n",
            "Epoch: 15\n",
            "Epoch: 16\n",
            "Epoch: 17\n",
            "Epoch: 18\n",
            "Epoch: 19\n",
            "Epoch: 20\n",
            "Epoch: 21\n",
            "Epoch: 22\n",
            "Epoch: 23\n",
            "Epoch: 24\n",
            "Epoch: 25\n",
            "Epoch: 26\n",
            "Epoch: 27\n",
            "Epoch: 28\n",
            "Epoch: 29\n",
            "Epoch: 30\n",
            "Epoch: 31\n",
            "Epoch: 32\n",
            "Epoch: 33\n",
            "Epoch: 34\n",
            "Epoch: 35\n",
            "Epoch: 36\n",
            "Epoch: 37\n",
            "Epoch: 38\n",
            "Epoch: 39\n",
            "Epoch: 40\n",
            "Epoch: 41\n",
            "Epoch: 42\n",
            "Epoch: 43\n",
            "Epoch: 44\n",
            "Epoch: 45\n",
            "Epoch: 46\n",
            "Epoch: 47\n",
            "Epoch: 48\n",
            "Epoch: 49\n"
          ]
        }
      ],
      "source": [
        "losses_train = []\n",
        "losses_eval = []\n",
        "n_epochs = 50\n",
        "bertCrf = BertCRF(encoder, 6, 0.2, 768)\n",
        "bertCrf.to(device)\n",
        "optimizer = optim.Adam(bertCrf.parameters(), lr=0.0002)\n",
        "for e in range(n_epochs):\n",
        "    print(f\"Epoch: {e}\")\n",
        "    train_loss_epoch = train_epoch(bertCrf, train_data_loader, optimizer)\n",
        "    losses_train.append(train_loss_epoch)\n",
        "    preds, eval_loss_epoch = evaluate(test_data_loader)\n",
        "    losses_eval.append(eval_loss_epoch)\n"
      ]
    },
    {
      "cell_type": "code",
      "execution_count": 32,
      "metadata": {
        "id": "uODHvfYFAnb6"
      },
      "outputs": [],
      "source": [
        "import matplotlib.pyplot as plt\n",
        "def plot_losses(losses, val_losses):\n",
        "    plt.plot(losses)\n",
        "    plt.plot(val_losses)\n",
        "    plt.title('Loss value')\n",
        "    plt.ylabel('Loss')\n",
        "    plt.xlabel('epoch')\n",
        "    plt.legend(['train', 'val'], loc='upper right')\n",
        "    plt.show()"
      ]
    },
    {
      "cell_type": "code",
      "execution_count": 33,
      "metadata": {
        "colab": {
          "base_uri": "https://localhost:8080/",
          "height": 295
        },
        "id": "_Axf7PaQBKE-",
        "outputId": "46456580-608f-46aa-a2ad-e1193558b862"
      },
      "outputs": [
        {
          "output_type": "display_data",
          "data": {
            "text/plain": [
              "<Figure size 432x288 with 1 Axes>"
            ],
            "image/png": "[encoded data removed]"
          },
          "metadata": {
            "needs_background": "light"
          }
        }
      ],
      "source": [
        "plot_losses(losses_train, losses_eval)"
      ]
    },
    {
      "cell_type": "code",
      "execution_count": 34,
      "metadata": {
        "id": "XRNDwkl7Amks"
      },
      "outputs": [],
      "source": [
        "y_pred, y_test = get_predictions(bertCrf, eval_data_loader)"
      ]
    },
    {
      "cell_type": "code",
      "execution_count": 35,
      "metadata": {
        "colab": {
          "base_uri": "https://localhost:8080/"
        },
        "id": "dfgtSpkCHdN2",
        "outputId": "d4a9c774-8919-4d9f-bc16-c3b3609b36d4"
      },
      "outputs": [
        {
          "output_type": "stream",
          "name": "stdout",
          "text": [
            "              precision    recall  f1-score   support\n",
            "\n",
            "           0      0.326     0.806     0.464       124\n",
            "           1      0.097     0.129     0.111        93\n",
            "           2      0.000     0.000     0.000       115\n",
            "           3      0.803     0.793     0.798      1801\n",
            "           4      0.561     0.513     0.536       913\n",
            "\n",
            "    accuracy                          0.659      3046\n",
            "   macro avg      0.357     0.448     0.382      3046\n",
            "weighted avg      0.659     0.659     0.655      3046\n",
            "\n"
          ]
        }
      ],
      "source": [
        "print(classification_report(y_test, y_pred, target_names=['0', '1', '2', '3', '4'], digits=3))"
      ]
    },
    {
      "cell_type": "code",
      "source": [
        "def show_confusion_matrix(confusion_matrix):\n",
        "  hmap = sns.heatmap(confusion_matrix, annot=True, fmt=\"d\", cmap=\"Blues\")\n",
        "  hmap.yaxis.set_ticklabels(hmap.yaxis.get_ticklabels(), rotation=0, ha='right')\n",
        "  hmap.xaxis.set_ticklabels(hmap.xaxis.get_ticklabels(), rotation=30, ha='right')\n",
        "  plt.ylabel('True class')\n",
        "  plt.xlabel('Predicted class');\n",
        "\n",
        "cm = confusion_matrix(y_test, y_pred)\n",
        "df_cm = pd.DataFrame(cm, index=['B-TERM', 'I-TERM', 'B-DEF', 'I-DEF', 'O'], columns=['B-TERM', 'I-TERM', 'B-DEF', 'I-DEF', 'O'])\n",
        "show_confusion_matrix(df_cm)"
      ],
      "metadata": {
        "colab": {
          "base_uri": "https://localhost:8080/",
          "height": 297
        },
        "id": "4PNu7HhrCmQ3",
        "outputId": "802ea62b-d7f8-4018-fdb1-0aef874cc4a3"
      },
      "execution_count": 36,
      "outputs": [
        {
          "output_type": "display_data",
          "data": {
            "text/plain": [
              "<Figure size 432x288 with 2 Axes>"
            ],
            "image/png": "[encoded data removed]"
          },
          "metadata": {
            "needs_background": "light"
          }
        }
      ]
    }
  ],
  "metadata": {
    "accelerator": "GPU",
    "colab": {
      "collapsed_sections": [],
      "name": "bertCRF (1).ipynb",
      "provenance": []
    },
    "kernelspec": {
      "display_name": "Python 3 (ipykernel)",
      "language": "python",
      "name": "python3"
    },
    "language_info": {
      "codemirror_mode": {
        "name": "ipython",
        "version": 3
      },
      "file_extension": ".py",
      "mimetype": "text/x-python",
      "name": "python",
      "nbconvert_exporter": "python",
      "pygments_lexer": "ipython3",
      "version": "3.9.7"
    },
    "widgets": {
      "application/vnd.jupyter.widget-state+json": {
        "2fe19a2f80eb4f35b057269e05de1266": {
          "model_module": "@jupyter-widgets/controls",
          "model_name": "HBoxModel",
          "model_module_version": "1.5.0",
          "state": {
            "_dom_classes": [],
            "_model_module": "@jupyter-widgets/controls",
            "_model_module_version": "1.5.0",
            "_model_name": "HBoxModel",
            "_view_count": null,
            "_view_module": "@jupyter-widgets/controls",
            "_view_module_version": "1.5.0",
            "_view_name": "HBoxView",
            "box_style": "",
            "children": [
              "IPY_MODEL_4d5b06090b184969a6b6f77d9bdbaeb1",
              "IPY_MODEL_29ca9883bae643598938bed9ca87b8f8",
              "IPY_MODEL_69eb932103184bd6889b92e0fde0c2b6"
            ],
            "layout": "IPY_MODEL_52e8da61f00140d88dbed616418033a9"
          }
        },
        "4d5b06090b184969a6b6f77d9bdbaeb1": {
          "model_module": "@jupyter-widgets/controls",
          "model_name": "HTMLModel",
          "model_module_version": "1.5.0",
          "state": {
            "_dom_classes": [],
            "_model_module": "@jupyter-widgets/controls",
            "_model_module_version": "1.5.0",
            "_model_name": "HTMLModel",
            "_view_count": null,
            "_view_module": "@jupyter-widgets/controls",
            "_view_module_version": "1.5.0",
            "_view_name": "HTMLView",
            "description": "",
            "description_tooltip": null,
            "layout": "IPY_MODEL_e447358c022c440096050e6b5af3a804",
            "placeholder": "​",
            "style": "IPY_MODEL_08a4bc6e5c1b488f8b4ab583a259e2bf",
            "value": "Downloading: 100%"
          }
        },
        "29ca9883bae643598938bed9ca87b8f8": {
          "model_module": "@jupyter-widgets/controls",
          "model_name": "FloatProgressModel",
          "model_module_version": "1.5.0",
          "state": {
            "_dom_classes": [],
            "_model_module": "@jupyter-widgets/controls",
            "_model_module_version": "1.5.0",
            "_model_name": "FloatProgressModel",
            "_view_count": null,
            "_view_module": "@jupyter-widgets/controls",
            "_view_module_version": "1.5.0",
            "_view_name": "ProgressView",
            "bar_style": "success",
            "description": "",
            "description_tooltip": null,
            "layout": "IPY_MODEL_80a58487b3a74ff0a55d29c4ae14a058",
            "max": 871891,
            "min": 0,
            "orientation": "horizontal",
            "style": "IPY_MODEL_fffff4890f0d4615912df23e22a8c169",
            "value": 871891
          }
        },
        "69eb932103184bd6889b92e0fde0c2b6": {
          "model_module": "@jupyter-widgets/controls",
          "model_name": "HTMLModel",
          "model_module_version": "1.5.0",
          "state": {
            "_dom_classes": [],
            "_model_module": "@jupyter-widgets/controls",
            "_model_module_version": "1.5.0",
            "_model_name": "HTMLModel",
            "_view_count": null,
            "_view_module": "@jupyter-widgets/controls",
            "_view_module_version": "1.5.0",
            "_view_name": "HTMLView",
            "description": "",
            "description_tooltip": null,
            "layout": "IPY_MODEL_543cd77a6a2148789458b923a252b509",
            "placeholder": "​",
            "style": "IPY_MODEL_95861104bedf4a5584b3753dcd68fd68",
            "value": " 851k/851k [00:00&lt;00:00, 2.11MB/s]"
          }
        },
        "52e8da61f00140d88dbed616418033a9": {
          "model_module": "@jupyter-widgets/base",
          "model_name": "LayoutModel",
          "model_module_version": "1.2.0",
          "state": {
            "_model_module": "@jupyter-widgets/base",
            "_model_module_version": "1.2.0",
            "_model_name": "LayoutModel",
            "_view_count": null,
            "_view_module": "@jupyter-widgets/base",
            "_view_module_version": "1.2.0",
            "_view_name": "LayoutView",
            "align_content": null,
            "align_items": null,
            "align_self": null,
            "border": null,
            "bottom": null,
            "display": null,
            "flex": null,
            "flex_flow": null,
            "grid_area": null,
            "grid_auto_columns": null,
            "grid_auto_flow": null,
            "grid_auto_rows": null,
            "grid_column": null,
            "grid_gap": null,
            "grid_row": null,
            "grid_template_areas": null,
            "grid_template_columns": null,
            "grid_template_rows": null,
            "height": null,
            "justify_content": null,
            "justify_items": null,
            "left": null,
            "margin": null,
            "max_height": null,
            "max_width": null,
            "min_height": null,
            "min_width": null,
            "object_fit": null,
            "object_position": null,
            "order": null,
            "overflow": null,
            "overflow_x": null,
            "overflow_y": null,
            "padding": null,
            "right": null,
            "top": null,
            "visibility": null,
            "width": null
          }
        },
        "e447358c022c440096050e6b5af3a804": {
          "model_module": "@jupyter-widgets/base",
          "model_name": "LayoutModel",
          "model_module_version": "1.2.0",
          "state": {
            "_model_module": "@jupyter-widgets/base",
            "_model_module_version": "1.2.0",
            "_model_name": "LayoutModel",
            "_view_count": null,
            "_view_module": "@jupyter-widgets/base",
            "_view_module_version": "1.2.0",
            "_view_name": "LayoutView",
            "align_content": null,
            "align_items": null,
            "align_self": null,
            "border": null,
            "bottom": null,
            "display": null,
            "flex": null,
            "flex_flow": null,
            "grid_area": null,
            "grid_auto_columns": null,
            "grid_auto_flow": null,
            "grid_auto_rows": null,
            "grid_column": null,
            "grid_gap": null,
            "grid_row": null,
            "grid_template_areas": null,
            "grid_template_columns": null,
            "grid_template_rows": null,
            "height": null,
            "justify_content": null,
            "justify_items": null,
            "left": null,
            "margin": null,
            "max_height": null,
            "max_width": null,
            "min_height": null,
            "min_width": null,
            "object_fit": null,
            "object_position": null,
            "order": null,
            "overflow": null,
            "overflow_x": null,
            "overflow_y": null,
            "padding": null,
            "right": null,
            "top": null,
            "visibility": null,
            "width": null
          }
        },
        "08a4bc6e5c1b488f8b4ab583a259e2bf": {
          "model_module": "@jupyter-widgets/controls",
          "model_name": "DescriptionStyleModel",
          "model_module_version": "1.5.0",
          "state": {
            "_model_module": "@jupyter-widgets/controls",
            "_model_module_version": "1.5.0",
            "_model_name": "DescriptionStyleModel",
            "_view_count": null,
            "_view_module": "@jupyter-widgets/base",
            "_view_module_version": "1.2.0",
            "_view_name": "StyleView",
            "description_width": ""
          }
        },
        "80a58487b3a74ff0a55d29c4ae14a058": {
          "model_module": "@jupyter-widgets/base",
          "model_name": "LayoutModel",
          "model_module_version": "1.2.0",
          "state": {
            "_model_module": "@jupyter-widgets/base",
            "_model_module_version": "1.2.0",
            "_model_name": "LayoutModel",
            "_view_count": null,
            "_view_module": "@jupyter-widgets/base",
            "_view_module_version": "1.2.0",
            "_view_name": "LayoutView",
            "align_content": null,
            "align_items": null,
            "align_self": null,
            "border": null,
            "bottom": null,
            "display": null,
            "flex": null,
            "flex_flow": null,
            "grid_area": null,
            "grid_auto_columns": null,
            "grid_auto_flow": null,
            "grid_auto_rows": null,
            "grid_column": null,
            "grid_gap": null,
            "grid_row": null,
            "grid_template_areas": null,
            "grid_template_columns": null,
            "grid_template_rows": null,
            "height": null,
            "justify_content": null,
            "justify_items": null,
            "left": null,
            "margin": null,
            "max_height": null,
            "max_width": null,
            "min_height": null,
            "min_width": null,
            "object_fit": null,
            "object_position": null,
            "order": null,
            "overflow": null,
            "overflow_x": null,
            "overflow_y": null,
            "padding": null,
            "right": null,
            "top": null,
            "visibility": null,
            "width": null
          }
        },
        "fffff4890f0d4615912df23e22a8c169": {
          "model_module": "@jupyter-widgets/controls",
          "model_name": "ProgressStyleModel",
          "model_module_version": "1.5.0",
          "state": {
            "_model_module": "@jupyter-widgets/controls",
            "_model_module_version": "1.5.0",
            "_model_name": "ProgressStyleModel",
            "_view_count": null,
            "_view_module": "@jupyter-widgets/base",
            "_view_module_version": "1.2.0",
            "_view_name": "StyleView",
            "bar_color": null,
            "description_width": ""
          }
        },
        "543cd77a6a2148789458b923a252b509": {
          "model_module": "@jupyter-widgets/base",
          "model_name": "LayoutModel",
          "model_module_version": "1.2.0",
          "state": {
            "_model_module": "@jupyter-widgets/base",
            "_model_module_version": "1.2.0",
            "_model_name": "LayoutModel",
            "_view_count": null,
            "_view_module": "@jupyter-widgets/base",
            "_view_module_version": "1.2.0",
            "_view_name": "LayoutView",
            "align_content": null,
            "align_items": null,
            "align_self": null,
            "border": null,
            "bottom": null,
            "display": null,
            "flex": null,
            "flex_flow": null,
            "grid_area": null,
            "grid_auto_columns": null,
            "grid_auto_flow": null,
            "grid_auto_rows": null,
            "grid_column": null,
            "grid_gap": null,
            "grid_row": null,
            "grid_template_areas": null,
            "grid_template_columns": null,
            "grid_template_rows": null,
            "height": null,
            "justify_content": null,
            "justify_items": null,
            "left": null,
            "margin": null,
            "max_height": null,
            "max_width": null,
            "min_height": null,
            "min_width": null,
            "object_fit": null,
            "object_position": null,
            "order": null,
            "overflow": null,
            "overflow_x": null,
            "overflow_y": null,
            "padding": null,
            "right": null,
            "top": null,
            "visibility": null,
            "width": null
          }
        },
        "95861104bedf4a5584b3753dcd68fd68": {
          "model_module": "@jupyter-widgets/controls",
          "model_name": "DescriptionStyleModel",
          "model_module_version": "1.5.0",
          "state": {
            "_model_module": "@jupyter-widgets/controls",
            "_model_module_version": "1.5.0",
            "_model_name": "DescriptionStyleModel",
            "_view_count": null,
            "_view_module": "@jupyter-widgets/base",
            "_view_module_version": "1.2.0",
            "_view_name": "StyleView",
            "description_width": ""
          }
        },
        "7c3c0198b9bb468286c23072efde9df7": {
          "model_module": "@jupyter-widgets/controls",
          "model_name": "HBoxModel",
          "model_module_version": "1.5.0",
          "state": {
            "_dom_classes": [],
            "_model_module": "@jupyter-widgets/controls",
            "_model_module_version": "1.5.0",
            "_model_name": "HBoxModel",
            "_view_count": null,
            "_view_module": "@jupyter-widgets/controls",
            "_view_module_version": "1.5.0",
            "_view_name": "HBoxView",
            "box_style": "",
            "children": [
              "IPY_MODEL_85722e310d4f448da471d9528bcdd3a8",
              "IPY_MODEL_1aa98548297d41b9ad3fffd926f171e0",
              "IPY_MODEL_c26ad9af23484721abf2807309285e19"
            ],
            "layout": "IPY_MODEL_a406c33b92ec48b3b5b261ed1a9fb24d"
          }
        },
        "85722e310d4f448da471d9528bcdd3a8": {
          "model_module": "@jupyter-widgets/controls",
          "model_name": "HTMLModel",
          "model_module_version": "1.5.0",
          "state": {
            "_dom_classes": [],
            "_model_module": "@jupyter-widgets/controls",
            "_model_module_version": "1.5.0",
            "_model_name": "HTMLModel",
            "_view_count": null,
            "_view_module": "@jupyter-widgets/controls",
            "_view_module_version": "1.5.0",
            "_view_name": "HTMLView",
            "description": "",
            "description_tooltip": null,
            "layout": "IPY_MODEL_cc2d1094438a44758dc41d40cc1dd5b4",
            "placeholder": "​",
            "style": "IPY_MODEL_4f57fe7d6fdc48b2a9c9b02c5fca1f5f",
            "value": "Downloading: 100%"
          }
        },
        "1aa98548297d41b9ad3fffd926f171e0": {
          "model_module": "@jupyter-widgets/controls",
          "model_name": "FloatProgressModel",
          "model_module_version": "1.5.0",
          "state": {
            "_dom_classes": [],
            "_model_module": "@jupyter-widgets/controls",
            "_model_module_version": "1.5.0",
            "_model_name": "FloatProgressModel",
            "_view_count": null,
            "_view_module": "@jupyter-widgets/controls",
            "_view_module_version": "1.5.0",
            "_view_name": "ProgressView",
            "bar_style": "success",
            "description": "",
            "description_tooltip": null,
            "layout": "IPY_MODEL_befeb511f39e4ecaa389f9063ba941dc",
            "max": 28,
            "min": 0,
            "orientation": "horizontal",
            "style": "IPY_MODEL_5ba8d09e7a464cf9abae269b585d475f",
            "value": 28
          }
        },
        "c26ad9af23484721abf2807309285e19": {
          "model_module": "@jupyter-widgets/controls",
          "model_name": "HTMLModel",
          "model_module_version": "1.5.0",
          "state": {
            "_dom_classes": [],
            "_model_module": "@jupyter-widgets/controls",
            "_model_module_version": "1.5.0",
            "_model_name": "HTMLModel",
            "_view_count": null,
            "_view_module": "@jupyter-widgets/controls",
            "_view_module_version": "1.5.0",
            "_view_name": "HTMLView",
            "description": "",
            "description_tooltip": null,
            "layout": "IPY_MODEL_5df5dcd637c942bc98bb6d3909b2b41b",
            "placeholder": "​",
            "style": "IPY_MODEL_3d4e036fa8ec4954900fc5bcb6dcb22b",
            "value": " 28.0/28.0 [00:00&lt;00:00, 883B/s]"
          }
        },
        "a406c33b92ec48b3b5b261ed1a9fb24d": {
          "model_module": "@jupyter-widgets/base",
          "model_name": "LayoutModel",
          "model_module_version": "1.2.0",
          "state": {
            "_model_module": "@jupyter-widgets/base",
            "_model_module_version": "1.2.0",
            "_model_name": "LayoutModel",
            "_view_count": null,
            "_view_module": "@jupyter-widgets/base",
            "_view_module_version": "1.2.0",
            "_view_name": "LayoutView",
            "align_content": null,
            "align_items": null,
            "align_self": null,
            "border": null,
            "bottom": null,
            "display": null,
            "flex": null,
            "flex_flow": null,
            "grid_area": null,
            "grid_auto_columns": null,
            "grid_auto_flow": null,
            "grid_auto_rows": null,
            "grid_column": null,
            "grid_gap": null,
            "grid_row": null,
            "grid_template_areas": null,
            "grid_template_columns": null,
            "grid_template_rows": null,
            "height": null,
            "justify_content": null,
            "justify_items": null,
            "left": null,
            "margin": null,
            "max_height": null,
            "max_width": null,
            "min_height": null,
            "min_width": null,
            "object_fit": null,
            "object_position": null,
            "order": null,
            "overflow": null,
            "overflow_x": null,
            "overflow_y": null,
            "padding": null,
            "right": null,
            "top": null,
            "visibility": null,
            "width": null
          }
        },
        "cc2d1094438a44758dc41d40cc1dd5b4": {
          "model_module": "@jupyter-widgets/base",
          "model_name": "LayoutModel",
          "model_module_version": "1.2.0",
          "state": {
            "_model_module": "@jupyter-widgets/base",
            "_model_module_version": "1.2.0",
            "_model_name": "LayoutModel",
            "_view_count": null,
            "_view_module": "@jupyter-widgets/base",
            "_view_module_version": "1.2.0",
            "_view_name": "LayoutView",
            "align_content": null,
            "align_items": null,
            "align_self": null,
            "border": null,
            "bottom": null,
            "display": null,
            "flex": null,
            "flex_flow": null,
            "grid_area": null,
            "grid_auto_columns": null,
            "grid_auto_flow": null,
            "grid_auto_rows": null,
            "grid_column": null,
            "grid_gap": null,
            "grid_row": null,
            "grid_template_areas": null,
            "grid_template_columns": null,
            "grid_template_rows": null,
            "height": null,
            "justify_content": null,
            "justify_items": null,
            "left": null,
            "margin": null,
            "max_height": null,
            "max_width": null,
            "min_height": null,
            "min_width": null,
            "object_fit": null,
            "object_position": null,
            "order": null,
            "overflow": null,
            "overflow_x": null,
            "overflow_y": null,
            "padding": null,
            "right": null,
            "top": null,
            "visibility": null,
            "width": null
          }
        },
        "4f57fe7d6fdc48b2a9c9b02c5fca1f5f": {
          "model_module": "@jupyter-widgets/controls",
          "model_name": "DescriptionStyleModel",
          "model_module_version": "1.5.0",
          "state": {
            "_model_module": "@jupyter-widgets/controls",
            "_model_module_version": "1.5.0",
            "_model_name": "DescriptionStyleModel",
            "_view_count": null,
            "_view_module": "@jupyter-widgets/base",
            "_view_module_version": "1.2.0",
            "_view_name": "StyleView",
            "description_width": ""
          }
        },
        "befeb511f39e4ecaa389f9063ba941dc": {
          "model_module": "@jupyter-widgets/base",
          "model_name": "LayoutModel",
          "model_module_version": "1.2.0",
          "state": {
            "_model_module": "@jupyter-widgets/base",
            "_model_module_version": "1.2.0",
            "_model_name": "LayoutModel",
            "_view_count": null,
            "_view_module": "@jupyter-widgets/base",
            "_view_module_version": "1.2.0",
            "_view_name": "LayoutView",
            "align_content": null,
            "align_items": null,
            "align_self": null,
            "border": null,
            "bottom": null,
            "display": null,
            "flex": null,
            "flex_flow": null,
            "grid_area": null,
            "grid_auto_columns": null,
            "grid_auto_flow": null,
            "grid_auto_rows": null,
            "grid_column": null,
            "grid_gap": null,
            "grid_row": null,
            "grid_template_areas": null,
            "grid_template_columns": null,
            "grid_template_rows": null,
            "height": null,
            "justify_content": null,
            "justify_items": null,
            "left": null,
            "margin": null,
            "max_height": null,
            "max_width": null,
            "min_height": null,
            "min_width": null,
            "object_fit": null,
            "object_position": null,
            "order": null,
            "overflow": null,
            "overflow_x": null,
            "overflow_y": null,
            "padding": null,
            "right": null,
            "top": null,
            "visibility": null,
            "width": null
          }
        },
        "5ba8d09e7a464cf9abae269b585d475f": {
          "model_module": "@jupyter-widgets/controls",
          "model_name": "ProgressStyleModel",
          "model_module_version": "1.5.0",
          "state": {
            "_model_module": "@jupyter-widgets/controls",
            "_model_module_version": "1.5.0",
            "_model_name": "ProgressStyleModel",
            "_view_count": null,
            "_view_module": "@jupyter-widgets/base",
            "_view_module_version": "1.2.0",
            "_view_name": "StyleView",
            "bar_color": null,
            "description_width": ""
          }
        },
        "5df5dcd637c942bc98bb6d3909b2b41b": {
          "model_module": "@jupyter-widgets/base",
          "model_name": "LayoutModel",
          "model_module_version": "1.2.0",
          "state": {
            "_model_module": "@jupyter-widgets/base",
            "_model_module_version": "1.2.0",
            "_model_name": "LayoutModel",
            "_view_count": null,
            "_view_module": "@jupyter-widgets/base",
            "_view_module_version": "1.2.0",
            "_view_name": "LayoutView",
            "align_content": null,
            "align_items": null,
            "align_self": null,
            "border": null,
            "bottom": null,
            "display": null,
            "flex": null,
            "flex_flow": null,
            "grid_area": null,
            "grid_auto_columns": null,
            "grid_auto_flow": null,
            "grid_auto_rows": null,
            "grid_column": null,
            "grid_gap": null,
            "grid_row": null,
            "grid_template_areas": null,
            "grid_template_columns": null,
            "grid_template_rows": null,
            "height": null,
            "justify_content": null,
            "justify_items": null,
            "left": null,
            "margin": null,
            "max_height": null,
            "max_width": null,
            "min_height": null,
            "min_width": null,
            "object_fit": null,
            "object_position": null,
            "order": null,
            "overflow": null,
            "overflow_x": null,
            "overflow_y": null,
            "padding": null,
            "right": null,
            "top": null,
            "visibility": null,
            "width": null
          }
        },
        "3d4e036fa8ec4954900fc5bcb6dcb22b": {
          "model_module": "@jupyter-widgets/controls",
          "model_name": "DescriptionStyleModel",
          "model_module_version": "1.5.0",
          "state": {
            "_model_module": "@jupyter-widgets/controls",
            "_model_module_version": "1.5.0",
            "_model_name": "DescriptionStyleModel",
            "_view_count": null,
            "_view_module": "@jupyter-widgets/base",
            "_view_module_version": "1.2.0",
            "_view_name": "StyleView",
            "description_width": ""
          }
        },
        "ca17fe87557844c68da5a4e2b37ad227": {
          "model_module": "@jupyter-widgets/controls",
          "model_name": "HBoxModel",
          "model_module_version": "1.5.0",
          "state": {
            "_dom_classes": [],
            "_model_module": "@jupyter-widgets/controls",
            "_model_module_version": "1.5.0",
            "_model_name": "HBoxModel",
            "_view_count": null,
            "_view_module": "@jupyter-widgets/controls",
            "_view_module_version": "1.5.0",
            "_view_name": "HBoxView",
            "box_style": "",
            "children": [
              "IPY_MODEL_2d997555c70a4999b5e6628ad1d40893",
              "IPY_MODEL_76cd8a003ea44c14a8e66eaf16277f5f",
              "IPY_MODEL_af6a4a199d364aba815d31cf948f43d5"
            ],
            "layout": "IPY_MODEL_d25b1278bae04541bd944798d4e2650f"
          }
        },
        "2d997555c70a4999b5e6628ad1d40893": {
          "model_module": "@jupyter-widgets/controls",
          "model_name": "HTMLModel",
          "model_module_version": "1.5.0",
          "state": {
            "_dom_classes": [],
            "_model_module": "@jupyter-widgets/controls",
            "_model_module_version": "1.5.0",
            "_model_name": "HTMLModel",
            "_view_count": null,
            "_view_module": "@jupyter-widgets/controls",
            "_view_module_version": "1.5.0",
            "_view_name": "HTMLView",
            "description": "",
            "description_tooltip": null,
            "layout": "IPY_MODEL_4f558ae136514a4583f8f398fb416bec",
            "placeholder": "​",
            "style": "IPY_MODEL_d030a5fb49714e8581f10d90fa5c5eb6",
            "value": "Downloading: 100%"
          }
        },
        "76cd8a003ea44c14a8e66eaf16277f5f": {
          "model_module": "@jupyter-widgets/controls",
          "model_name": "FloatProgressModel",
          "model_module_version": "1.5.0",
          "state": {
            "_dom_classes": [],
            "_model_module": "@jupyter-widgets/controls",
            "_model_module_version": "1.5.0",
            "_model_name": "FloatProgressModel",
            "_view_count": null,
            "_view_module": "@jupyter-widgets/controls",
            "_view_module_version": "1.5.0",
            "_view_name": "ProgressView",
            "bar_style": "success",
            "description": "",
            "description_tooltip": null,
            "layout": "IPY_MODEL_2477bb5569ff40acb842b0675bb5d6f3",
            "max": 625,
            "min": 0,
            "orientation": "horizontal",
            "style": "IPY_MODEL_cd399502a66e41b69cda6da15a58ad44",
            "value": 625
          }
        },
        "af6a4a199d364aba815d31cf948f43d5": {
          "model_module": "@jupyter-widgets/controls",
          "model_name": "HTMLModel",
          "model_module_version": "1.5.0",
          "state": {
            "_dom_classes": [],
            "_model_module": "@jupyter-widgets/controls",
            "_model_module_version": "1.5.0",
            "_model_name": "HTMLModel",
            "_view_count": null,
            "_view_module": "@jupyter-widgets/controls",
            "_view_module_version": "1.5.0",
            "_view_name": "HTMLView",
            "description": "",
            "description_tooltip": null,
            "layout": "IPY_MODEL_d5a84bab2e1747839a10d3c072381a50",
            "placeholder": "​",
            "style": "IPY_MODEL_61fbe4563b8c47e28f6dbffaf1d1e183",
            "value": " 625/625 [00:00&lt;00:00, 16.9kB/s]"
          }
        },
        "d25b1278bae04541bd944798d4e2650f": {
          "model_module": "@jupyter-widgets/base",
          "model_name": "LayoutModel",
          "model_module_version": "1.2.0",
          "state": {
            "_model_module": "@jupyter-widgets/base",
            "_model_module_version": "1.2.0",
            "_model_name": "LayoutModel",
            "_view_count": null,
            "_view_module": "@jupyter-widgets/base",
            "_view_module_version": "1.2.0",
            "_view_name": "LayoutView",
            "align_content": null,
            "align_items": null,
            "align_self": null,
            "border": null,
            "bottom": null,
            "display": null,
            "flex": null,
            "flex_flow": null,
            "grid_area": null,
            "grid_auto_columns": null,
            "grid_auto_flow": null,
            "grid_auto_rows": null,
            "grid_column": null,
            "grid_gap": null,
            "grid_row": null,
            "grid_template_areas": null,
            "grid_template_columns": null,
            "grid_template_rows": null,
            "height": null,
            "justify_content": null,
            "justify_items": null,
            "left": null,
            "margin": null,
            "max_height": null,
            "max_width": null,
            "min_height": null,
            "min_width": null,
            "object_fit": null,
            "object_position": null,
            "order": null,
            "overflow": null,
            "overflow_x": null,
            "overflow_y": null,
            "padding": null,
            "right": null,
            "top": null,
            "visibility": null,
            "width": null
          }
        },
        "4f558ae136514a4583f8f398fb416bec": {
          "model_module": "@jupyter-widgets/base",
          "model_name": "LayoutModel",
          "model_module_version": "1.2.0",
          "state": {
            "_model_module": "@jupyter-widgets/base",
            "_model_module_version": "1.2.0",
            "_model_name": "LayoutModel",
            "_view_count": null,
            "_view_module": "@jupyter-widgets/base",
            "_view_module_version": "1.2.0",
            "_view_name": "LayoutView",
            "align_content": null,
            "align_items": null,
            "align_self": null,
            "border": null,
            "bottom": null,
            "display": null,
            "flex": null,
            "flex_flow": null,
            "grid_area": null,
            "grid_auto_columns": null,
            "grid_auto_flow": null,
            "grid_auto_rows": null,
            "grid_column": null,
            "grid_gap": null,
            "grid_row": null,
            "grid_template_areas": null,
            "grid_template_columns": null,
            "grid_template_rows": null,
            "height": null,
            "justify_content": null,
            "justify_items": null,
            "left": null,
            "margin": null,
            "max_height": null,
            "max_width": null,
            "min_height": null,
            "min_width": null,
            "object_fit": null,
            "object_position": null,
            "order": null,
            "overflow": null,
            "overflow_x": null,
            "overflow_y": null,
            "padding": null,
            "right": null,
            "top": null,
            "visibility": null,
            "width": null
          }
        },
        "d030a5fb49714e8581f10d90fa5c5eb6": {
          "model_module": "@jupyter-widgets/controls",
          "model_name": "DescriptionStyleModel",
          "model_module_version": "1.5.0",
          "state": {
            "_model_module": "@jupyter-widgets/controls",
            "_model_module_version": "1.5.0",
            "_model_name": "DescriptionStyleModel",
            "_view_count": null,
            "_view_module": "@jupyter-widgets/base",
            "_view_module_version": "1.2.0",
            "_view_name": "StyleView",
            "description_width": ""
          }
        },
        "2477bb5569ff40acb842b0675bb5d6f3": {
          "model_module": "@jupyter-widgets/base",
          "model_name": "LayoutModel",
          "model_module_version": "1.2.0",
          "state": {
            "_model_module": "@jupyter-widgets/base",
            "_model_module_version": "1.2.0",
            "_model_name": "LayoutModel",
            "_view_count": null,
            "_view_module": "@jupyter-widgets/base",
            "_view_module_version": "1.2.0",
            "_view_name": "LayoutView",
            "align_content": null,
            "align_items": null,
            "align_self": null,
            "border": null,
            "bottom": null,
            "display": null,
            "flex": null,
            "flex_flow": null,
            "grid_area": null,
            "grid_auto_columns": null,
            "grid_auto_flow": null,
            "grid_auto_rows": null,
            "grid_column": null,
            "grid_gap": null,
            "grid_row": null,
            "grid_template_areas": null,
            "grid_template_columns": null,
            "grid_template_rows": null,
            "height": null,
            "justify_content": null,
            "justify_items": null,
            "left": null,
            "margin": null,
            "max_height": null,
            "max_width": null,
            "min_height": null,
            "min_width": null,
            "object_fit": null,
            "object_position": null,
            "order": null,
            "overflow": null,
            "overflow_x": null,
            "overflow_y": null,
            "padding": null,
            "right": null,
            "top": null,
            "visibility": null,
            "width": null
          }
        },
        "cd399502a66e41b69cda6da15a58ad44": {
          "model_module": "@jupyter-widgets/controls",
          "model_name": "ProgressStyleModel",
          "model_module_version": "1.5.0",
          "state": {
            "_model_module": "@jupyter-widgets/controls",
            "_model_module_version": "1.5.0",
            "_model_name": "ProgressStyleModel",
            "_view_count": null,
            "_view_module": "@jupyter-widgets/base",
            "_view_module_version": "1.2.0",
            "_view_name": "StyleView",
            "bar_color": null,
            "description_width": ""
          }
        },
        "d5a84bab2e1747839a10d3c072381a50": {
          "model_module": "@jupyter-widgets/base",
          "model_name": "LayoutModel",
          "model_module_version": "1.2.0",
          "state": {
            "_model_module": "@jupyter-widgets/base",
            "_model_module_version": "1.2.0",
            "_model_name": "LayoutModel",
            "_view_count": null,
            "_view_module": "@jupyter-widgets/base",
            "_view_module_version": "1.2.0",
            "_view_name": "LayoutView",
            "align_content": null,
            "align_items": null,
            "align_self": null,
            "border": null,
            "bottom": null,
            "display": null,
            "flex": null,
            "flex_flow": null,
            "grid_area": null,
            "grid_auto_columns": null,
            "grid_auto_flow": null,
            "grid_auto_rows": null,
            "grid_column": null,
            "grid_gap": null,
            "grid_row": null,
            "grid_template_areas": null,
            "grid_template_columns": null,
            "grid_template_rows": null,
            "height": null,
            "justify_content": null,
            "justify_items": null,
            "left": null,
            "margin": null,
            "max_height": null,
            "max_width": null,
            "min_height": null,
            "min_width": null,
            "object_fit": null,
            "object_position": null,
            "order": null,
            "overflow": null,
            "overflow_x": null,
            "overflow_y": null,
            "padding": null,
            "right": null,
            "top": null,
            "visibility": null,
            "width": null
          }
        },
        "61fbe4563b8c47e28f6dbffaf1d1e183": {
          "model_module": "@jupyter-widgets/controls",
          "model_name": "DescriptionStyleModel",
          "model_module_version": "1.5.0",
          "state": {
            "_model_module": "@jupyter-widgets/controls",
            "_model_module_version": "1.5.0",
            "_model_name": "DescriptionStyleModel",
            "_view_count": null,
            "_view_module": "@jupyter-widgets/base",
            "_view_module_version": "1.2.0",
            "_view_name": "StyleView",
            "description_width": ""
          }
        },
        "d0abbade50c54c6594b8a67d707daa8d": {
          "model_module": "@jupyter-widgets/controls",
          "model_name": "HBoxModel",
          "model_module_version": "1.5.0",
          "state": {
            "_dom_classes": [],
            "_model_module": "@jupyter-widgets/controls",
            "_model_module_version": "1.5.0",
            "_model_name": "HBoxModel",
            "_view_count": null,
            "_view_module": "@jupyter-widgets/controls",
            "_view_module_version": "1.5.0",
            "_view_name": "HBoxView",
            "box_style": "",
            "children": [
              "IPY_MODEL_56d317eadef644e48f89ecc3cb979e04",
              "IPY_MODEL_3999f697b0164962b90f8fcd2d0d41d9",
              "IPY_MODEL_e5207c5d862747bf895d2eec7bbf23cf"
            ],
            "layout": "IPY_MODEL_5b8465114d8f466c99828149d1c95b61"
          }
        },
        "56d317eadef644e48f89ecc3cb979e04": {
          "model_module": "@jupyter-widgets/controls",
          "model_name": "HTMLModel",
          "model_module_version": "1.5.0",
          "state": {
            "_dom_classes": [],
            "_model_module": "@jupyter-widgets/controls",
            "_model_module_version": "1.5.0",
            "_model_name": "HTMLModel",
            "_view_count": null,
            "_view_module": "@jupyter-widgets/controls",
            "_view_module_version": "1.5.0",
            "_view_name": "HTMLView",
            "description": "",
            "description_tooltip": null,
            "layout": "IPY_MODEL_0b4d466697714e7c920ebe5155c6ccc3",
            "placeholder": "​",
            "style": "IPY_MODEL_c7fa642170454ba79fa4011959838ada",
            "value": "Downloading: 100%"
          }
        },
        "3999f697b0164962b90f8fcd2d0d41d9": {
          "model_module": "@jupyter-widgets/controls",
          "model_name": "FloatProgressModel",
          "model_module_version": "1.5.0",
          "state": {
            "_dom_classes": [],
            "_model_module": "@jupyter-widgets/controls",
            "_model_module_version": "1.5.0",
            "_model_name": "FloatProgressModel",
            "_view_count": null,
            "_view_module": "@jupyter-widgets/controls",
            "_view_module_version": "1.5.0",
            "_view_name": "ProgressView",
            "bar_style": "success",
            "description": "",
            "description_tooltip": null,
            "layout": "IPY_MODEL_0d65f16aee0b4c9caccc47315fd85ad2",
            "max": 672271273,
            "min": 0,
            "orientation": "horizontal",
            "style": "IPY_MODEL_66cce54dc5e24023bd5d21bb1bb5caa4",
            "value": 672271273
          }
        },
        "e5207c5d862747bf895d2eec7bbf23cf": {
          "model_module": "@jupyter-widgets/controls",
          "model_name": "HTMLModel",
          "model_module_version": "1.5.0",
          "state": {
            "_dom_classes": [],
            "_model_module": "@jupyter-widgets/controls",
            "_model_module_version": "1.5.0",
            "_model_name": "HTMLModel",
            "_view_count": null,
            "_view_module": "@jupyter-widgets/controls",
            "_view_module_version": "1.5.0",
            "_view_name": "HTMLView",
            "description": "",
            "description_tooltip": null,
            "layout": "IPY_MODEL_5ecc52e3b23842cf8f1fdd6421fac62f",
            "placeholder": "​",
            "style": "IPY_MODEL_6fe1f97950a64acc9a4588aecb6c3f35",
            "value": " 641M/641M [00:12&lt;00:00, 55.5MB/s]"
          }
        },
        "5b8465114d8f466c99828149d1c95b61": {
          "model_module": "@jupyter-widgets/base",
          "model_name": "LayoutModel",
          "model_module_version": "1.2.0",
          "state": {
            "_model_module": "@jupyter-widgets/base",
            "_model_module_version": "1.2.0",
            "_model_name": "LayoutModel",
            "_view_count": null,
            "_view_module": "@jupyter-widgets/base",
            "_view_module_version": "1.2.0",
            "_view_name": "LayoutView",
            "align_content": null,
            "align_items": null,
            "align_self": null,
            "border": null,
            "bottom": null,
            "display": null,
            "flex": null,
            "flex_flow": null,
            "grid_area": null,
            "grid_auto_columns": null,
            "grid_auto_flow": null,
            "grid_auto_rows": null,
            "grid_column": null,
            "grid_gap": null,
            "grid_row": null,
            "grid_template_areas": null,
            "grid_template_columns": null,
            "grid_template_rows": null,
            "height": null,
            "justify_content": null,
            "justify_items": null,
            "left": null,
            "margin": null,
            "max_height": null,
            "max_width": null,
            "min_height": null,
            "min_width": null,
            "object_fit": null,
            "object_position": null,
            "order": null,
            "overflow": null,
            "overflow_x": null,
            "overflow_y": null,
            "padding": null,
            "right": null,
            "top": null,
            "visibility": null,
            "width": null
          }
        },
        "0b4d466697714e7c920ebe5155c6ccc3": {
          "model_module": "@jupyter-widgets/base",
          "model_name": "LayoutModel",
          "model_module_version": "1.2.0",
          "state": {
            "_model_module": "@jupyter-widgets/base",
            "_model_module_version": "1.2.0",
            "_model_name": "LayoutModel",
            "_view_count": null,
            "_view_module": "@jupyter-widgets/base",
            "_view_module_version": "1.2.0",
            "_view_name": "LayoutView",
            "align_content": null,
            "align_items": null,
            "align_self": null,
            "border": null,
            "bottom": null,
            "display": null,
            "flex": null,
            "flex_flow": null,
            "grid_area": null,
            "grid_auto_columns": null,
            "grid_auto_flow": null,
            "grid_auto_rows": null,
            "grid_column": null,
            "grid_gap": null,
            "grid_row": null,
            "grid_template_areas": null,
            "grid_template_columns": null,
            "grid_template_rows": null,
            "height": null,
            "justify_content": null,
            "justify_items": null,
            "left": null,
            "margin": null,
            "max_height": null,
            "max_width": null,
            "min_height": null,
            "min_width": null,
            "object_fit": null,
            "object_position": null,
            "order": null,
            "overflow": null,
            "overflow_x": null,
            "overflow_y": null,
            "padding": null,
            "right": null,
            "top": null,
            "visibility": null,
            "width": null
          }
        },
        "c7fa642170454ba79fa4011959838ada": {
          "model_module": "@jupyter-widgets/controls",
          "model_name": "DescriptionStyleModel",
          "model_module_version": "1.5.0",
          "state": {
            "_model_module": "@jupyter-widgets/controls",
            "_model_module_version": "1.5.0",
            "_model_name": "DescriptionStyleModel",
            "_view_count": null,
            "_view_module": "@jupyter-widgets/base",
            "_view_module_version": "1.2.0",
            "_view_name": "StyleView",
            "description_width": ""
          }
        },
        "0d65f16aee0b4c9caccc47315fd85ad2": {
          "model_module": "@jupyter-widgets/base",
          "model_name": "LayoutModel",
          "model_module_version": "1.2.0",
          "state": {
            "_model_module": "@jupyter-widgets/base",
            "_model_module_version": "1.2.0",
            "_model_name": "LayoutModel",
            "_view_count": null,
            "_view_module": "@jupyter-widgets/base",
            "_view_module_version": "1.2.0",
            "_view_name": "LayoutView",
            "align_content": null,
            "align_items": null,
            "align_self": null,
            "border": null,
            "bottom": null,
            "display": null,
            "flex": null,
            "flex_flow": null,
            "grid_area": null,
            "grid_auto_columns": null,
            "grid_auto_flow": null,
            "grid_auto_rows": null,
            "grid_column": null,
            "grid_gap": null,
            "grid_row": null,
            "grid_template_areas": null,
            "grid_template_columns": null,
            "grid_template_rows": null,
            "height": null,
            "justify_content": null,
            "justify_items": null,
            "left": null,
            "margin": null,
            "max_height": null,
            "max_width": null,
            "min_height": null,
            "min_width": null,
            "object_fit": null,
            "object_position": null,
            "order": null,
            "overflow": null,
            "overflow_x": null,
            "overflow_y": null,
            "padding": null,
            "right": null,
            "top": null,
            "visibility": null,
            "width": null
          }
        },
        "66cce54dc5e24023bd5d21bb1bb5caa4": {
          "model_module": "@jupyter-widgets/controls",
          "model_name": "ProgressStyleModel",
          "model_module_version": "1.5.0",
          "state": {
            "_model_module": "@jupyter-widgets/controls",
            "_model_module_version": "1.5.0",
            "_model_name": "ProgressStyleModel",
            "_view_count": null,
            "_view_module": "@jupyter-widgets/base",
            "_view_module_version": "1.2.0",
            "_view_name": "StyleView",
            "bar_color": null,
            "description_width": ""
          }
        },
        "5ecc52e3b23842cf8f1fdd6421fac62f": {
          "model_module": "@jupyter-widgets/base",
          "model_name": "LayoutModel",
          "model_module_version": "1.2.0",
          "state": {
            "_model_module": "@jupyter-widgets/base",
            "_model_module_version": "1.2.0",
            "_model_name": "LayoutModel",
            "_view_count": null,
            "_view_module": "@jupyter-widgets/base",
            "_view_module_version": "1.2.0",
            "_view_name": "LayoutView",
            "align_content": null,
            "align_items": null,
            "align_self": null,
            "border": null,
            "bottom": null,
            "display": null,
            "flex": null,
            "flex_flow": null,
            "grid_area": null,
            "grid_auto_columns": null,
            "grid_auto_flow": null,
            "grid_auto_rows": null,
            "grid_column": null,
            "grid_gap": null,
            "grid_row": null,
            "grid_template_areas": null,
            "grid_template_columns": null,
            "grid_template_rows": null,
            "height": null,
            "justify_content": null,
            "justify_items": null,
            "left": null,
            "margin": null,
            "max_height": null,
            "max_width": null,
            "min_height": null,
            "min_width": null,
            "object_fit": null,
            "object_position": null,
            "order": null,
            "overflow": null,
            "overflow_x": null,
            "overflow_y": null,
            "padding": null,
            "right": null,
            "top": null,
            "visibility": null,
            "width": null
          }
        },
        "6fe1f97950a64acc9a4588aecb6c3f35": {
          "model_module": "@jupyter-widgets/controls",
          "model_name": "DescriptionStyleModel",
          "model_module_version": "1.5.0",
          "state": {
            "_model_module": "@jupyter-widgets/controls",
            "_model_module_version": "1.5.0",
            "_model_name": "DescriptionStyleModel",
            "_view_count": null,
            "_view_module": "@jupyter-widgets/base",
            "_view_module_version": "1.2.0",
            "_view_name": "StyleView",
            "description_width": ""
          }
        }
      }
    }
  },
  "nbformat": 4,
  "nbformat_minor": 0
}